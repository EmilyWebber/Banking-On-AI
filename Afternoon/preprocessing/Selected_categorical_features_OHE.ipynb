{
 "cells": [
  {
   "cell_type": "markdown",
   "metadata": {},
   "source": [
    "###One-hot Encoding Selected Categorial Features\n",
    "This notebook is to perform one-hot encoding for those categorical features selected using xgboost (xgb) and random forest (rf). Different combinations of the features selected by these two methods are also considered, including \n",
    "rf_or_xgb: all the features selected by rf or xgb.\n",
    "rf_and_xgb: the features selected by both rf and xgb.\n",
    "rf: the features selected by rf.\n",
    "xgb: the features selected by xgb. "
   ]
  },
  {
   "cell_type": "code",
   "execution_count": 1,
   "metadata": {
    "collapsed": true
   },
   "outputs": [],
   "source": [
    "import pandas as pd\n",
    "import numpy as np\n",
    "import matplotlib.pylab as plt\n",
    "#import seaborn as sns\n",
    "%matplotlib inline\n",
    "import requests\n",
    "#from pattern import web\n",
    "import operator\n",
    "from sklearn.preprocessing import LabelEncoder\n",
    "from sklearn.preprocessing import OneHotEncoder,StandardScaler\n",
    "from sklearn.feature_extraction import DictVectorizer\n",
    "from sklearn.feature_selection import VarianceThreshold\n",
    "from sklearn import cross_validation\n",
    "import gc\n",
    "from sklearn import metrics\n",
    "from scipy import stats\n",
    "from sklearn.base import TransformerMixin\n",
    "from datetime import datetime as dt\n",
    "from math import isnan\n",
    "from numpy import ma\n",
    "from scipy.sparse import hstack,csr_matrix\n",
    "import pickle"
   ]
  },
  {
   "cell_type": "code",
   "execution_count": 2,
   "metadata": {
    "collapsed": false
   },
   "outputs": [],
   "source": [
    "cat_cols_rf = pickle.load(open(\"cat_cols_selected_rf.p\",\"rb\"))"
   ]
  },
  {
   "cell_type": "code",
   "execution_count": 3,
   "metadata": {
    "collapsed": true
   },
   "outputs": [],
   "source": [
    "cat_cols_xgb = pickle.load(open(\"cat_cols_selected_xgb.p\",\"rb\"))"
   ]
  },
  {
   "cell_type": "code",
   "execution_count": 4,
   "metadata": {
    "collapsed": false
   },
   "outputs": [
    {
     "name": "stderr",
     "output_type": "stream",
     "text": [
      "C:\\Anaconda3\\envs\\python2\\lib\\site-packages\\pandas\\io\\parsers.py:1170: DtypeWarning: Columns (8,9,10,11,12,43,157,196,214,225,228,229,231,235,238) have mixed types. Specify dtype option on import or set low_memory=False.\n",
      "  data = self._reader.read(nrows)\n"
     ]
    }
   ],
   "source": [
    "na_values = ['[]','',-1]\n",
    "train = pd.read_csv('./train.csv',na_values = na_values)"
   ]
  },
  {
   "cell_type": "code",
   "execution_count": 5,
   "metadata": {
    "collapsed": false
   },
   "outputs": [
    {
     "name": "stderr",
     "output_type": "stream",
     "text": [
      "C:\\Anaconda3\\envs\\python2\\lib\\site-packages\\pandas\\io\\parsers.py:1170: DtypeWarning: Columns (8,9,10,11,12,43,157,167,177,196,214,225,228,229,231,235,238) have mixed types. Specify dtype option on import or set low_memory=False.\n",
      "  data = self._reader.read(nrows)\n"
     ]
    }
   ],
   "source": [
    "test = pd.read_csv('./test.csv',na_values = na_values)"
   ]
  },
  {
   "cell_type": "code",
   "execution_count": 6,
   "metadata": {
    "collapsed": true
   },
   "outputs": [],
   "source": [
    "xtrain = train.drop(['target','ID'],axis = 1)\n",
    "indices_train = xtrain.index #to be used later for separating train and test data parts"
   ]
  },
  {
   "cell_type": "code",
   "execution_count": 7,
   "metadata": {
    "collapsed": true
   },
   "outputs": [],
   "source": [
    "xtest = test.drop(['ID'],axis = 1)\n",
    "#shift the index of test data before concat\n",
    "indices_test = xtest.index\n",
    "indices_test = indices_test + xtrain.shape[0] \n",
    "xtest.index = indices_test"
   ]
  },
  {
   "cell_type": "code",
   "execution_count": 8,
   "metadata": {
    "collapsed": true
   },
   "outputs": [],
   "source": [
    "#release memory\n",
    "%xdel train\n",
    "%xdel test"
   ]
  },
  {
   "cell_type": "code",
   "execution_count": 9,
   "metadata": {
    "collapsed": false
   },
   "outputs": [],
   "source": [
    "cat_cols_rf = cat_cols_rf.tolist()"
   ]
  },
  {
   "cell_type": "code",
   "execution_count": 10,
   "metadata": {
    "collapsed": true
   },
   "outputs": [],
   "source": [
    "cat_cols_xgb = cat_cols_xgb.tolist()"
   ]
  },
  {
   "cell_type": "code",
   "execution_count": 11,
   "metadata": {
    "collapsed": true
   },
   "outputs": [],
   "source": [
    "cat_cols_rf_plus_xgb = list(set(cat_cols_rf + cat_cols_xgb))"
   ]
  },
  {
   "cell_type": "code",
   "execution_count": 12,
   "metadata": {
    "collapsed": false
   },
   "outputs": [
    {
     "data": {
      "text/plain": [
       "['VAR_0005',\n",
       " 'VAR_0237',\n",
       " 'VAR_0232',\n",
       " 'VAR_1934',\n",
       " 'VAR_0342',\n",
       " 'VAR_0274',\n",
       " 'VAR_0467',\n",
       " 'VAR_0354',\n",
       " 'VAR_0352',\n",
       " 'VAR_0353']"
      ]
     },
     "execution_count": 12,
     "metadata": {},
     "output_type": "execute_result"
    }
   ],
   "source": [
    "cat_cols_rf_plus_xgb"
   ]
  },
  {
   "cell_type": "code",
   "execution_count": 13,
   "metadata": {
    "collapsed": false
   },
   "outputs": [
    {
     "data": {
      "text/html": [
       "<div>\n",
       "<table border=\"1\" class=\"dataframe\">\n",
       "  <thead>\n",
       "    <tr style=\"text-align: right;\">\n",
       "      <th></th>\n",
       "      <th>VAR_0005</th>\n",
       "      <th>VAR_0237</th>\n",
       "      <th>VAR_0232</th>\n",
       "      <th>VAR_1934</th>\n",
       "      <th>VAR_0342</th>\n",
       "      <th>VAR_0274</th>\n",
       "      <th>VAR_0467</th>\n",
       "      <th>VAR_0354</th>\n",
       "      <th>VAR_0352</th>\n",
       "      <th>VAR_0353</th>\n",
       "    </tr>\n",
       "  </thead>\n",
       "  <tbody>\n",
       "    <tr>\n",
       "      <th>0</th>\n",
       "      <td>C</td>\n",
       "      <td>FL</td>\n",
       "      <td>True</td>\n",
       "      <td>IAPS</td>\n",
       "      <td>CF</td>\n",
       "      <td>FL</td>\n",
       "      <td>NaN</td>\n",
       "      <td>O</td>\n",
       "      <td>O</td>\n",
       "      <td>U</td>\n",
       "    </tr>\n",
       "    <tr>\n",
       "      <th>1</th>\n",
       "      <td>B</td>\n",
       "      <td>CA</td>\n",
       "      <td>False</td>\n",
       "      <td>IAPS</td>\n",
       "      <td>EC</td>\n",
       "      <td>MI</td>\n",
       "      <td>Discharged</td>\n",
       "      <td>R</td>\n",
       "      <td>O</td>\n",
       "      <td>R</td>\n",
       "    </tr>\n",
       "    <tr>\n",
       "      <th>2</th>\n",
       "      <td>C</td>\n",
       "      <td>WV</td>\n",
       "      <td>True</td>\n",
       "      <td>IAPS</td>\n",
       "      <td>UU</td>\n",
       "      <td>WV</td>\n",
       "      <td>NaN</td>\n",
       "      <td>NaN</td>\n",
       "      <td>R</td>\n",
       "      <td>R</td>\n",
       "    </tr>\n",
       "    <tr>\n",
       "      <th>3</th>\n",
       "      <td>C</td>\n",
       "      <td>TX</td>\n",
       "      <td>False</td>\n",
       "      <td>RCC</td>\n",
       "      <td>NaN</td>\n",
       "      <td>TX</td>\n",
       "      <td>NaN</td>\n",
       "      <td>NaN</td>\n",
       "      <td>R</td>\n",
       "      <td>R</td>\n",
       "    </tr>\n",
       "    <tr>\n",
       "      <th>4</th>\n",
       "      <td>N</td>\n",
       "      <td>IL</td>\n",
       "      <td>True</td>\n",
       "      <td>BRANCH</td>\n",
       "      <td>NaN</td>\n",
       "      <td>IL</td>\n",
       "      <td>NaN</td>\n",
       "      <td>O</td>\n",
       "      <td>R</td>\n",
       "      <td>U</td>\n",
       "    </tr>\n",
       "  </tbody>\n",
       "</table>\n",
       "</div>"
      ],
      "text/plain": [
       "  VAR_0005 VAR_0237 VAR_0232 VAR_1934 VAR_0342 VAR_0274    VAR_0467 VAR_0354  \\\n",
       "0        C       FL     True     IAPS       CF       FL         NaN        O   \n",
       "1        B       CA    False     IAPS       EC       MI  Discharged        R   \n",
       "2        C       WV     True     IAPS       UU       WV         NaN      NaN   \n",
       "3        C       TX    False      RCC      NaN       TX         NaN      NaN   \n",
       "4        N       IL     True   BRANCH      NaN       IL         NaN        O   \n",
       "\n",
       "  VAR_0352 VAR_0353  \n",
       "0        O        U  \n",
       "1        O        R  \n",
       "2        R        R  \n",
       "3        R        R  \n",
       "4        R        U  "
      ]
     },
     "execution_count": 13,
     "metadata": {},
     "output_type": "execute_result"
    }
   ],
   "source": [
    "xtrain.loc[:,cat_cols_rf_plus_xgb].head()"
   ]
  },
  {
   "cell_type": "code",
   "execution_count": 14,
   "metadata": {
    "collapsed": true
   },
   "outputs": [],
   "source": [
    "cxtotal = pd.concat([xtrain.loc[:,cat_cols_rf_plus_xgb], xtest.loc[:,cat_cols_rf_plus_xgb]])\n",
    "indices_total = cxtotal.index"
   ]
  },
  {
   "cell_type": "code",
   "execution_count": 15,
   "metadata": {
    "collapsed": false
   },
   "outputs": [
    {
     "name": "stdout",
     "output_type": "stream",
     "text": [
      "(290463, 10)\n"
     ]
    }
   ],
   "source": [
    "%xdel xtest\n",
    "%xdel xtrain\n",
    "print (cxtotal.shape)"
   ]
  },
  {
   "cell_type": "code",
   "execution_count": 16,
   "metadata": {
    "collapsed": true
   },
   "outputs": [],
   "source": [
    "class CatVectorize(TransformerMixin):\n",
    "    def __init__(self):\n",
    "        \"\"\"\n",
    "        wrapper to use DictVectorizer to transform obj-type categorical features\n",
    "        \"\"\"\n",
    "    def fit(self,X,y=None):\n",
    "        return\n",
    "    \n",
    "    def cat_vectorize(self,X):\n",
    "        \"\"\"\n",
    "        vectorize the categorical features of the input dataframe\n",
    "        take the two columns VAR_0001, and VAR_0005 for example,\n",
    "            cat_vectorize(cxtrain,obj_cols[:2])\n",
    "            for each feature, each value is used to construct a binary feature, since there are 7 values in total\n",
    "            for the two features combined, the transformed matrix has seven columns, corresponding column values are\n",
    "            stored in encoder.feature_names\n",
    "\n",
    "        Notably, NA is encoded as a value by filling NAs with 'NA' first\n",
    "\n",
    "        inputs: df, dataframe; cols, list of columns to be transformed\n",
    "        output: data_mt, encoded sparse matrix, can be converted to array with \"toarray\" method\n",
    "                encoder.feature_names, explained above\n",
    "        \"\"\"\n",
    "        data = X.fillna('NA')\n",
    "        datadict = data.T.to_dict().values()\n",
    "        encoder = DictVectorizer()\n",
    "        data_mt = encoder.fit_transform(datadict)\n",
    "        return encoder.feature_names_,data_mt\n",
    "    \n",
    "    def transform(self,X,y=None,thresh=None):\n",
    "        \"\"\"\n",
    "        inputs\n",
    "            thresh: is the maximum num of values a column can have to be qualified for the transformation\n",
    "            columns that have more than thresh number of values are likely states, or description that may need NLP\n",
    "            X: df of categorical features\n",
    "        outputs:\n",
    "            X_vect, the sparse matrix contains only the converted features\n",
    "            other_cols, list of the other obj-type columns that have more than thresh number of values\n",
    "            feature_names, the corresponding feature values used as columns in X_vect\n",
    "        \"\"\"\n",
    "        if thresh:\n",
    "            value_counts = X.apply(lambda x: x.nunique(dropna = False))\n",
    "            obj_cols = value_counts[value_counts < thresh].index.tolist()\n",
    "            other_cols = list(set(X.columns).difference(set(obj_cols)))\n",
    "            X_to_trans = X[obj_cols]\n",
    "        else:\n",
    "            X_to_trans = X.copy()\n",
    "        feature_names,X_vect = self.cat_vectorize(X_to_trans)   \n",
    "        return X_vect,feature_names,other_cols"
   ]
  },
  {
   "cell_type": "code",
   "execution_count": 17,
   "metadata": {
    "collapsed": true
   },
   "outputs": [],
   "source": [
    "vect = CatVectorize()"
   ]
  },
  {
   "cell_type": "code",
   "execution_count": 18,
   "metadata": {
    "collapsed": false
   },
   "outputs": [],
   "source": [
    "obj_sparse_or,feature_names_or,other_cols_or = vect.transform(cxtotal,thresh = 60)"
   ]
  },
  {
   "cell_type": "code",
   "execution_count": 19,
   "metadata": {
    "collapsed": false
   },
   "outputs": [
    {
     "data": {
      "text/plain": [
       "(290463, 181)"
      ]
     },
     "execution_count": 19,
     "metadata": {},
     "output_type": "execute_result"
    }
   ],
   "source": [
    "obj_sparse_or.shape"
   ]
  },
  {
   "cell_type": "code",
   "execution_count": 20,
   "metadata": {
    "collapsed": true
   },
   "outputs": [],
   "source": [
    "obj_sparse_rf,feature_names_rf,other_cols_rf = vect.transform(cxtotal.loc[:,cat_cols_rf],thresh = 60)"
   ]
  },
  {
   "cell_type": "code",
   "execution_count": 21,
   "metadata": {
    "collapsed": false
   },
   "outputs": [
    {
     "data": {
      "text/plain": [
       "(290463, 27)"
      ]
     },
     "execution_count": 21,
     "metadata": {},
     "output_type": "execute_result"
    }
   ],
   "source": [
    "obj_sparse_rf.shape"
   ]
  },
  {
   "cell_type": "code",
   "execution_count": 22,
   "metadata": {
    "collapsed": true
   },
   "outputs": [],
   "source": [
    "obj_sparse_xgb,feature_names_xgb,other_cols_xgb = vect.transform(cxtotal.loc[:,cat_cols_xgb],thresh = 60)"
   ]
  },
  {
   "cell_type": "code",
   "execution_count": 23,
   "metadata": {
    "collapsed": false
   },
   "outputs": [
    {
     "data": {
      "text/plain": [
       "(290463, 163)"
      ]
     },
     "execution_count": 23,
     "metadata": {},
     "output_type": "execute_result"
    }
   ],
   "source": [
    "obj_sparse_xgb.shape"
   ]
  },
  {
   "cell_type": "code",
   "execution_count": 24,
   "metadata": {
    "collapsed": false
   },
   "outputs": [],
   "source": [
    "cat_cols_same = list(set(cat_cols_rf) & set(cat_cols_xgb))"
   ]
  },
  {
   "cell_type": "code",
   "execution_count": 25,
   "metadata": {
    "collapsed": false
   },
   "outputs": [
    {
     "data": {
      "text/plain": [
       "['VAR_0005', 'VAR_1934']"
      ]
     },
     "execution_count": 25,
     "metadata": {},
     "output_type": "execute_result"
    }
   ],
   "source": [
    "cat_cols_same"
   ]
  },
  {
   "cell_type": "code",
   "execution_count": 26,
   "metadata": {
    "collapsed": true
   },
   "outputs": [],
   "source": [
    "obj_sparse_and,feature_names_and,other_cols_and = vect.transform(cxtotal.loc[:,cat_cols_same],thresh = 60)"
   ]
  },
  {
   "cell_type": "code",
   "execution_count": 27,
   "metadata": {
    "collapsed": false
   },
   "outputs": [
    {
     "data": {
      "text/plain": [
       "(290463, 9)"
      ]
     },
     "execution_count": 27,
     "metadata": {},
     "output_type": "execute_result"
    }
   ],
   "source": [
    "obj_sparse_and.shape"
   ]
  },
  {
   "cell_type": "code",
   "execution_count": 28,
   "metadata": {
    "collapsed": true
   },
   "outputs": [],
   "source": [
    "obj_sparse_or_train = obj_sparse_or[:len(indices_train), :]\n",
    "obj_sparse_or_test = obj_sparse_or[len(indices_train):, :]"
   ]
  },
  {
   "cell_type": "code",
   "execution_count": 29,
   "metadata": {
    "collapsed": true
   },
   "outputs": [],
   "source": [
    "obj_sparse_rf_train = obj_sparse_rf[:len(indices_train), :]\n",
    "obj_sparse_rf_test = obj_sparse_rf[len(indices_train):, :]"
   ]
  },
  {
   "cell_type": "code",
   "execution_count": 30,
   "metadata": {
    "collapsed": true
   },
   "outputs": [],
   "source": [
    "obj_sparse_xgb_train = obj_sparse_xgb[:len(indices_train), :]\n",
    "obj_sparse_xgb_test = obj_sparse_xgb[len(indices_train):, :]"
   ]
  },
  {
   "cell_type": "code",
   "execution_count": 31,
   "metadata": {
    "collapsed": true
   },
   "outputs": [],
   "source": [
    "obj_sparse_and_train = obj_sparse_and[:len(indices_train), :]\n",
    "obj_sparse_and_test = obj_sparse_and[len(indices_train):, :]"
   ]
  },
  {
   "cell_type": "code",
   "execution_count": 32,
   "metadata": {
    "collapsed": false
   },
   "outputs": [],
   "source": [
    "with open('cat_sparse_rf_or_xgb_train2.dat', 'wb') as outfile1:\n",
    "    pickle.dump(obj_sparse_or_train, outfile1, protocol =2)"
   ]
  },
  {
   "cell_type": "code",
   "execution_count": 33,
   "metadata": {
    "collapsed": true
   },
   "outputs": [],
   "source": [
    "with open('cat_sparse_rf_or_xgb_test2.dat', 'wb') as outfile2:\n",
    "    pickle.dump(obj_sparse_or_test, outfile2, protocol =2)"
   ]
  },
  {
   "cell_type": "code",
   "execution_count": 34,
   "metadata": {
    "collapsed": true
   },
   "outputs": [],
   "source": [
    "with open('cat_sparse_rf_train2.dat', 'wb') as outfile3:\n",
    "    pickle.dump(obj_sparse_rf_train, outfile3, protocol =2)"
   ]
  },
  {
   "cell_type": "code",
   "execution_count": 35,
   "metadata": {
    "collapsed": true
   },
   "outputs": [],
   "source": [
    "with open('cat_sparse_rf_test2.dat', 'wb') as outfile4:\n",
    "    pickle.dump(obj_sparse_rf_test, outfile4, protocol =2)"
   ]
  },
  {
   "cell_type": "code",
   "execution_count": 36,
   "metadata": {
    "collapsed": true
   },
   "outputs": [],
   "source": [
    "with open('cat_sparse_xgb_train2.dat', 'wb') as outfile5:\n",
    "    pickle.dump(obj_sparse_xgb_train, outfile5, protocol =2)"
   ]
  },
  {
   "cell_type": "code",
   "execution_count": 37,
   "metadata": {
    "collapsed": true
   },
   "outputs": [],
   "source": [
    "with open('cat_sparse_xgb_test2.dat', 'wb') as outfile6:\n",
    "    pickle.dump(obj_sparse_xgb_test, outfile6, protocol =2)"
   ]
  },
  {
   "cell_type": "code",
   "execution_count": 38,
   "metadata": {
    "collapsed": false
   },
   "outputs": [],
   "source": [
    "with open('cat_sparse_rf_and_xgb_train2.dat', 'wb') as outfile7:\n",
    "    pickle.dump(obj_sparse_and_train, outfile7, protocol =2)"
   ]
  },
  {
   "cell_type": "code",
   "execution_count": 39,
   "metadata": {
    "collapsed": true
   },
   "outputs": [],
   "source": [
    "with open('cat_sparse_rf_and_xgb_test2.dat', 'wb') as outfile8:\n",
    "    pickle.dump(obj_sparse_and_test, outfile8, protocol =2)"
   ]
  },
  {
   "cell_type": "code",
   "execution_count": 40,
   "metadata": {
    "collapsed": false
   },
   "outputs": [
    {
     "data": {
      "text/plain": [
       "['VAR_1934', 'VAR_0237', 'VAR_0274', 'VAR_0005', 'VAR_0342']"
      ]
     },
     "execution_count": 40,
     "metadata": {},
     "output_type": "execute_result"
    }
   ],
   "source": [
    "cat_cols_xgb"
   ]
  },
  {
   "cell_type": "code",
   "execution_count": 41,
   "metadata": {
    "collapsed": false
   },
   "outputs": [
    {
     "data": {
      "text/plain": [
       "['VAR_0467',\n",
       " 'VAR_0232',\n",
       " 'VAR_1934',\n",
       " 'VAR_0354',\n",
       " 'VAR_0352',\n",
       " 'VAR_0353',\n",
       " 'VAR_0005']"
      ]
     },
     "execution_count": 41,
     "metadata": {},
     "output_type": "execute_result"
    }
   ],
   "source": [
    "cat_cols_rf"
   ]
  },
  {
   "cell_type": "code",
   "execution_count": 42,
   "metadata": {
    "collapsed": false
   },
   "outputs": [
    {
     "data": {
      "text/plain": [
       "(145232, 181)"
      ]
     },
     "execution_count": 42,
     "metadata": {},
     "output_type": "execute_result"
    }
   ],
   "source": [
    "obj_sparse_or_test.shape"
   ]
  },
  {
   "cell_type": "code",
   "execution_count": null,
   "metadata": {
    "collapsed": true
   },
   "outputs": [],
   "source": []
  }
 ],
 "metadata": {
  "kernelspec": {
   "display_name": "Python 2",
   "language": "python",
   "name": "python2"
  },
  "language_info": {
   "codemirror_mode": {
    "name": "ipython",
    "version": 2
   },
   "file_extension": ".py",
   "mimetype": "text/x-python",
   "name": "python",
   "nbconvert_exporter": "python",
   "pygments_lexer": "ipython2",
   "version": "2.7.10"
  }
 },
 "nbformat": 4,
 "nbformat_minor": 0
}
