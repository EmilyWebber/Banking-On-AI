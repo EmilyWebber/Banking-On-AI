{
 "cells": [
  {
   "cell_type": "code",
   "execution_count": 2,
   "metadata": {
    "collapsed": false
   },
   "outputs": [],
   "source": [
    "import pandas as pd\n",
    "import numpy as np\n",
    "import matplotlib.pylab as plt\n",
    "from scipy import stats,sparse\n",
    "from sklearn.base import TransformerMixin\n",
    "from datetime import datetime as dt\n",
    "from math import isnan\n",
    "from numpy import ma\n",
    "import pickle as pickle\n",
    "import xgboost as xgb\n",
    "import time\n",
    "from pandas import *\n",
    "from sklearn.preprocessing import LabelEncoder\n",
    "from sklearn.ensemble import RandomForestClassifier \n",
    "\n",
    "import json\n",
    "from sklearn.metrics import roc_curve, auc\n",
    "from re import sub\n",
    "from collections import defaultdict\n",
    "import scipy as sp\n",
    "\n",
    "from sklearn.cross_validation import StratifiedKFold,cross_val_score\n",
    "from sklearn.grid_search import GridSearchCV\n",
    "from sklearn.metrics import classification_report,confusion_matrix\n",
    "from sklearn import linear_model\n",
    "from sklearn import metrics"
   ]
  },
  {
   "cell_type": "code",
   "execution_count": 21,
   "metadata": {
    "collapsed": false
   },
   "outputs": [],
   "source": [
    "FeaturesSelected=np.load('./mostrecentinput/XGBoost_Oct172015212459_AUC_0.764813590574FeatNum199.p')\n",
    "X=np.load('./mostrecentinput/nxtrain_standard_original0.npy')\n",
    "X1= np.load('./mostrecentinput/nxtrain_standard_derived0.npy')\n",
    "X2=pd.read_pickle(\"./mostrecentinput/time_series_derived_standard_train2.dat\")\n",
    "X3=pd.read_pickle(\"./mostrecentinput/time_series_original_standard_train2.dat\")\n",
    "X4=pd.read_pickle(\"./mostrecentinput/cat_numeric_th60_standard_train2.dat\")\n",
    "X5=pd.read_pickle(\"./mostrecentinput/cat_le_train2.dat\") \n",
    "X=np.hstack((X,X1,X2,X3,X4,X5))\n",
    "y=pickle.load(open(\"./mostrecentinput/ytrain2.dat\",\"rb\"))\n",
    "xtrain=X[:,FeaturesSelected]\n",
    "del X,X1,X2,X3,X4,X5\n"
   ]
  },
  {
   "cell_type": "code",
   "execution_count": 23,
   "metadata": {
    "collapsed": false
   },
   "outputs": [],
   "source": [
    "X_test=np.load('./mostrecentinput/nxtest_standard_original0.npy')\n",
    "X_test1= np.load('./mostrecentinput/nxtest_standard_derived0.npy')\n",
    "X_test2=pd.read_pickle(\"./mostrecentinput/time_series_derived_standard_test2.dat\")\n",
    "X_test3=pd.read_pickle(\"./mostrecentinput/time_series_original_standard_test2.dat\")\n",
    "X_test4=pd.read_pickle(\"./mostrecentinput/cat_numeric_th60_standard_test2.dat\")\n",
    "X_test5=pd.read_pickle(\"./mostrecentinput/cat_le_test2.dat\") \n",
    "X_test=np.hstack((X_test,X_test1,X_test2,X_test3,X_test4,X_test5))\n",
    "\n",
    "xtest=X_test[:,FeaturesSelected]\n",
    "del X_test1,X_test2,X_test3,X_test4,X_test5\n",
    "TestID=pd.read_pickle(\"./mostrecentinput/TestID.p\")"
   ]
  },
  {
   "cell_type": "code",
   "execution_count": 17,
   "metadata": {
    "collapsed": false
   },
   "outputs": [],
   "source": [
    "trainpreds=pd.read_pickle('trainpreds_withoutsgd_0p784555_wl_.pickle')\n",
    "testpreds=pd.read_pickle('testpreds_withoutsgd_0p784555_wl_.pickle')\n",
    "xtrain=np.hstack((xtrain,trainpreds))\n",
    "xtest=np.hstack((xtest,testpreds))"
   ]
  },
  {
   "cell_type": "code",
   "execution_count": null,
   "metadata": {
    "collapsed": true
   },
   "outputs": [],
   "source": [
    "for randomstatenumber in [8421,45212,43454,65234,4546]:\n",
    "    KFoldNumber=3\n",
    "    num_boost=1000\n",
    "    kfold = StratifiedKFold(y, KFoldNumber,shuffle=True, random_state=randomstatenumber)\n",
    "    ypreds_test_wl=pd.DataFrame()\n",
    "    ypreds_train_wl=pd.DataFrame()\n",
    "    ypreds_cvindex_wl=pd.DataFrame()\n",
    "    AUCValues=np.zeros(KFoldNumber)\n",
    "    kfoldnum=0\n",
    "    train_predicted=np.zeros(y.shape)\n",
    "    params = { 'max_depth': 12, \n",
    "            'eta': 0.01, \n",
    "            'objective':'binary:logistic', \n",
    "            'subsample': 1,\n",
    "            'colsample_bytree': 0.4,\n",
    "            'eval_metric': 'auc',\n",
    "            'min_child_weight': 3\n",
    "           }\n",
    "\n",
    "    for train,cv in kfold:\n",
    "        kfoldnum=kfoldnum+1\n",
    "        cv_index=np.zeros(y.shape)\n",
    "\n",
    "        dtrain = xgb.DMatrix(xtrain[train,:], label=y[train])\n",
    "        clf = xgb.train(params=params,dtrain=dtrain, num_boost_round=num_boost)    \n",
    "\n",
    "        dfulltrain = xgb.DMatrix(xtrain, label=y)\n",
    "        preds_fulltrain = clf.predict(dfulltrain)    \n",
    "        dfulltest = xgb.DMatrix(xtest, label=np.zeros(xtest.shape[0]))\n",
    "        preds_fulltest = clf.predict(dfulltest)\n",
    "        preds_cv=preds_fulltrain[cv]\n",
    "        cv_index[cv]=1\n",
    "\n",
    "        AUC1=metrics.roc_auc_score(y[cv], preds_cv)\n",
    "\n",
    "        ypreds_test_wl['CV'+ str(kfoldnum)] = preds_fulltest\n",
    "        ypreds_train_wl['CV'+ str(kfoldnum)] = preds_fulltrain\n",
    "        ypreds_cvindex_wl['CV'+ str(kfoldnum)] = cv_index\n",
    "        AUCValues[kfoldnum-1]=float(AUC1)\n",
    "        print(AUCValues)\n",
    "\n",
    "    trainPredict=(ypreds_train_wl*ypreds_cvindex_wl).sum(axis=1)\n",
    "    testPredictMean=ypreds_test_wl.mean(axis=1)\n",
    "    AUC1=metrics.roc_auc_score(y, trainPredict)\n",
    "    print(AUC1)\n",
    "\n",
    "    TestPredict=pd.DataFrame()\n",
    "    TestPredict['ID']=TestID\n",
    "    TestPredict['Probability']=testPredictMean\n",
    "\n",
    "\n",
    "    str1=time.strftime(\"%b%d%Y%H%M%S\", time.localtime())\n",
    "    filename0='FinalModelPrediction_xgb_Meta'+str1+'_niter2000_AUC_0p'+ str(int(AUC1.mean()*1e6))\n",
    "    filename=filename0+ '.p'\n",
    "    pickle.dump((trainPredict,TestPredict,ypreds_train_wl,ypreds_test_wl,ypreds_cvindex_wl,AUCValues), \n",
    "                open(filename,'wb'), protocol =2) \n",
    "\n",
    "    pn='C:/Users/liw5/Dropbox/Bio_Physics_JailBreak/Kaggle/Final Prediction/'\n",
    "    save_train_name=pn + filename0 +'_wl_ypredtrain.pkl'\n",
    "    save_test_name=pn + filename0 +'_wl_ypredtest.pkl'\n",
    "\n",
    "    pickle.dump(trainPredict,open(save_train_name,'wb'),protocol=2)\n",
    "    pickle.dump(testPredictMean,open(save_test_name,'wb'),protocol=2)\n",
    "\n",
    "    print('Model prediction done!')"
   ]
  }
 ],
 "metadata": {
  "kernelspec": {
   "display_name": "Python 3",
   "language": "python",
   "name": "python3"
  },
  "language_info": {
   "codemirror_mode": {
    "name": "ipython",
    "version": 3
   },
   "file_extension": ".py",
   "mimetype": "text/x-python",
   "name": "python",
   "nbconvert_exporter": "python",
   "pygments_lexer": "ipython3",
   "version": "3.4.3"
  }
 },
 "nbformat": 4,
 "nbformat_minor": 0
}
