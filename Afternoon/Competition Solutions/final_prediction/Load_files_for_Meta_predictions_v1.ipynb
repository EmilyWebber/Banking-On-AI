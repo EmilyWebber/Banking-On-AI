{
 "cells": [
  {
   "cell_type": "code",
   "execution_count": 81,
   "metadata": {
    "collapsed": true
   },
   "outputs": [],
   "source": [
    "import pandas as pd\n",
    "import numpy as np\n",
    "import matplotlib.pylab as plt\n",
    "from scipy import stats,sparse\n",
    "from sklearn.base import TransformerMixin\n",
    "from datetime import datetime as dt\n",
    "from math import isnan\n",
    "from numpy import ma\n",
    "import pickle as pickle\n",
    "import xgboost as xgb\n",
    "import time\n",
    "from pandas import *\n",
    "from sklearn.preprocessing import LabelEncoder\n",
    "from sklearn.ensemble import RandomForestClassifier \n",
    "\n",
    "import json\n",
    "from sklearn.metrics import roc_curve, auc\n",
    "from re import sub\n",
    "from collections import defaultdict\n",
    "import scipy as sp\n",
    "\n",
    "from sklearn.cross_validation import StratifiedKFold,cross_val_score\n",
    "from sklearn.grid_search import GridSearchCV\n",
    "from sklearn.metrics import classification_report,confusion_matrix\n",
    "from sklearn import linear_model\n",
    "from sklearn import metrics\n",
    "from sklearn.preprocessing import OneHotEncoder,StandardScaler"
   ]
  },
  {
   "cell_type": "code",
   "execution_count": 84,
   "metadata": {
    "collapsed": false
   },
   "outputs": [
    {
     "name": "stdout",
     "output_type": "stream",
     "text": [
      "'pa-0p75277_wl',\n",
      "'pa-283',\n",
      "'pa-335',\n",
      "'rf-335',\n",
      "'rf-all',\n",
      "'sgd-0p768996_wl',\n",
      "'sgd-0p770277_wl',\n",
      "'sgd-283',\n",
      "'sgd-335',\n",
      "'sgd_0p769531_wl',\n",
      "'sgd_0p770356_wl',\n",
      "'sgd_0p771702_wl',\n",
      "'sgd_0p784555_wl',\n",
      "'svm-0p752773_wl',\n",
      "'svm-283',\n",
      "'svm-335',\n",
      "'xgb-665',\n",
      "'xgb-933',\n",
      "'xgb-all',\n",
      "'xgb_0p770751_wl',\n",
      "'xgb_0p784886_wl',\n",
      "'xgb_0p784916_wl',\n",
      "'xgb_0p785120_wl',\n",
      "'xgb_0p785155_wl',\n",
      "'xgb_0p785468_wl',\n",
      "'xgb_0p785604_wl',\n",
      "'xgb_0p785787_wl',\n",
      "'xgb_0p785890_wl',\n",
      "'xgb_0p786040_wl',\n",
      "'xgb_0p786290_wl',\n",
      "'xgb_lr_0p776415_wl',\n",
      "'xgb_lr_0p777125_50Segments_wl',\n",
      "'xgb_lr_0p777824_wl',\n",
      "'xgb_Oct192015040605_AUC_0p786733_sl',\n",
      "'xgb_Oct192015051026_AUC_0p786338_sl',\n",
      "'xgb_Oct192015052747_AUC_0p781263_sl',\n",
      "'xgb_Oct192015065533_AUC_0p787632_sl',\n",
      "'xgb_Oct192015065922_AUC_0p780004_sl',\n",
      "'xgb_Oct192015085532_AUC_0p787197_sl',\n",
      "'xgb_Oct192015101525_AUC_0p787437_sl',\n",
      "'xgb_Oct192015120134_AUC_0p785606_sl',\n",
      "'xgb_Oct192015120324_AUC_0p787252_sl',\n",
      "'xgb_Oct192015133017_AUC_0p787608_sl',\n",
      "'xgb_Oct192015134751_AUC_0p787695_sl',\n",
      "'xgb_Oct192015154017_AUC_0p787790_sl',\n"
     ]
    }
   ],
   "source": [
    "import os, sys\n",
    "pathname='C:\\\\Users\\\\liw5\\\\kaggle_10132015\\\\FinalPooledModels\\\\'\n",
    "dirs = os.listdir( pathname )\n",
    "for file in dirs:\n",
    "    if file[-15:] =='_ypredtrain.pkl':\n",
    "        print('\\''+ file[:-15]+'\\',')"
   ]
  },
  {
   "cell_type": "code",
   "execution_count": 82,
   "metadata": {
    "collapsed": false
   },
   "outputs": [],
   "source": [
    "bb=['pa-0p75277_wl',\n",
    "'pa-283',\n",
    "'pa-335',\n",
    "'rf-335',\n",
    "'rf-all',\n",
    "'sgd-0p768996_wl',\n",
    "'sgd-0p770277_wl',\n",
    "'sgd-283',\n",
    "'sgd-335',\n",
    "'sgd_0p769531_wl',\n",
    "'sgd_0p770356_wl',\n",
    "'sgd_0p771702_wl',\n",
    "'svm-0p752773_wl',\n",
    "'svm-283',\n",
    "'svm-335',\n",
    "'xgb-665',\n",
    "'xgb-933',\n",
    "'xgb-all',\n",
    "'xgb_0p770751_wl',\n",
    "'xgb_0p784886_wl',\n",
    "'xgb_0p784916_wl',\n",
    "'xgb_0p785120_wl',\n",
    "'xgb_0p785155_wl',\n",
    "'xgb_0p785468_wl',\n",
    "'xgb_0p785604_wl',\n",
    "'xgb_0p785787_wl',\n",
    "'xgb_0p785890_wl',\n",
    "'xgb_0p786040_wl',\n",
    "'xgb_0p786290_wl',\n",
    "'xgb_lr_0p776415_wl',\n",
    "'xgb_lr_0p777125_50Segments_wl',\n",
    "'xgb_lr_0p777824_wl',\n",
    "'xgb_Oct192015040605_AUC_0p786733_sl',\n",
    "'xgb_Oct192015051026_AUC_0p786338_sl',\n",
    "'xgb_Oct192015052747_AUC_0p781263_sl',\n",
    "'xgb_Oct192015065533_AUC_0p787632_sl',\n",
    "'xgb_Oct192015065922_AUC_0p780004_sl',\n",
    "'xgb_Oct192015085532_AUC_0p787197_sl',\n",
    "'xgb_Oct192015101525_AUC_0p787437_sl',\n",
    "'xgb_Oct192015120134_AUC_0p785606_sl',\n",
    "'xgb_Oct192015120324_AUC_0p787252_sl',\n",
    "'xgb_Oct192015133017_AUC_0p787608_sl',\n",
    "'xgb_Oct192015134751_AUC_0p787695_sl',\n",
    "'xgb_Oct192015154017_AUC_0p787790_sl']"
   ]
  },
  {
   "cell_type": "code",
   "execution_count": 85,
   "metadata": {
    "collapsed": false
   },
   "outputs": [],
   "source": [
    "trainpreds=pd.DataFrame()\n",
    "testpreds=pd.DataFrame()\n",
    "for i in range(len(bb)):\n",
    "    filename1=pathname+bb[i]+'_ypredtrain.pkl'\n",
    "    filename2=pathname+bb[i]+'_ypredtest.pkl'\n",
    "    trainpreds[('var' + str(i))]=np.array(pd.read_pickle(filename1))\n",
    "    testpreds[('var' + str(i))]=np.array(pd.read_pickle(filename2))\n",
    "trainpreds.to_pickle('trainpreds_withoutsgd_0p784555_wl_.pickle')\n",
    "testpreds.to_pickle('testpreds_withoutsgd_0p784555_wl_.pickle')    "
   ]
  }
 ],
 "metadata": {
  "kernelspec": {
   "display_name": "Python 3",
   "language": "python",
   "name": "python3"
  },
  "language_info": {
   "codemirror_mode": {
    "name": "ipython",
    "version": 3
   },
   "file_extension": ".py",
   "mimetype": "text/x-python",
   "name": "python",
   "nbconvert_exporter": "python",
   "pygments_lexer": "ipython3",
   "version": "3.4.3"
  }
 },
 "nbformat": 4,
 "nbformat_minor": 0
}
