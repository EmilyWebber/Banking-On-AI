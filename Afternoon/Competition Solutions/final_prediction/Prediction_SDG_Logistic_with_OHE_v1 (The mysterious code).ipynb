{
 "cells": [
  {
   "cell_type": "code",
   "execution_count": 2,
   "metadata": {
    "collapsed": false
   },
   "outputs": [],
   "source": [
    "import pandas as pd\n",
    "import numpy as np\n",
    "import matplotlib.pylab as plt\n",
    "from scipy import stats,sparse\n",
    "from sklearn.base import TransformerMixin\n",
    "from datetime import datetime as dt\n",
    "from math import isnan\n",
    "from numpy import ma\n",
    "import pickle as pickle\n",
    "import xgboost as xgb\n",
    "import time\n",
    "from pandas import *\n",
    "from sklearn.preprocessing import LabelEncoder\n",
    "from sklearn.ensemble import RandomForestClassifier \n",
    "\n",
    "import json\n",
    "from sklearn.metrics import roc_curve, auc\n",
    "from re import sub\n",
    "from collections import defaultdict\n",
    "import scipy as sp\n",
    "\n",
    "from sklearn.cross_validation import StratifiedKFold,cross_val_score\n",
    "from sklearn.grid_search import GridSearchCV\n",
    "from sklearn.metrics import classification_report,confusion_matrix\n",
    "from sklearn import linear_model\n",
    "from sklearn import metrics\n",
    "\n",
    "from sklearn.datasets import load_iris\n",
    "from sklearn.feature_selection import SelectKBest\n",
    "from sklearn.feature_selection import chi2\n",
    "from scipy import sparse\n",
    "from sklearn.preprocessing import OneHotEncoder,StandardScaler\n",
    "#from ModelClassifier import PAClassifier,SGDSVMClassifier,XGBoostClassifier"
   ]
  },
  {
   "cell_type": "code",
   "execution_count": 21,
   "metadata": {
    "collapsed": false
   },
   "outputs": [
    {
     "name": "stdout",
     "output_type": "stream",
     "text": [
      "Once deleted, variables cannot be recovered. Proceed (y/[n])? y\n"
     ]
    }
   ],
   "source": [
    "reset"
   ]
  },
  {
   "cell_type": "code",
   "execution_count": 23,
   "metadata": {
    "collapsed": false
   },
   "outputs": [],
   "source": [
    "test=np.load('Test_NumericalVariable_ConvertedCatVariables.p')\n",
    "train=np.load('Train_NumericalVariable_ConvertedCatVariables.p')\n",
    "y=pickle.load(open(\"./mostrecentinput/ytrain2.dat\",\"rb\"))"
   ]
  },
  {
   "cell_type": "code",
   "execution_count": 24,
   "metadata": {
    "collapsed": false
   },
   "outputs": [],
   "source": [
    "for seg in [1,2,3,4,5]:\n",
    "    if seg==1:\n",
    "        traintest1=np.vstack((train[:,:244],test[:,:244]))\n",
    "        traintest1=pd.DataFrame(traintest1)\n",
    "    elif seg==2:\n",
    "        traintest1=np.vstack((train[:,244:244*2],test[:,244:244*2]))\n",
    "        traintest1=pd.DataFrame(traintest1)\n",
    "    elif seg==3:\n",
    "        traintest1=np.vstack((train[:,244*2:244*3],test[:,244*2:244*3]))\n",
    "        traintest1=pd.DataFrame(traintest1)\n",
    "    elif seg==4:\n",
    "        traintest1=np.vstack((train[:,244*3:244*4],test[:,244*3:244*4]))\n",
    "        traintest1=pd.DataFrame(traintest1)\n",
    "    elif seg==5:\n",
    "        traintest1=np.vstack((train[:,244*4:],test[:,244*4:]))\n",
    "        traintest1=pd.DataFrame(traintest1)\n",
    "    else:\n",
    "        pass\n",
    "\n",
    "\n",
    "\n",
    "    traintest1=traintest1.apply(lambda x: x - x.min() if x.min() <= 0 else x)\n",
    "    hot = OneHotEncoder()\n",
    "    data_mt = hot.fit_transform(traintest1)\n",
    "    data_mt_train=data_mt[:145231,:]\n",
    "    data_mt_test=data_mt[145231:,:]\n",
    "    del data_mt\n",
    "\n",
    "    Kfeature=round(data_mt_train.shape[1]*0.2)\n",
    "    SLTKBest=SelectKBest(chi2, k=Kfeature)\n",
    "    SLTKBest.fit(data_mt_train, y)\n",
    "    SparseSelect=SLTKBest.get_support()\n",
    "\n",
    "    if seg==1:\n",
    "        Xtrain_sparse40Percent_Seg1 = data_mt_train[:,SparseSelect]\n",
    "        Xtest_sparse40Percent_Seg1 = data_mt_test[:,SparseSelect]\n",
    "    elif seg==2:\n",
    "        Xtrain_sparse40Percent_Seg2 = data_mt_train[:,SparseSelect]\n",
    "        Xtest_sparse40Percent_Seg2 = data_mt_test[:,SparseSelect]\n",
    "    elif seg==3:\n",
    "        Xtrain_sparse40Percent_Seg3 = data_mt_train[:,SparseSelect]\n",
    "        Xtest_sparse40Percent_Seg3 = data_mt_test[:,SparseSelect]\n",
    "    elif seg==4:\n",
    "        Xtrain_sparse40Percent_Seg4 = data_mt_train[:,SparseSelect]\n",
    "        Xtest_sparse40Percent_Seg4 = data_mt_test[:,SparseSelect]\n",
    "    elif seg==5:\n",
    "        Xtrain_sparse40Percent_Seg5 = data_mt_train[:,SparseSelect]\n",
    "        Xtest_sparse40Percent_Seg5 = data_mt_test[:,SparseSelect]\n",
    "    else:\n",
    "        pass\n",
    "\n",
    "del data_mt_train,data_mt_test\n",
    "del train,test"
   ]
  },
  {
   "cell_type": "code",
   "execution_count": 25,
   "metadata": {
    "collapsed": false
   },
   "outputs": [],
   "source": [
    "train40percent=sparse.csr_matrix(sparse.hstack([sparse.coo_matrix(Xtrain_sparse40Percent_Seg1),\n",
    "                                   sparse.coo_matrix(Xtrain_sparse40Percent_Seg2),             \n",
    "                                   sparse.coo_matrix(Xtrain_sparse40Percent_Seg3),\n",
    "                                   sparse.coo_matrix(Xtrain_sparse40Percent_Seg4),\n",
    "                                   sparse.coo_matrix(Xtrain_sparse40Percent_Seg5),]))\n",
    "\n",
    "del Xtrain_sparse40Percent_Seg1\n",
    "del Xtrain_sparse40Percent_Seg2\n",
    "del Xtrain_sparse40Percent_Seg3\n",
    "del Xtrain_sparse40Percent_Seg4\n",
    "del Xtrain_sparse40Percent_Seg5\n"
   ]
  },
  {
   "cell_type": "code",
   "execution_count": 26,
   "metadata": {
    "collapsed": true
   },
   "outputs": [],
   "source": [
    "Kfeature=round(train40percent.shape[1]*0.5)\n",
    "SLTKBest=SelectKBest(chi2, k=Kfeature)\n",
    "SLTKBest.fit(train40percent, y)\n",
    "SparseSelect=SLTKBest.get_support()"
   ]
  },
  {
   "cell_type": "code",
   "execution_count": 27,
   "metadata": {
    "collapsed": true
   },
   "outputs": [],
   "source": [
    "train10percent=train40percent[:,SparseSelect]\n",
    "del train10percent"
   ]
  },
  {
   "cell_type": "code",
   "execution_count": 9,
   "metadata": {
    "collapsed": false
   },
   "outputs": [
    {
     "name": "stdout",
     "output_type": "stream",
     "text": [
      "Once deleted, variables cannot be recovered. Proceed (y/[n])? y\n"
     ]
    }
   ],
   "source": [
    "reset"
   ]
  },
  {
   "cell_type": "code",
   "execution_count": 3,
   "metadata": {
    "collapsed": false
   },
   "outputs": [],
   "source": [
    "FeaturesSelected=np.load('./mostrecentinput/SDGLogistic_Oct172015032138_AUC_0.768923541152.p')\n",
    "\n",
    "X=np.load('./mostrecentinput/nxtrain_standard_original0.npy')\n",
    "X1= np.load('./mostrecentinput/nxtrain_standard_derived0.npy')\n",
    "X2=pd.read_pickle(\"./mostrecentinput/time_series_derived_standard_train2.dat\")\n",
    "X3=pd.read_pickle(\"./mostrecentinput/time_series_original_standard_train2.dat\")\n",
    "#X4=pd.read_pickle(\"./mostrecentinput/cat_numeric_th60_standard_train2.dat\")\n",
    "#X5=pd.read_pickle(\"./mostrecentinput/cat_le_train2.dat\") \n",
    "X=np.hstack((X,X1,X2,X3))\n",
    "\n",
    "y=pickle.load(open(\"./mostrecentinput/ytrain2.dat\",\"rb\"))\n",
    "xtrain0=X[:,FeaturesSelected]\n",
    "del X,X1,X2,X3"
   ]
  },
  {
   "cell_type": "code",
   "execution_count": 4,
   "metadata": {
    "collapsed": false
   },
   "outputs": [],
   "source": [
    "train10percent=pickle.load(open('train10percent.p','rb'))"
   ]
  },
  {
   "cell_type": "code",
   "execution_count": 5,
   "metadata": {
    "collapsed": false
   },
   "outputs": [],
   "source": [
    "xtrain=sparse.csr_matrix(sparse.hstack([sparse.coo_matrix(xtrain0),\n",
    "                                   sparse.coo_matrix(train10percent)]))\n",
    "del xtrain0,train10percent"
   ]
  },
  {
   "cell_type": "code",
   "execution_count": 6,
   "metadata": {
    "collapsed": true
   },
   "outputs": [],
   "source": [
    "test10percent=pickle.load(open('test10percent.p','rb'))"
   ]
  },
  {
   "cell_type": "code",
   "execution_count": 7,
   "metadata": {
    "collapsed": true
   },
   "outputs": [],
   "source": [
    "X_test=np.load('./mostrecentinput/nxtest_standard_original0.npy')\n",
    "X_test1= np.load('./mostrecentinput/nxtest_standard_derived0.npy')\n",
    "X_test2=pd.read_pickle(\"./mostrecentinput/time_series_derived_standard_test2.dat\")\n",
    "X_test3=pd.read_pickle(\"./mostrecentinput/time_series_original_standard_test2.dat\")\n",
    "#X_test4=pd.read_pickle(\"./mostrecentinput/cat_numeric_th60_standard_test2.dat\")\n",
    "#X_test5=pd.read_pickle(\"./mostrecentinput/cat_le_test2.dat\") \n",
    "X_test=np.hstack((X_test,X_test1,X_test2,X_test3))\n",
    "\n",
    "xtest0=X_test[:,FeaturesSelected]"
   ]
  },
  {
   "cell_type": "code",
   "execution_count": 9,
   "metadata": {
    "collapsed": true
   },
   "outputs": [],
   "source": [
    "del X_test,X_test1,X_test2,X_test3"
   ]
  },
  {
   "cell_type": "code",
   "execution_count": 10,
   "metadata": {
    "collapsed": true
   },
   "outputs": [],
   "source": [
    "xtest=sparse.csr_matrix(sparse.hstack([sparse.coo_matrix(xtest0),\n",
    "                                    sparse.coo_matrix(test10percent)]))"
   ]
  },
  {
   "cell_type": "code",
   "execution_count": null,
   "metadata": {
    "collapsed": false
   },
   "outputs": [],
   "source": [
    "''' \n",
    "Xtrain_sparseOrig=pd.read_pickle(\"./mostrecentinput/cat_sparse_th60_train2.dat\")\n",
    "\n",
    "SLTKBest=SelectKBest(chi2, k=100)\n",
    "SLTKBest.fit(Xtrain_sparseOrig, y)\n",
    "SparseSelect=SLTKBest.get_support()\n",
    "Xtrain_sparse100 = Xtrain_sparseOrig[:,SparseSelect]\n",
    "\n",
    "xtrain=sparse.csr_matrix(sparse.hstack([sparse.coo_matrix(xtrain0),\n",
    "                                   sparse.coo_matrix(Xtrain_sparse100),\n",
    "                                   sparse.coo_matrix(train10percent)]))\n",
    "\n",
    "del xtrain0,Xtrain_sparse100,train10percent\n",
    "\n",
    "X_test=np.load('./mostrecentinput/nxtest_standard_original0.npy')\n",
    "X_test1= np.load('./mostrecentinput/nxtest_standard_derived0.npy')\n",
    "X_test2=pd.read_pickle(\"./mostrecentinput/time_series_derived_standard_test2.dat\")\n",
    "X_test3=pd.read_pickle(\"./mostrecentinput/time_series_original_standard_test2.dat\")\n",
    "#X_test4=pd.read_pickle(\"./mostrecentinput/cat_numeric_th60_standard_test2.dat\")\n",
    "#X_test5=pd.read_pickle(\"./mostrecentinput/cat_le_test2.dat\") \n",
    "X_test=np.hstack((X_test,X_test1,X_test2,X_test3))\n",
    "\n",
    "xtest0=X_test[:,FeaturesSelected]\n",
    "del X_test1,X_test2,X_test3\n",
    "\n",
    "Xtest_sparseOrig=pd.read_pickle(\"./mostrecentinput/cat_sparse_th60_test2.dat\")\n",
    "\n",
    "Xest_sparse100 = Xtest_sparseOrig[:,SparseSelect]\n",
    "\n",
    "xtest=sparse.csr_matrix(sparse.hstack([sparse.coo_matrix(xtest0),\n",
    "                                   sparse.coo_matrix(Xest_sparse100),\n",
    "                                    sparse.coo_matrix(test10percent)]))\n",
    "del xtest0,Xest_sparse100,test10percent\n",
    "\n",
    "TestID=pd.read_pickle(\"./mostrecentinput/TestID.p\")\n",
    "'''"
   ]
  },
  {
   "cell_type": "code",
   "execution_count": 15,
   "metadata": {
    "collapsed": false
   },
   "outputs": [
    {
     "name": "stdout",
     "output_type": "stream",
     "text": [
      "[ 0.78137816  0.          0.        ]\n",
      "[ 0.78137816  0.78595064  0.        ]\n",
      "[ 0.78137816  0.78595064  0.78636347]\n",
      "0.784555656281\n",
      "Model prediction done!\n"
     ]
    }
   ],
   "source": [
    "n_iterations=500\n",
    "KFoldNumber=3\n",
    "kfold = StratifiedKFold(y, KFoldNumber,shuffle=True, random_state=42)\n",
    "ypreds_test_wl=pd.DataFrame()\n",
    "ypreds_train_wl=pd.DataFrame()\n",
    "ypreds_cvindex_wl=pd.DataFrame()\n",
    "AUCValues=np.zeros(KFoldNumber)\n",
    "\n",
    "#model = linear_model.SGDClassifier()\n",
    "clf = linear_model.SGDClassifier(loss='log',average=True,n_iter=n_iterations)\n",
    "\"\"\"\n",
    "clf = linear_model.SGDClassifier(alpha=0.0031622776601683794, average=True, class_weight='auto',\n",
    "       epsilon=0.1, eta0=0.0, fit_intercept=True, l1_ratio=0,\n",
    "       learning_rate='optimal', loss='log', n_iter=500, n_jobs=1,\n",
    "       penalty='elasticnet', power_t=0.5, random_state=123, shuffle=True,\n",
    "       verbose=0, warm_start=False)\n",
    "\n",
    "\"\"\"\n",
    "kfoldnum=0\n",
    "\n",
    "train_predicted=np.zeros(y.shape)\n",
    "\n",
    "for train,cv in kfold:\n",
    "    kfoldnum=kfoldnum+1\n",
    "    cv_index=np.zeros(y.shape)\n",
    "   \n",
    "    MODEL = clf.fit(xtrain[train,:], y[train])\n",
    "    preds_cv = MODEL.predict_proba(xtrain[cv,:])[:,1]\n",
    "    preds_fulltrain = MODEL.predict_proba(xtrain)[:,1]\n",
    "    preds_fulltest = MODEL.predict_proba(xtest)[:,1]\n",
    "    #preds_cv=preds_fulltrain[cv]\n",
    "    cv_index[cv]=1\n",
    "    AUC1=metrics.roc_auc_score(y[cv], preds_cv)\n",
    "    ypreds_test_wl['CV'+ str(kfoldnum)] = preds_fulltest\n",
    "    ypreds_train_wl['CV'+ str(kfoldnum)] = preds_fulltrain\n",
    "    ypreds_cvindex_wl['CV'+ str(kfoldnum)] = cv_index\n",
    "    AUCValues[kfoldnum-1]=float(AUC1)\n",
    "    print(AUCValues)\n",
    "\n",
    "trainPredict=(ypreds_train_wl*ypreds_cvindex_wl).sum(axis=1)\n",
    "testPredictMean=ypreds_test_wl.mean(axis=1)\n",
    "AUC1=metrics.roc_auc_score(y, trainPredict)\n",
    "print(AUC1)\n",
    "\n",
    "str1=time.strftime(\"%b%d%Y%H%M%S\", time.localtime())\n",
    "filename0='FinalModelPrediction_Logistic_YF'+str1+'_niter' + str(n_iterations)+ ' _AUC_0p'+ str(int(AUC1.mean()*1e6))\n",
    "filename=filename0 +'.p'\n",
    "\n",
    "pickle.dump((ypreds_train_wl,ypreds_test_wl,ypreds_cvindex_wl,AUCValues), \n",
    "            open(filename,'wb'), protocol =2) \n",
    "\n",
    "save_train_name=filename0 +'_wl_ypredtrain.pkl'\n",
    "save_test_name=filename0 +'_wl_ypredtest.pkl'\n",
    "\n",
    "pickle.dump(trainPredict,open(save_train_name,'wb'),protocol=2)\n",
    "pickle.dump(testPredictMean,open(save_test_name,'wb'),protocol=2)\n",
    "\n",
    "print('Model prediction done!')"
   ]
  },
  {
   "cell_type": "code",
   "execution_count": 1,
   "metadata": {
    "collapsed": false
   },
   "outputs": [
    {
     "name": "stdout",
     "output_type": "stream",
     "text": [
      "Once deleted, variables cannot be recovered. Proceed (y/[n])? y\n"
     ]
    }
   ],
   "source": [
    "reset"
   ]
  },
  {
   "cell_type": "code",
   "execution_count": null,
   "metadata": {
    "collapsed": true
   },
   "outputs": [],
   "source": []
  }
 ],
 "metadata": {
  "kernelspec": {
   "display_name": "Python 2",
   "language": "python",
   "name": "python2"
  },
  "language_info": {
   "codemirror_mode": {
    "name": "ipython",
    "version": 2
   },
   "file_extension": ".py",
   "mimetype": "text/x-python",
   "name": "python",
   "nbconvert_exporter": "python",
   "pygments_lexer": "ipython2",
   "version": "2.7.10"
  }
 },
 "nbformat": 4,
 "nbformat_minor": 0
}
