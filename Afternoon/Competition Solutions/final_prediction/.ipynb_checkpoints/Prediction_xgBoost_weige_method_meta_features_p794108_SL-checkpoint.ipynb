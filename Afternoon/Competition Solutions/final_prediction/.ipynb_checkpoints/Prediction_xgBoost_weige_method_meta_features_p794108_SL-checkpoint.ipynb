{
 "cells": [
  {
   "cell_type": "code",
   "execution_count": 1,
   "metadata": {
    "collapsed": false
   },
   "outputs": [],
   "source": [
    "import pandas as pd\n",
    "import numpy as np\n",
    "import matplotlib.pylab as plt\n",
    "from scipy import stats,sparse\n",
    "from sklearn.base import TransformerMixin\n",
    "from datetime import datetime as dt\n",
    "from math import isnan\n",
    "from numpy import ma\n",
    "import pickle as pickle\n",
    "import xgboost as xgb\n",
    "import time\n",
    "from pandas import *\n",
    "from sklearn.preprocessing import LabelEncoder\n",
    "from sklearn.ensemble import RandomForestClassifier \n",
    "\n",
    "import json\n",
    "from sklearn.metrics import roc_curve, auc\n",
    "from re import sub\n",
    "from collections import defaultdict\n",
    "import scipy as sp\n",
    "\n",
    "from sklearn.cross_validation import StratifiedKFold,cross_val_score\n",
    "from sklearn.grid_search import GridSearchCV\n",
    "from sklearn.metrics import classification_report,confusion_matrix\n",
    "from sklearn import linear_model\n",
    "from sklearn import metrics\n",
    "\n",
    "#from ModelClassifier import PAClassifier,SGDSVMClassifier,XGBoostClassifier"
   ]
  },
  {
   "cell_type": "code",
   "execution_count": 2,
   "metadata": {
    "collapsed": false
   },
   "outputs": [
    {
     "name": "stdout",
     "output_type": "stream",
     "text": [
      "(145231L,)\n"
     ]
    }
   ],
   "source": [
    "path_to_results = 'FinalPrediction/'\n",
    "\n",
    "test_ID = pickle.load(open(path_to_results+'xtest_ID.pkl','rb'))    \n",
    "y = pickle.load(open(path_to_results+'ytrain2.dat','rb'))  # ground-truth label of training data\n",
    "print(y.shape)"
   ]
  },
  {
   "cell_type": "code",
   "execution_count": 3,
   "metadata": {
    "collapsed": true
   },
   "outputs": [],
   "source": [
    "#unused: 'svm-0p752773_wl_', \"pa-283_\",\"pa-335_\",\"pa-0p75277_wl_\",\n",
    "#\"sgd-283_\",\"sgd-335_\",'sgd-0p768996_wl_', 'sgd_0p769531_wl_',\n",
    "#          \"rf-335_\",\"rf-all_\",\n",
    "#          \"xgb-665_\",\"xgb-933_\",\"xgb-all_\",\"xgb_0p770751_wl_\",\n",
    "\n",
    "results=[\"sgd_0p771702_wl_\",\"sgd-0p770277_wl_\",\"sgd_0p770356_wl_\",\n",
    "         \"xgb_0p784886_wl_\",\"xgb_0p785604_wl_\", \"xgb_0p785155_wl_\",\"xgb_0p785468_wl_\",\n",
    "         \"xgb_0p785787_wl_\",\"xgb_0p785890_wl_\",\"xgb_0p786040_wl_\",\"xgb_0p786290_wl_\",\n",
    "         \"xgb_lr_0p777824_wl_\",\"xgb_lr_0p777125_50Segments_wl_\",\"xgb_lr_0p776415_wl_\",\n",
    "         \"xgb_0p780004_sl_\", \"xgb_0p781263_sl_\", \"xgb_0p785606_sl_\", \"xgb_0p786338_sl_\", \n",
    "         \"xgb_0p786733_sl_\", \"xgb_0p787197_sl_\", \"xgb_0p787252_sl_\", \"xgb_0p787437_sl_\", \n",
    "         \"xgb_0p787608_sl_\", \"xgb_0p787632_sl_\", \"xgb_0p787695_sl_\", \"xgb_0p787790_sl_\", \n",
    "         \"xgb_0p779609_sl_\", \"xgb_0p779270_sl_\", \"xgb_0p778827_sl_\", \"xgb_0p778479_sl_\", \n",
    "         \"xgb_0p778008_sl_\", \"xgb_0p777976_sl_\", \"xgb_0p777858_sl_\", \"xgb_0p777086_sl_\",\n",
    "         \"xgb_0p777080_sl_\"\n",
    "        ]"
   ]
  },
  {
   "cell_type": "code",
   "execution_count": 4,
   "metadata": {
    "collapsed": false
   },
   "outputs": [
    {
     "data": {
      "text/plain": [
       "35"
      ]
     },
     "execution_count": 4,
     "metadata": {},
     "output_type": "execute_result"
    }
   ],
   "source": [
    "len(results)"
   ]
  },
  {
   "cell_type": "code",
   "execution_count": 5,
   "metadata": {
    "collapsed": false
   },
   "outputs": [
    {
     "name": "stdout",
     "output_type": "stream",
     "text": [
      "((145231L, 35L), (145232L, 35L))\n"
     ]
    }
   ],
   "source": [
    "nameypreds_train = 'ypredtrain.pkl'\n",
    "nameypreds_test = 'ypredtest.pkl'\n",
    "\n",
    "preds_train=[]\n",
    "preds_test =[]\n",
    "\n",
    "for i, model in enumerate(results):\n",
    "    ypred_train = list(pickle.load(open(path_to_results + model + nameypreds_train, 'rb')))\n",
    "#     print('Model-%d: The min and max of model %s ypred_train is: %f, %f'%(i+1, model,np.array(ypred_train).min(),np.array(ypred_train).max()))\n",
    "#     print('Model-%d: The AUC score for model %s is: %f\\n'%(i+1, model,metrics.roc_auc_score(y, ypred_train)))\n",
    "    preds_train.append(ypred_train)\n",
    "    preds_test.append(list(pickle.load(open(path_to_results + model + nameypreds_test, 'rb'))))\n",
    "        \n",
    "preds_train=np.array(preds_train).T\n",
    "preds_test=np.array(preds_test).T    \n",
    "print(preds_train.shape, preds_test.shape)"
   ]
  },
  {
   "cell_type": "code",
   "execution_count": 6,
   "metadata": {
    "collapsed": false
   },
   "outputs": [
    {
     "name": "stdout",
     "output_type": "stream",
     "text": [
      "(145231L, 45L)\n",
      "(145232L, 45L)\n"
     ]
    }
   ],
   "source": [
    "#load in the derived features\n",
    "X1= np.load('./pickledata/nxtrain_standard_derived0.npy')\n",
    "xtrain = np.hstack((preds_train, X1))\n",
    "\n",
    "#load in the derived features for test\n",
    "X_test1= np.load('./pickledata/nxtest_standard_derived0.npy')\n",
    "xtest = np.hstack((preds_test, X_test1))\n",
    "print(xtrain.shape)\n",
    "print(xtest.shape)"
   ]
  },
  {
   "cell_type": "code",
   "execution_count": 7,
   "metadata": {
    "collapsed": false
   },
   "outputs": [
    {
     "data": {
      "text/plain": [
       "(145231L,)"
      ]
     },
     "execution_count": 7,
     "metadata": {},
     "output_type": "execute_result"
    }
   ],
   "source": [
    "y.shape"
   ]
  },
  {
   "cell_type": "code",
   "execution_count": 10,
   "metadata": {
    "collapsed": false
   },
   "outputs": [],
   "source": [
    "max_depth_vals = 10\n",
    "subsample_vals = 0.9 #0.7:0.805704\n",
    "colsample_bytree_vals = 0.9\n",
    "gamma_vals =  0\n",
    "lambda_vals = 0   \n",
    "alpha_vals =  1\n",
    "\n",
    "num_boost_vals = 1000 \n",
    "eta_vals      =  0.01 \n",
    "min_child_weight_vals = 3 \n",
    "\n",
    "rand_state = 870928"
   ]
  },
  {
   "cell_type": "code",
   "execution_count": 11,
   "metadata": {
    "collapsed": false
   },
   "outputs": [
    {
     "name": "stdout",
     "output_type": "stream",
     "text": [
      "0.794108004445\n",
      "New Best AUC: 0.794108\n",
      "Model prediction done!\n"
     ]
    }
   ],
   "source": [
    "bestAUC=0\n",
    "KFoldNumber=5\n",
    "\n",
    "kfold = StratifiedKFold(y, KFoldNumber,shuffle=True, random_state = rand_state)\n",
    "ypreds_test_wl=pd.DataFrame()\n",
    "ypreds_train_wl=pd.DataFrame()\n",
    "ypreds_cvindex_wl=pd.DataFrame()\n",
    "AUCValues=np.zeros(KFoldNumber)\n",
    "\n",
    "kfoldnum=0\n",
    "\n",
    "train_predicted=np.zeros(y.shape)\n",
    "\n",
    "params = {'max_depth':max_depth_vals, \n",
    "          'eta':eta_vals, \n",
    "          'objective':'binary:logistic', \n",
    "          'subsample': subsample_vals,\n",
    "          'colsample_bytree': colsample_bytree_vals,\n",
    "          'gamma': gamma_vals,\n",
    "          'lambda': lambda_vals,\n",
    "          'alpha' : alpha_vals,\n",
    "          'eval_metric': 'auc',\n",
    "          'min_child_weight': min_child_weight_vals \n",
    "         }\n",
    "\n",
    "for train,cv in kfold:\n",
    "    kfoldnum=kfoldnum+1\n",
    "    cv_index=np.zeros(y.shape)\n",
    "\n",
    "    dtrain = xgb.DMatrix(xtrain[train,:], label=y[train])\n",
    "    clf = xgb.train(params=params,dtrain=dtrain, num_boost_round=num_boost_vals)    \n",
    "\n",
    "    dfulltrain = xgb.DMatrix(xtrain, label=y)\n",
    "    preds_fulltrain = clf.predict(dfulltrain)    \n",
    "    dfulltest = xgb.DMatrix(xtest, label=np.zeros(xtest.shape[0]))\n",
    "    preds_fulltest = clf.predict(dfulltest)\n",
    "    preds_cv=preds_fulltrain[cv]\n",
    "    cv_index[cv]=1\n",
    "\n",
    "    AUC1=metrics.roc_auc_score(y[cv], preds_cv)\n",
    "\n",
    "    ypreds_test_wl['CV'+ str(kfoldnum)] = preds_fulltest\n",
    "    ypreds_train_wl['CV'+ str(kfoldnum)] = preds_fulltrain\n",
    "    ypreds_cvindex_wl['CV'+ str(kfoldnum)] = cv_index\n",
    "    AUCValues[kfoldnum-1]=float(AUC1)\n",
    "\n",
    "trainPredict=(ypreds_train_wl*ypreds_cvindex_wl).sum(axis=1)\n",
    "testPredictMean=ypreds_test_wl.mean(axis=1)\n",
    "AUC1=metrics.roc_auc_score(y, trainPredict)\n",
    "print(AUC1)\n",
    "if AUC1 > bestAUC:\n",
    "    bestAUC=AUC1\n",
    "    print('New Best AUC: %f'%bestAUC)\n",
    "\n",
    "str1=time.strftime(\"%b%d%Y%H%M%S\", time.localtime())\n",
    "filename='meta_xgb_'+str1+'_AUC_0p'+ str(int(AUC1.mean()*1e6))+ '.p'\n",
    "pickle.dump((trainPredict,testPredictMean,ypreds_train_wl,ypreds_test_wl,ypreds_cvindex_wl,AUCValues), \n",
    "            open(\"meta_model/\" + filename,'wb'), protocol =2) \n",
    "\n",
    "print('Model prediction done!')\n"
   ]
  },
  {
   "cell_type": "code",
   "execution_count": null,
   "metadata": {
    "collapsed": false
   },
   "outputs": [],
   "source": []
  }
 ],
 "metadata": {
  "kernelspec": {
   "display_name": "Python 2",
   "language": "python",
   "name": "python2"
  },
  "language_info": {
   "codemirror_mode": {
    "name": "ipython",
    "version": 2
   },
   "file_extension": ".py",
   "mimetype": "text/x-python",
   "name": "python",
   "nbconvert_exporter": "python",
   "pygments_lexer": "ipython2",
   "version": "2.7.10"
  }
 },
 "nbformat": 4,
 "nbformat_minor": 0
}
