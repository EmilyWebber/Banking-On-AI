{
 "cells": [
  {
   "cell_type": "markdown",
   "metadata": {},
   "source": [
    "##Grid search refined.\n",
    "###In the last search, the best AUC is 0.773. Considering changing eta and num_boost_round"
   ]
  },
  {
   "cell_type": "code",
   "execution_count": 1,
   "metadata": {
    "collapsed": false
   },
   "outputs": [],
   "source": [
    "import pandas as pd\n",
    "import numpy as np\n",
    "import matplotlib.pylab as plt\n",
    "from scipy import stats,sparse\n",
    "from sklearn.base import TransformerMixin\n",
    "from datetime import datetime as dt\n",
    "from math import isnan\n",
    "from numpy import ma\n",
    "import cPickle as pickle\n",
    "import xgboost as xgb\n",
    "import time\n",
    "from pandas import *\n",
    "from sklearn.preprocessing import LabelEncoder\n",
    "from sklearn.ensemble import RandomForestClassifier "
   ]
  },
  {
   "cell_type": "code",
   "execution_count": 2,
   "metadata": {
    "collapsed": false
   },
   "outputs": [],
   "source": [
    "import json\n",
    "from sklearn.metrics import roc_curve, auc\n",
    "from re import sub\n",
    "from collections import defaultdict"
   ]
  },
  {
   "cell_type": "code",
   "execution_count": 3,
   "metadata": {
    "collapsed": true
   },
   "outputs": [],
   "source": [
    "from sklearn.cross_validation import StratifiedKFold,cross_val_score\n",
    "from sklearn.grid_search import GridSearchCV\n",
    "from sklearn.metrics import classification_report,confusion_matrix"
   ]
  },
  {
   "cell_type": "code",
   "execution_count": 4,
   "metadata": {
    "collapsed": true
   },
   "outputs": [],
   "source": [
    "class XGBoostClassifier():\n",
    "    def __init__(self, num_boost_round=40, **params):\n",
    "        self.clf = None\n",
    "        self.num_boost_round = num_boost_round\n",
    "        self.params = params\n",
    "        self.params.update({'objective': 'binary:logistic'})\n",
    " \n",
    "    def fit(self, X, y, num_boost_round=None):\n",
    "        num_boost_round = num_boost_round or self.num_boost_round\n",
    "        dtrain = xgb.DMatrix(X, label=y)\n",
    "        self.clf = xgb.train(params=self.params, dtrain=dtrain, num_boost_round=num_boost_round)\n",
    "        return self\n",
    " \n",
    "    def predict(self, X):\n",
    "        Y = self.predict_proba(X)\n",
    "        Y = np.argmax(Y, axis=1)\n",
    "        return Y\n",
    " \n",
    "    def predict_proba(self, X):\n",
    "        ypreds = np.zeros((X.shape[0],2))\n",
    "        dtest = xgb.DMatrix(X)\n",
    "        ypreds[:,1] = self.clf.predict(dtest)\n",
    "        ypreds[:,0] = 1- ypreds[:,1]        # return the proba for both classes\n",
    "        return ypreds\n",
    " \n",
    "    def score(self, X, y):\n",
    "        Y = self.predict_proba(X)\n",
    "        return 1 / self.logloss(y, Y)\n",
    " \n",
    "    def get_params(self, deep=True):\n",
    "        return self.params\n",
    " \n",
    "    def set_params(self, **params):\n",
    "    #    if 'num_boost_round' in params:\n",
    "    #        self.num_boost_round = params.pop('num_boost_round')\n",
    "        if 'objective' in params:\n",
    "            del params['objective']\n",
    "        self.params.update(params)\n",
    "        return self\n",
    "    \n",
    "    def logloss(self,y_true, Y_pred):\n",
    "        label2num = dict((name, i) for i, name in enumerate(sorted(set(y_true))))\n",
    "        return -1 * sum(math.log(y[label2num[label]]) if y[label2num[label]] > 0 else -np.inf for y, label in zip(Y_pred, y_true)) / len(Y_pred)"
   ]
  },
  {
   "cell_type": "markdown",
   "metadata": {},
   "source": [
    "## 0. Load data"
   ]
  },
  {
   "cell_type": "code",
   "execution_count": 5,
   "metadata": {
    "collapsed": true
   },
   "outputs": [],
   "source": [
    "LocalTest=False           # whether to do a local test\n",
    "SelectedFeature=True    # whether to use selected features\n",
    "njobs = 1\n",
    "nrows=5000   #this is for local test only"
   ]
  },
  {
   "cell_type": "code",
   "execution_count": 6,
   "metadata": {
    "collapsed": false
   },
   "outputs": [],
   "source": [
    "if LocalTest:\n",
    "    trainfile = 'C:/Huaixiu/Kaggle/GridSearch/data/train-5000.csv'\n",
    "    xtrain = read_csv(trainfile,nrows=nrows)\n",
    "    ytrain = xtrain['target']\n",
    "    \n",
    "    xtrain = xtrain.ix[:,1:-1]\n",
    "\n",
    "else:    \n",
    "    X=np.load('pickledata/nxtrain_standard_original0.npy')\n",
    "    X1= np.load('pickledata/nxtrain_standard_derived0.npy')\n",
    "    X2=pickle.load(open(\"pickledata/time_series_derived_standard_train2.dat\",\"rb\"))\n",
    "    X3=pickle.load(open(\"pickledata/time_series_original_standard_train2.dat\",\"rb\"))\n",
    "    X4=pickle.load(open(\"pickledata/cat_numeric_th60_standard_train2.dat\",\"rb\"))\n",
    "    X5=pickle.load(open(\"pickledata/cat_le_train2.dat\",\"rb\"))#label encoded categorical data 15 in total\n",
    "    ytrain=pickle.load(open(\"pickledata/ytrain2.dat\",\"rb\"))\n",
    "    \n",
    "    xtrain=np.hstack((X,X1,X2,X3,X4, X5))\n",
    "    \n",
    "    if SelectedFeature:\n",
    "        with open('features/XGB_335Features Oct172015_044255_AUC_0p76115.p', 'rb') as fid:\n",
    "            xgb_goodfeat1 = pickle.load(fid)\n",
    "        with open('features/XGB_482Features_backward_selection_XX1X2X3X4.p', 'rb') as fid2:\n",
    "            xgb_goodfeat2 = pickle.load(fid2)\n",
    "        with open('features/XGB_5features_backward_selection_X5.p', 'rb') as fid3:\n",
    "            xgb_goodfeat3 = pickle.load(fid3)\n",
    "        with open('features/SDGRF_Oct172015125634_AUC_0.755531555054_with_cat_variables.p', 'rb') as fid4:\n",
    "            xgb_goodfeat4 = pickle.load(fid4)\n",
    "\n",
    "        \n",
    "        good_features=list(set(list(xgb_goodfeat1) + xgb_goodfeat2 + xgb_goodfeat3 + list(xgb_goodfeat4)))\n",
    "        xtrain = xtrain[:,good_features]"
   ]
  },
  {
   "cell_type": "code",
   "execution_count": 7,
   "metadata": {
    "collapsed": false
   },
   "outputs": [
    {
     "name": "stdout",
     "output_type": "stream",
     "text": [
      "((145231L, 933L), (145231L,))\n"
     ]
    }
   ],
   "source": [
    "print(xtrain.shape, ytrain.shape)"
   ]
  },
  {
   "cell_type": "markdown",
   "metadata": {},
   "source": [
    "## 1. Grid search: XGBoost"
   ]
  },
  {
   "cell_type": "code",
   "execution_count": 8,
   "metadata": {
    "collapsed": false
   },
   "outputs": [],
   "source": [
    "if LocalTest:\n",
    "    param_xgb = {\n",
    "        'num_boost_round': [2],\n",
    "        'eta': [0.3],\n",
    "        'max_depth': [1],\n",
    "        'subsample': [0.9],\n",
    "        'colsample_bytree': [0.9],\n",
    "        'min_child_weight':[1],\n",
    "        'gamma':[10],\n",
    "        'objective':['binary:logistic'],\n",
    "        'eval_metric': ['auc']\n",
    "    }\n",
    "else:    \n",
    "    param_xgb = {\n",
    "        'num_boost_round': [300],   #originally 40\n",
    "        'eta': [0.01],       #originally 0.1\n",
    "        'max_depth': [14],  #originally 12, 14, opt 12. then 10. Goes down at 9 or 8.\n",
    "        'subsample': [1.0],  #originally 1\n",
    "        'colsample_bytree': [0.9],  #originally 0.6, 0.7, opt 0.6. Better at 0.5. 0.4. Goes down at 0.3.\n",
    "        'min_child_weight':[3],   #originally 5, 6, 7. opt 7. Better at 8. 9, goes down at 10.\n",
    "        'gamma':[0],               #originally 1\n",
    "        'max_delta_step' :[0],     #default 0. \n",
    "        'lambda': [0],           #l1 vs l2  #1 is better. \n",
    "        'objective':['binary:logistic'],\n",
    "        'eval_metric': ['auc']\n",
    "    }"
   ]
  },
  {
   "cell_type": "code",
   "execution_count": 9,
   "metadata": {
    "collapsed": false,
    "scrolled": true
   },
   "outputs": [
    {
     "name": "stdout",
     "output_type": "stream",
     "text": [
      "Starting GridSearch using XGBoost...\n",
      "Fitting 3 folds for each of 1 candidates, totalling 3 fits\n",
      "[CV] colsample_bytree=0.9, eval_metric=auc, max_delta_step=0, min_child_weight=3, subsample=1.0, eta=0.01, objective=binary:logistic, num_boost_round=300, max_depth=14, gamma=0, lambda=0 \n",
      "[CV]  colsample_bytree=0.9, eval_metric=auc, max_delta_step=0, min_child_weight=3, subsample=1.0, eta=0.01, objective=binary:logistic, num_boost_round=300, max_depth=14, gamma=0, lambda=0 - 2.3min\n",
      "[CV] colsample_bytree=0.9, eval_metric=auc, max_delta_step=0, min_child_weight=3, subsample=1.0, eta=0.01, objective=binary:logistic, num_boost_round=300, max_depth=14, gamma=0, lambda=0 \n",
      "[CV]  colsample_bytree=0.9, eval_metric=auc, max_delta_step=0, min_child_weight=3, subsample=1.0, eta=0.01, objective=binary:logistic, num_boost_round=300, max_depth=14, gamma=0, lambda=0 - 2.3min\n",
      "[CV] colsample_bytree=0.9, eval_metric=auc, max_delta_step=0, min_child_weight=3, subsample=1.0, eta=0.01, objective=binary:logistic, num_boost_round=300, max_depth=14, gamma=0, lambda=0 \n",
      "[CV]  colsample_bytree=0.9, eval_metric=auc, max_delta_step=0, min_child_weight=3, subsample=1.0, eta=0.01, objective=binary:logistic, num_boost_round=300, max_depth=14, gamma=0, lambda=0 - 2.4min"
     ]
    },
    {
     "name": "stderr",
     "output_type": "stream",
     "text": [
      "[Parallel(n_jobs=1)]: Done   1 jobs       | elapsed:  2.3min\n",
      "[Parallel(n_jobs=1)]: Done   3 out of   3 | elapsed:  7.0min finished\n"
     ]
    },
    {
     "name": "stdout",
     "output_type": "stream",
     "text": [
      "\n",
      "Completed GridSearch using XGBoost\n",
      "Total running time is 625 seconds\n",
      "\n"
     ]
    }
   ],
   "source": [
    "start_time=time.clock()\n",
    "\n",
    "print('Starting GridSearch using XGBoost...')\n",
    "clf_xgb = XGBoostClassifier()\n",
    "gs_xgb = GridSearchCV(clf_xgb,param_grid = param_xgb,cv = StratifiedKFold(ytrain,n_folds = 3),scoring='roc_auc', n_jobs = njobs,verbose = 2)\n",
    "gs_xgb.fit(xtrain,ytrain)\n",
    "\n",
    "total_time=time.clock()-start_time\n",
    "print('Completed GridSearch using XGBoost')\n",
    "print('Total running time is %d seconds\\n' %total_time)"
   ]
  },
  {
   "cell_type": "code",
   "execution_count": 16,
   "metadata": {
    "collapsed": false,
    "scrolled": false
   },
   "outputs": [
    {
     "name": "stdout",
     "output_type": "stream",
     "text": [
      "Best AUC Score of XGB is 0.759530365161\n",
      "Best parameters set of XGB:\n",
      "\tcolsample_bytree: 0.9\n",
      "\teta: 0.01\n",
      "\teval_metric: 'auc'\n",
      "\tgamma: 0\n",
      "\tlambda: 0\n",
      "\tmax_delta_step: 0\n",
      "\tmax_depth: 14\n",
      "\tmin_child_weight: 3\n",
      "\tnum_boost_round: 500\n",
      "\tobjective: 'binary:logistic'\n",
      "\tsubsample: 1.0\n"
     ]
    }
   ],
   "source": [
    "print 'Best AUC Score of XGB is {}'.format(gs_xgb.best_score_)\n",
    "print 'Best parameters set of XGB:'\n",
    "best_param_xgb = gs_xgb.best_estimator_.get_params()\n",
    "for param_name in sorted(best_param_xgb.keys()):\n",
    "    print '\\t%s: %r' % (param_name,best_param_xgb[param_name])"
   ]
  },
  {
   "cell_type": "code",
   "execution_count": 11,
   "metadata": {
    "collapsed": false
   },
   "outputs": [],
   "source": [
    "xgb_grid_scores = gs_xgb.grid_scores_\n",
    "str1=time.strftime(\"%b%d%Y_%H%M%S\", time.localtime())\n",
    "with open(('XGB_grid_score_' +str1 + '_AUC_' + '0p'+ str(int(gs_xgb.best_score_*1e5))  +'.p'), 'wb') as f:\n",
    "    pickle.dump(xgb_grid_scores, f, protocol =2)"
   ]
  },
  {
   "cell_type": "markdown",
   "metadata": {},
   "source": [
    "###dump the model to pickle "
   ]
  },
  {
   "cell_type": "code",
   "execution_count": 12,
   "metadata": {
    "collapsed": false
   },
   "outputs": [],
   "source": [
    "xgb_opt = gs_xgb.best_estimator_\n",
    "\n",
    "with open(('XGB_best_estimator_' +str1 + '_AUC_' + '0p'+ str(int(gs_xgb.best_score_*1e5))  +'.p'), 'wb') as f2:\n",
    "    pickle.dump(xgb_opt, f2,protocol = 2)\n",
    "    \n",
    "with open(('XGB_best_param_' +str1 + '_AUC_' + '0p'+ str(int(gs_xgb.best_score_*1e5))  +'.p'), 'wb') as f3:\n",
    "    pickle.dump(best_param_xgb, f3,protocol = 2)    "
   ]
  },
  {
   "cell_type": "code",
   "execution_count": 13,
   "metadata": {
    "collapsed": false
   },
   "outputs": [
    {
     "data": {
      "text/plain": [
       "[mean: 0.75911, std: 0.00275, params: {'colsample_bytree': 0.9, 'eval_metric': 'auc', 'max_delta_step': 0, 'min_child_weight': 3, 'subsample': 1.0, 'eta': 0.01, 'objective': 'binary:logistic', 'num_boost_round': 40, 'max_depth': 14, 'gamma': 0, 'lambda': 1},\n",
       " mean: 0.75911, std: 0.00275, params: {'colsample_bytree': 0.9, 'eval_metric': 'auc', 'max_delta_step': 0, 'min_child_weight': 3, 'subsample': 1.0, 'eta': 0.01, 'objective': 'binary:logistic', 'num_boost_round': 500, 'max_depth': 14, 'gamma': 0, 'lambda': 1},\n",
       " mean: 0.76943, std: 0.00052, params: {'colsample_bytree': 0.9, 'eval_metric': 'auc', 'max_delta_step': 0, 'min_child_weight': 3, 'subsample': 1.0, 'eta': 0.1, 'objective': 'binary:logistic', 'num_boost_round': 40, 'max_depth': 14, 'gamma': 0, 'lambda': 1},\n",
       " mean: 0.76943, std: 0.00052, params: {'colsample_bytree': 0.9, 'eval_metric': 'auc', 'max_delta_step': 0, 'min_child_weight': 3, 'subsample': 1.0, 'eta': 0.1, 'objective': 'binary:logistic', 'num_boost_round': 500, 'max_depth': 14, 'gamma': 0, 'lambda': 1}]"
      ]
     },
     "execution_count": 13,
     "metadata": {},
     "output_type": "execute_result"
    }
   ],
   "source": [
    "xgb_grid_scores"
   ]
  },
  {
   "cell_type": "markdown",
   "metadata": {},
   "source": [
    "##2. GridSearch using RandomForest"
   ]
  },
  {
   "cell_type": "code",
   "execution_count": 16,
   "metadata": {
    "collapsed": false
   },
   "outputs": [],
   "source": [
    "if LocalTest:\n",
    "    param_rf = {'n_estimators': [200],'max_depth':[20],'n_jobs': [1],'max_features':['auto'],'min_samples_leaf':[1,3]}        \n",
    "else:    \n",
    "    param_rf = {'n_estimators': [200,500],\n",
    "            'max_depth':[20,None],\n",
    "         'n_jobs': [-1],\n",
    "         'max_features':['auto'],\n",
    "        'min_samples_leaf':[1,3,5]}"
   ]
  },
  {
   "cell_type": "code",
   "execution_count": 17,
   "metadata": {
    "collapsed": true
   },
   "outputs": [],
   "source": [
    "xtrain=np.hstack((X,X1,X2,X3,X4, X5))\n",
    "\n",
    "with open('features/XGB_335Features Oct172015_044255_AUC_0p76115.p', 'rb') as fid:\n",
    "    rf_goodfeat1 = pickle.load(fid)\n",
    "\n",
    "good_features=list(rf_goodfeat1)\n",
    "xtrain = xtrain[:,good_features]"
   ]
  },
  {
   "cell_type": "code",
   "execution_count": 18,
   "metadata": {
    "collapsed": false,
    "scrolled": true
   },
   "outputs": [
    {
     "name": "stdout",
     "output_type": "stream",
     "text": [
      "Starting GridSearch using RandomForest...\n",
      "Fitting 3 folds for each of 12 candidates, totalling 36 fits\n",
      "[CV] max_features=auto, n_estimators=200, n_jobs=-1, max_depth=20, min_samples_leaf=1 \n",
      "[CV]  max_features=auto, n_estimators=200, n_jobs=-1, max_depth=20, min_samples_leaf=1 -  40.9s\n",
      "[CV] max_features=auto, n_estimators=200, n_jobs=-1, max_depth=20, min_samples_leaf=1 \n",
      "[CV]  max_features=auto, n_estimators=200, n_jobs=-1, max_depth=20, min_samples_leaf=1 -  41.1s\n",
      "[CV] max_features=auto, n_estimators=200, n_jobs=-1, max_depth=20, min_samples_leaf=1 \n",
      "[CV]  max_features=auto, n_estimators=200, n_jobs=-1, max_depth=20, min_samples_leaf=1 -  40.8s\n",
      "[CV] max_features=auto, n_estimators=500, n_jobs=-1, max_depth=20, min_samples_leaf=1 \n",
      "[CV]  max_features=auto, n_estimators=500, n_jobs=-1, max_depth=20, min_samples_leaf=1 - 1.7min\n",
      "[CV] max_features=auto, n_estimators=500, n_jobs=-1, max_depth=20, min_samples_leaf=1 \n",
      "[CV]  max_features=auto, n_estimators=500, n_jobs=-1, max_depth=20, min_samples_leaf=1 - 1.7min\n",
      "[CV] max_features=auto, n_estimators=500, n_jobs=-1, max_depth=20, min_samples_leaf=1 \n",
      "[CV]  max_features=auto, n_estimators=500, n_jobs=-1, max_depth=20, min_samples_leaf=1 - 1.7min\n",
      "[CV] max_features=auto, n_estimators=200, n_jobs=-1, max_depth=20, min_samples_leaf=3 \n",
      "[CV]  max_features=auto, n_estimators=200, n_jobs=-1, max_depth=20, min_samples_leaf=3 -  39.3s\n",
      "[CV] max_features=auto, n_estimators=200, n_jobs=-1, max_depth=20, min_samples_leaf=3 \n",
      "[CV]  max_features=auto, n_estimators=200, n_jobs=-1, max_depth=20, min_samples_leaf=3 -  40.0s\n",
      "[CV] max_features=auto, n_estimators=200, n_jobs=-1, max_depth=20, min_samples_leaf=3 \n",
      "[CV]  max_features=auto, n_estimators=200, n_jobs=-1, max_depth=20, min_samples_leaf=3 -  39.2s\n",
      "[CV] max_features=auto, n_estimators=500, n_jobs=-1, max_depth=20, min_samples_leaf=3 \n",
      "[CV]  max_features=auto, n_estimators=500, n_jobs=-1, max_depth=20, min_samples_leaf=3 - 1.6min\n",
      "[CV] max_features=auto, n_estimators=500, n_jobs=-1, max_depth=20, min_samples_leaf=3 \n",
      "[CV]  max_features=auto, n_estimators=500, n_jobs=-1, max_depth=20, min_samples_leaf=3 - 1.6min\n",
      "[CV] max_features=auto, n_estimators=500, n_jobs=-1, max_depth=20, min_samples_leaf=3 \n",
      "[CV]  max_features=auto, n_estimators=500, n_jobs=-1, max_depth=20, min_samples_leaf=3 - 1.6min\n",
      "[CV] max_features=auto, n_estimators=200, n_jobs=-1, max_depth=20, min_samples_leaf=5 \n",
      "[CV]  max_features=auto, n_estimators=200, n_jobs=-1, max_depth=20, min_samples_leaf=5 -  38.6s\n",
      "[CV] max_features=auto, n_estimators=200, n_jobs=-1, max_depth=20, min_samples_leaf=5 \n",
      "[CV]  max_features=auto, n_estimators=200, n_jobs=-1, max_depth=20, min_samples_leaf=5 -  39.0s\n",
      "[CV] max_features=auto, n_estimators=200, n_jobs=-1, max_depth=20, min_samples_leaf=5 \n",
      "[CV]  max_features=auto, n_estimators=200, n_jobs=-1, max_depth=20, min_samples_leaf=5 -  38.7s\n",
      "[CV] max_features=auto, n_estimators=500, n_jobs=-1, max_depth=20, min_samples_leaf=5 \n",
      "[CV]  max_features=auto, n_estimators=500, n_jobs=-1, max_depth=20, min_samples_leaf=5 - 1.6min\n",
      "[CV] max_features=auto, n_estimators=500, n_jobs=-1, max_depth=20, min_samples_leaf=5 \n",
      "[CV]  max_features=auto, n_estimators=500, n_jobs=-1, max_depth=20, min_samples_leaf=5 - 1.6min\n",
      "[CV] max_features=auto, n_estimators=500, n_jobs=-1, max_depth=20, min_samples_leaf=5 \n",
      "[CV]  max_features=auto, n_estimators=500, n_jobs=-1, max_depth=20, min_samples_leaf=5 - 1.6min\n",
      "[CV] max_features=auto, n_estimators=200, n_jobs=-1, max_depth=None, min_samples_leaf=1 \n",
      "[CV]  max_features=auto, n_estimators=200, n_jobs=-1, max_depth=None, min_samples_leaf=1 -  48.9s\n",
      "[CV] max_features=auto, n_estimators=200, n_jobs=-1, max_depth=None, min_samples_leaf=1 \n",
      "[CV]  max_features=auto, n_estimators=200, n_jobs=-1, max_depth=None, min_samples_leaf=1 -  49.2s\n",
      "[CV] max_features=auto, n_estimators=200, n_jobs=-1, max_depth=None, min_samples_leaf=1 \n",
      "[CV]  max_features=auto, n_estimators=200, n_jobs=-1, max_depth=None, min_samples_leaf=1 -  49.0s\n",
      "[CV] max_features=auto, n_estimators=500, n_jobs=-1, max_depth=None, min_samples_leaf=1 \n",
      "[CV]  max_features=auto, n_estimators=500, n_jobs=-1, max_depth=None, min_samples_leaf=1 - 2.0min\n",
      "[CV] max_features=auto, n_estimators=500, n_jobs=-1, max_depth=None, min_samples_leaf=1 \n",
      "[CV]  max_features=auto, n_estimators=500, n_jobs=-1, max_depth=None, min_samples_leaf=1 - 2.0min\n",
      "[CV] max_features=auto, n_estimators=500, n_jobs=-1, max_depth=None, min_samples_leaf=1 \n",
      "[CV]  max_features=auto, n_estimators=500, n_jobs=-1, max_depth=None, min_samples_leaf=1 - 2.0min\n",
      "[CV] max_features=auto, n_estimators=200, n_jobs=-1, max_depth=None, min_samples_leaf=3 \n",
      "[CV]  max_features=auto, n_estimators=200, n_jobs=-1, max_depth=None, min_samples_leaf=3 -  44.6s\n",
      "[CV] max_features=auto, n_estimators=200, n_jobs=-1, max_depth=None, min_samples_leaf=3 \n",
      "[CV]  max_features=auto, n_estimators=200, n_jobs=-1, max_depth=None, min_samples_leaf=3 -  45.1s\n",
      "[CV] max_features=auto, n_estimators=200, n_jobs=-1, max_depth=None, min_samples_leaf=3 \n",
      "[CV]  max_features=auto, n_estimators=200, n_jobs=-1, max_depth=None, min_samples_leaf=3 -  44.5s\n",
      "[CV] max_features=auto, n_estimators=500, n_jobs=-1, max_depth=None, min_samples_leaf=3 \n",
      "[CV]  max_features=auto, n_estimators=500, n_jobs=-1, max_depth=None, min_samples_leaf=3 - 1.8min\n",
      "[CV] max_features=auto, n_estimators=500, n_jobs=-1, max_depth=None, min_samples_leaf=3 \n",
      "[CV]  max_features=auto, n_estimators=500, n_jobs=-1, max_depth=None, min_samples_leaf=3 - 1.8min\n",
      "[CV] max_features=auto, n_estimators=500, n_jobs=-1, max_depth=None, min_samples_leaf=3 \n",
      "[CV]  max_features=auto, n_estimators=500, n_jobs=-1, max_depth=None, min_samples_leaf=3 - 1.8min\n",
      "[CV] max_features=auto, n_estimators=200, n_jobs=-1, max_depth=None, min_samples_leaf=5 \n",
      "[CV]  max_features=auto, n_estimators=200, n_jobs=-1, max_depth=None, min_samples_leaf=5 -  42.9s\n",
      "[CV] max_features=auto, n_estimators=200, n_jobs=-1, max_depth=None, min_samples_leaf=5 \n",
      "[CV]  max_features=auto, n_estimators=200, n_jobs=-1, max_depth=None, min_samples_leaf=5 -  42.4s\n",
      "[CV] max_features=auto, n_estimators=200, n_jobs=-1, max_depth=None, min_samples_leaf=5 \n",
      "[CV]  max_features=auto, n_estimators=200, n_jobs=-1, max_depth=None, min_samples_leaf=5 -  41.7s\n",
      "[CV] max_features=auto, n_estimators=500, n_jobs=-1, max_depth=None, min_samples_leaf=5 \n",
      "[CV]  max_features=auto, n_estimators=500, n_jobs=-1, max_depth=None, min_samples_leaf=5 - 1.7min\n",
      "[CV] max_features=auto, n_estimators=500, n_jobs=-1, max_depth=None, min_samples_leaf=5 \n",
      "[CV]  max_features=auto, n_estimators=500, n_jobs=-1, max_depth=None, min_samples_leaf=5 - 1.7min\n",
      "[CV] max_features=auto, n_estimators=500, n_jobs=-1, max_depth=None, min_samples_leaf=5 \n",
      "[CV]  max_features=auto, n_estimators=500, n_jobs=-1, max_depth=None, min_samples_leaf=5 - 1.7min"
     ]
    },
    {
     "name": "stderr",
     "output_type": "stream",
     "text": [
      "[Parallel(n_jobs=1)]: Done   1 jobs       | elapsed:   40.9s\n",
      "[Parallel(n_jobs=1)]: Done  36 out of  36 | elapsed: 44.1min finished\n"
     ]
    },
    {
     "name": "stdout",
     "output_type": "stream",
     "text": [
      "\n",
      "Completed GridSearch using RandomForest\n",
      "Total running time is 2815 seconds\n",
      "\n"
     ]
    }
   ],
   "source": [
    "start_time=time.clock()\n",
    "\n",
    "print('Starting GridSearch using RandomForest...')\n",
    "clf_rf = RandomForestClassifier(random_state =100)\n",
    "gs_rf = GridSearchCV(clf_rf,param_grid = param_rf,cv = StratifiedKFold(ytrain,n_folds = 3),scoring='roc_auc', n_jobs = njobs,verbose = 2)\n",
    "gs_rf.fit(xtrain,ytrain)\n",
    "\n",
    "total_time=time.clock()-start_time\n",
    "print('Completed GridSearch using RandomForest')\n",
    "print('Total running time is %d seconds\\n' %total_time)"
   ]
  },
  {
   "cell_type": "code",
   "execution_count": 19,
   "metadata": {
    "collapsed": false
   },
   "outputs": [
    {
     "name": "stdout",
     "output_type": "stream",
     "text": [
      "Best AUC Score of RF is 0.76943287915\n",
      "Best parameters set of RF:\n",
      "\tbootstrap: True\n",
      "\tclass_weight: None\n",
      "\tcriterion: 'gini'\n",
      "\tmax_depth: None\n",
      "\tmax_features: 'auto'\n",
      "\tmax_leaf_nodes: None\n",
      "\tmin_samples_leaf: 5\n",
      "\tmin_samples_split: 2\n",
      "\tmin_weight_fraction_leaf: 0.0\n",
      "\tn_estimators: 500\n",
      "\tn_jobs: -1\n",
      "\toob_score: False\n",
      "\trandom_state: 100\n",
      "\tverbose: 0\n",
      "\twarm_start: False\n"
     ]
    }
   ],
   "source": [
    "print 'Best AUC Score of RF is {}'.format(gs_rf.best_score_)\n",
    "print 'Best parameters set of RF:'\n",
    "best_param_rf = gs_rf.best_estimator_.get_params()\n",
    "for param_name in sorted(best_param_rf.keys()):\n",
    "    print '\\t%s: %r' % (param_name,best_param_rf[param_name])"
   ]
  },
  {
   "cell_type": "markdown",
   "metadata": {},
   "source": [
    "###dump the model into pickle"
   ]
  },
  {
   "cell_type": "code",
   "execution_count": 20,
   "metadata": {
    "collapsed": true
   },
   "outputs": [],
   "source": [
    "rf_opt = gs_rf.best_estimator_\n",
    "\n",
    "str1=time.strftime(\"%b%d%Y_%H%M%S\", time.localtime())\n",
    "with open(('rf_opt_best_estimator' +str1 + '_AUC_' + '0p'+ str(int(gs_rf.best_score_*1e5))  +'.p'), 'wb') as f:\n",
    "    pickle.dump(rf_opt, f, protocol = 2)\n",
    "    \n",
    "with open(('rf_opt_best_param' +str1 + '_AUC_' + '0p'+ str(int(gs_rf.best_score_*1e5))  +'.p'), 'wb') as f:\n",
    "    pickle.dump(best_param_rf, f, protocol = 2) "
   ]
  },
  {
   "cell_type": "markdown",
   "metadata": {
    "collapsed": true
   },
   "source": [
    "##3. GridSearch using RandomForest using another set of features"
   ]
  },
  {
   "cell_type": "code",
   "execution_count": 21,
   "metadata": {
    "collapsed": false
   },
   "outputs": [
    {
     "name": "stdout",
     "output_type": "stream",
     "text": [
      "(145231L, 799L)\n"
     ]
    }
   ],
   "source": [
    "xtrain=np.hstack((X,X1,X2,X3,X4, X5))\n",
    "\n",
    "with open('features/SDGRF_Oct172015125634_AUC_0.755531555054_with_cat_variables.p', 'rb') as fid:\n",
    "    rf_goodfeat2 = pickle.load(fid)\n",
    "\n",
    "good_features=list(rf_goodfeat2)\n",
    "xtrain = xtrain[:,good_features]\n",
    "print(xtrain.shape)"
   ]
  },
  {
   "cell_type": "code",
   "execution_count": 22,
   "metadata": {
    "collapsed": false,
    "scrolled": true
   },
   "outputs": [
    {
     "name": "stdout",
     "output_type": "stream",
     "text": [
      "Starting GridSearch using RandomForest...\n",
      "Fitting 3 folds for each of 12 candidates, totalling 36 fits\n",
      "[CV] max_features=auto, n_estimators=200, n_jobs=-1, max_depth=20, min_samples_leaf=1 \n",
      "[CV]  max_features=auto, n_estimators=200, n_jobs=-1, max_depth=20, min_samples_leaf=1 - 1.2min\n",
      "[CV] max_features=auto, n_estimators=200, n_jobs=-1, max_depth=20, min_samples_leaf=1 \n",
      "[CV]  max_features=auto, n_estimators=200, n_jobs=-1, max_depth=20, min_samples_leaf=1 - 1.2min\n",
      "[CV] max_features=auto, n_estimators=200, n_jobs=-1, max_depth=20, min_samples_leaf=1 \n",
      "[CV]  max_features=auto, n_estimators=200, n_jobs=-1, max_depth=20, min_samples_leaf=1 - 1.2min\n",
      "[CV] max_features=auto, n_estimators=500, n_jobs=-1, max_depth=20, min_samples_leaf=1 \n",
      "[CV]  max_features=auto, n_estimators=500, n_jobs=-1, max_depth=20, min_samples_leaf=1 - 3.0min\n",
      "[CV] max_features=auto, n_estimators=500, n_jobs=-1, max_depth=20, min_samples_leaf=1 \n",
      "[CV]  max_features=auto, n_estimators=500, n_jobs=-1, max_depth=20, min_samples_leaf=1 - 3.0min\n",
      "[CV] max_features=auto, n_estimators=500, n_jobs=-1, max_depth=20, min_samples_leaf=1 \n",
      "[CV]  max_features=auto, n_estimators=500, n_jobs=-1, max_depth=20, min_samples_leaf=1 - 3.1min\n",
      "[CV] max_features=auto, n_estimators=200, n_jobs=-1, max_depth=20, min_samples_leaf=3 \n",
      "[CV]  max_features=auto, n_estimators=200, n_jobs=-1, max_depth=20, min_samples_leaf=3 - 1.3min\n",
      "[CV] max_features=auto, n_estimators=200, n_jobs=-1, max_depth=20, min_samples_leaf=3 \n",
      "[CV]  max_features=auto, n_estimators=200, n_jobs=-1, max_depth=20, min_samples_leaf=3 - 1.3min\n",
      "[CV] max_features=auto, n_estimators=200, n_jobs=-1, max_depth=20, min_samples_leaf=3 \n",
      "[CV]  max_features=auto, n_estimators=200, n_jobs=-1, max_depth=20, min_samples_leaf=3 - 1.2min\n",
      "[CV] max_features=auto, n_estimators=500, n_jobs=-1, max_depth=20, min_samples_leaf=3 \n",
      "[CV]  max_features=auto, n_estimators=500, n_jobs=-1, max_depth=20, min_samples_leaf=3 - 3.0min\n",
      "[CV] max_features=auto, n_estimators=500, n_jobs=-1, max_depth=20, min_samples_leaf=3 \n",
      "[CV]  max_features=auto, n_estimators=500, n_jobs=-1, max_depth=20, min_samples_leaf=3 - 2.9min\n",
      "[CV] max_features=auto, n_estimators=500, n_jobs=-1, max_depth=20, min_samples_leaf=3 \n",
      "[CV]  max_features=auto, n_estimators=500, n_jobs=-1, max_depth=20, min_samples_leaf=3 - 2.9min\n",
      "[CV] max_features=auto, n_estimators=200, n_jobs=-1, max_depth=20, min_samples_leaf=5 \n",
      "[CV]  max_features=auto, n_estimators=200, n_jobs=-1, max_depth=20, min_samples_leaf=5 - 1.2min\n",
      "[CV] max_features=auto, n_estimators=200, n_jobs=-1, max_depth=20, min_samples_leaf=5 \n",
      "[CV]  max_features=auto, n_estimators=200, n_jobs=-1, max_depth=20, min_samples_leaf=5 - 1.2min\n",
      "[CV] max_features=auto, n_estimators=200, n_jobs=-1, max_depth=20, min_samples_leaf=5 \n",
      "[CV]  max_features=auto, n_estimators=200, n_jobs=-1, max_depth=20, min_samples_leaf=5 - 1.2min\n",
      "[CV] max_features=auto, n_estimators=500, n_jobs=-1, max_depth=20, min_samples_leaf=5 \n",
      "[CV]  max_features=auto, n_estimators=500, n_jobs=-1, max_depth=20, min_samples_leaf=5 - 2.8min\n",
      "[CV] max_features=auto, n_estimators=500, n_jobs=-1, max_depth=20, min_samples_leaf=5 \n",
      "[CV]  max_features=auto, n_estimators=500, n_jobs=-1, max_depth=20, min_samples_leaf=5 - 2.8min\n",
      "[CV] max_features=auto, n_estimators=500, n_jobs=-1, max_depth=20, min_samples_leaf=5 \n",
      "[CV]  max_features=auto, n_estimators=500, n_jobs=-1, max_depth=20, min_samples_leaf=5 - 2.8min\n",
      "[CV] max_features=auto, n_estimators=200, n_jobs=-1, max_depth=None, min_samples_leaf=1 \n",
      "[CV]  max_features=auto, n_estimators=200, n_jobs=-1, max_depth=None, min_samples_leaf=1 - 1.6min\n",
      "[CV] max_features=auto, n_estimators=200, n_jobs=-1, max_depth=None, min_samples_leaf=1 \n",
      "[CV]  max_features=auto, n_estimators=200, n_jobs=-1, max_depth=None, min_samples_leaf=1 - 1.6min\n",
      "[CV] max_features=auto, n_estimators=200, n_jobs=-1, max_depth=None, min_samples_leaf=1 \n",
      "[CV]  max_features=auto, n_estimators=200, n_jobs=-1, max_depth=None, min_samples_leaf=1 - 1.6min\n",
      "[CV] max_features=auto, n_estimators=500, n_jobs=-1, max_depth=None, min_samples_leaf=1 \n",
      "[CV]  max_features=auto, n_estimators=500, n_jobs=-1, max_depth=None, min_samples_leaf=1 - 3.9min\n",
      "[CV] max_features=auto, n_estimators=500, n_jobs=-1, max_depth=None, min_samples_leaf=1 \n",
      "[CV]  max_features=auto, n_estimators=500, n_jobs=-1, max_depth=None, min_samples_leaf=1 - 3.9min\n",
      "[CV] max_features=auto, n_estimators=500, n_jobs=-1, max_depth=None, min_samples_leaf=1 \n",
      "[CV]  max_features=auto, n_estimators=500, n_jobs=-1, max_depth=None, min_samples_leaf=1 - 3.9min\n",
      "[CV] max_features=auto, n_estimators=200, n_jobs=-1, max_depth=None, min_samples_leaf=3 \n",
      "[CV]  max_features=auto, n_estimators=200, n_jobs=-1, max_depth=None, min_samples_leaf=3 - 1.4min\n",
      "[CV] max_features=auto, n_estimators=200, n_jobs=-1, max_depth=None, min_samples_leaf=3 \n",
      "[CV]  max_features=auto, n_estimators=200, n_jobs=-1, max_depth=None, min_samples_leaf=3 - 1.4min\n",
      "[CV] max_features=auto, n_estimators=200, n_jobs=-1, max_depth=None, min_samples_leaf=3 \n",
      "[CV]  max_features=auto, n_estimators=200, n_jobs=-1, max_depth=None, min_samples_leaf=3 - 1.4min\n",
      "[CV] max_features=auto, n_estimators=500, n_jobs=-1, max_depth=None, min_samples_leaf=3 \n",
      "[CV]  max_features=auto, n_estimators=500, n_jobs=-1, max_depth=None, min_samples_leaf=3 - 3.4min\n",
      "[CV] max_features=auto, n_estimators=500, n_jobs=-1, max_depth=None, min_samples_leaf=3 \n",
      "[CV]  max_features=auto, n_estimators=500, n_jobs=-1, max_depth=None, min_samples_leaf=3 - 3.5min\n",
      "[CV] max_features=auto, n_estimators=500, n_jobs=-1, max_depth=None, min_samples_leaf=3 \n",
      "[CV]  max_features=auto, n_estimators=500, n_jobs=-1, max_depth=None, min_samples_leaf=3 - 3.5min\n",
      "[CV] max_features=auto, n_estimators=200, n_jobs=-1, max_depth=None, min_samples_leaf=5 \n",
      "[CV]  max_features=auto, n_estimators=200, n_jobs=-1, max_depth=None, min_samples_leaf=5 - 1.4min\n",
      "[CV] max_features=auto, n_estimators=200, n_jobs=-1, max_depth=None, min_samples_leaf=5 \n",
      "[CV]  max_features=auto, n_estimators=200, n_jobs=-1, max_depth=None, min_samples_leaf=5 - 1.3min\n",
      "[CV] max_features=auto, n_estimators=200, n_jobs=-1, max_depth=None, min_samples_leaf=5 \n",
      "[CV]  max_features=auto, n_estimators=200, n_jobs=-1, max_depth=None, min_samples_leaf=5 - 1.3min\n",
      "[CV] max_features=auto, n_estimators=500, n_jobs=-1, max_depth=None, min_samples_leaf=5 \n",
      "[CV]  max_features=auto, n_estimators=500, n_jobs=-1, max_depth=None, min_samples_leaf=5 - 3.2min\n",
      "[CV] max_features=auto, n_estimators=500, n_jobs=-1, max_depth=None, min_samples_leaf=5 \n",
      "[CV]  max_features=auto, n_estimators=500, n_jobs=-1, max_depth=None, min_samples_leaf=5 - 3.2min\n",
      "[CV] max_features=auto, n_estimators=500, n_jobs=-1, max_depth=None, min_samples_leaf=5 \n",
      "[CV]  max_features=auto, n_estimators=500, n_jobs=-1, max_depth=None, min_samples_leaf=5 - 3.2min"
     ]
    },
    {
     "name": "stderr",
     "output_type": "stream",
     "text": [
      "[Parallel(n_jobs=1)]: Done   1 jobs       | elapsed:  1.2min\n",
      "[Parallel(n_jobs=1)]: Done  36 out of  36 | elapsed: 82.1min finished\n"
     ]
    },
    {
     "name": "stdout",
     "output_type": "stream",
     "text": [
      "\n",
      "Completed GridSearch using RandomForest\n",
      "Total running time is 5222 seconds\n",
      "\n"
     ]
    }
   ],
   "source": [
    "start_time=time.clock()\n",
    "\n",
    "print('Starting GridSearch using RandomForest...')\n",
    "clf_rf = RandomForestClassifier(random_state =100)\n",
    "gs_rf = GridSearchCV(clf_rf,param_grid = param_rf,cv = StratifiedKFold(ytrain,n_folds = 3),scoring='roc_auc', n_jobs = njobs,verbose = 2)\n",
    "gs_rf.fit(xtrain,ytrain)\n",
    "\n",
    "total_time=time.clock()-start_time\n",
    "print('Completed GridSearch using RandomForest')\n",
    "print('Total running time is %d seconds\\n' %total_time)"
   ]
  },
  {
   "cell_type": "code",
   "execution_count": 23,
   "metadata": {
    "collapsed": false
   },
   "outputs": [
    {
     "name": "stdout",
     "output_type": "stream",
     "text": [
      "Best AUC Score of RF is 0.768240704571\n",
      "Best parameters set of RF:\n",
      "\tbootstrap: True\n",
      "\tclass_weight: None\n",
      "\tcriterion: 'gini'\n",
      "\tmax_depth: None\n",
      "\tmax_features: 'auto'\n",
      "\tmax_leaf_nodes: None\n",
      "\tmin_samples_leaf: 5\n",
      "\tmin_samples_split: 2\n",
      "\tmin_weight_fraction_leaf: 0.0\n",
      "\tn_estimators: 500\n",
      "\tn_jobs: -1\n",
      "\toob_score: False\n",
      "\trandom_state: 100\n",
      "\tverbose: 0\n",
      "\twarm_start: False\n"
     ]
    }
   ],
   "source": [
    "print 'Best AUC Score of RF is {}'.format(gs_rf.best_score_)\n",
    "print 'Best parameters set of RF:'\n",
    "best_param_rf = gs_rf.best_estimator_.get_params()\n",
    "for param_name in sorted(best_param_rf.keys()):\n",
    "    print '\\t%s: %r' % (param_name,best_param_rf[param_name])"
   ]
  },
  {
   "cell_type": "code",
   "execution_count": 24,
   "metadata": {
    "collapsed": true
   },
   "outputs": [],
   "source": [
    "rf_opt = gs_rf.best_estimator_\n",
    "\n",
    "str1=time.strftime(\"%b%d%Y_%H%M%S\", time.localtime())\n",
    "with open(('rf_900_opt_best_estimator' +str1 + '_AUC_' + '0p'+ str(int(gs_rf.best_score_*1e5))  +'.p'), 'wb') as f:\n",
    "    pickle.dump(rf_opt, f, protocol = 2)\n",
    "    \n",
    "with open(('rf_900_opt_best_param' +str1 + '_AUC_' + '0p'+ str(int(gs_rf.best_score_*1e5))  +'.p'), 'wb') as f:\n",
    "    pickle.dump(best_param_rf, f, protocol = 2) "
   ]
  }
 ],
 "metadata": {
  "kernelspec": {
   "display_name": "Python 2",
   "language": "python",
   "name": "python2"
  },
  "language_info": {
   "codemirror_mode": {
    "name": "ipython",
    "version": 2
   },
   "file_extension": ".py",
   "mimetype": "text/x-python",
   "name": "python",
   "nbconvert_exporter": "python",
   "pygments_lexer": "ipython2",
   "version": "2.7.10"
  }
 },
 "nbformat": 4,
 "nbformat_minor": 0
}
