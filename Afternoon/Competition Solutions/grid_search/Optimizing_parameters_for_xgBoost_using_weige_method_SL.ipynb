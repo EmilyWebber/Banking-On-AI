{
 "cells": [
  {
   "cell_type": "code",
   "execution_count": 1,
   "metadata": {
    "collapsed": false
   },
   "outputs": [],
   "source": [
    "import pandas as pd\n",
    "import numpy as np\n",
    "import matplotlib.pylab as plt\n",
    "from scipy import stats,sparse\n",
    "from sklearn.base import TransformerMixin\n",
    "from datetime import datetime as dt\n",
    "from math import isnan\n",
    "from numpy import ma\n",
    "import pickle as pickle\n",
    "import xgboost as xgb\n",
    "import time\n",
    "from pandas import *\n",
    "from sklearn.preprocessing import LabelEncoder\n",
    "from sklearn.ensemble import RandomForestClassifier \n",
    "\n",
    "import json\n",
    "from sklearn.metrics import roc_curve, auc\n",
    "from re import sub\n",
    "from collections import defaultdict\n",
    "import scipy as sp\n",
    "\n",
    "from sklearn.cross_validation import StratifiedKFold,cross_val_score\n",
    "from sklearn.grid_search import GridSearchCV\n",
    "from sklearn.metrics import classification_report,confusion_matrix\n",
    "from sklearn import linear_model\n",
    "from sklearn import metrics\n",
    "\n",
    "#from ModelClassifier import PAClassifier,SGDSVMClassifier,XGBoostClassifier"
   ]
  },
  {
   "cell_type": "code",
   "execution_count": 2,
   "metadata": {
    "collapsed": true
   },
   "outputs": [],
   "source": [
    "with open('features/XGB_335Features Oct172015_044255_AUC_0p76115.p', 'rb') as fid1:\n",
    "    xgb_goodfeat1 = pickle.load(fid1)\n",
    "with open('features/XGB_482Features_backward_selection_XX1X2X3X4.p', 'rb') as fid2:\n",
    "    xgb_goodfeat2 = pickle.load(fid2)\n",
    "with open('features/XGB_5features_backward_selection_X5.p', 'rb') as fid3:\n",
    "    xgb_goodfeat3 = pickle.load(fid3)\n",
    "with open('features/SDGRF_Oct172015125634_AUC_0.755531555054_with_cat_variables.p', 'rb') as fid4:\n",
    "    xgb_goodfeat4 = pickle.load(fid4)\n",
    "with open('features/XGBoost_Oct172015212459_AUC_0.764813590574FeatNum199.p', 'rb') as fid5:\n",
    "    xgb_goodfeat5 = pickle.load(fid5)"
   ]
  },
  {
   "cell_type": "code",
   "execution_count": 3,
   "metadata": {
    "collapsed": true
   },
   "outputs": [],
   "source": [
    "FeaturesSelected=list(set(list(xgb_goodfeat1) + xgb_goodfeat2 + xgb_goodfeat3 + list(xgb_goodfeat4) +list(xgb_goodfeat5)))"
   ]
  },
  {
   "cell_type": "code",
   "execution_count": 4,
   "metadata": {
    "collapsed": false
   },
   "outputs": [
    {
     "data": {
      "text/plain": [
       "950"
      ]
     },
     "execution_count": 4,
     "metadata": {},
     "output_type": "execute_result"
    }
   ],
   "source": [
    "len(FeaturesSelected)"
   ]
  },
  {
   "cell_type": "code",
   "execution_count": 5,
   "metadata": {
    "collapsed": false
   },
   "outputs": [],
   "source": [
    "X=np.load('./pickledata/nxtrain_standard_original0.npy')\n",
    "X1= np.load('./pickledata/nxtrain_standard_derived0.npy')\n",
    "X2=pd.read_pickle(\"./pickledata/time_series_derived_standard_train2.dat\")\n",
    "X3=pd.read_pickle(\"./pickledata/time_series_original_standard_train2.dat\")\n",
    "X4=pd.read_pickle(\"./pickledata/cat_numeric_th60_standard_train2.dat\")\n",
    "X5=pd.read_pickle(\"./pickledata/cat_le_train2.dat\") \n",
    "X=np.hstack((X,X1,X2,X3,X4,X5))\n",
    "\n",
    "y=pickle.load(open(\"./pickledata/ytrain2.dat\",\"rb\"))\n",
    "xtrain=X[:,FeaturesSelected]\n",
    "del X,X1,X2,X3, X4, X5\n",
    "\n",
    "X_test=np.load('./pickledata/nxtest_standard_original0.npy')\n",
    "X_test1= np.load('./pickledata/nxtest_standard_derived0.npy')\n",
    "X_test2=pd.read_pickle(\"./pickledata/time_series_derived_standard_test2.dat\")\n",
    "X_test3=pd.read_pickle(\"./pickledata/time_series_original_standard_test2.dat\")\n",
    "X_test4=pd.read_pickle(\"./pickledata/cat_numeric_th60_standard_test2.dat\")\n",
    "X_test5=pd.read_pickle(\"./pickledata/cat_le_test2.dat\") \n",
    "X_test=np.hstack((X_test,X_test1,X_test2,X_test3,X_test4,X_test5))\n",
    "\n",
    "xtest=X_test[:,FeaturesSelected]\n",
    "del X_test,X_test1,X_test2,X_test3,X_test4,X_test5"
   ]
  },
  {
   "cell_type": "code",
   "execution_count": 6,
   "metadata": {
    "collapsed": false
   },
   "outputs": [],
   "source": [
    "num_boost_vals = [50, 300, 1000]\n",
    "eta_vals      = [0.1, 0.01]\n",
    "max_depth_vals = [10, 12, 14]\n",
    "colsample_bytree_vals = [0.4, 0.6, 0.8]\n",
    "min_child_weight_vals = 3 #[3, 9]\n",
    "subsample_vals = 1\n",
    "# gamma_vals = [0, 1]\n",
    "# lambda_vals = [0, 1]   #not tested\n",
    "AUC_all = np.zeros((3,2,3,3))"
   ]
  },
  {
   "cell_type": "code",
   "execution_count": 7,
   "metadata": {
    "collapsed": false
   },
   "outputs": [
    {
     "name": "stdout",
     "output_type": "stream",
     "text": [
      "0.772840441409\n",
      "0.776352769528\n",
      "0.778827117925\n",
      "0.762282643726\n",
      "0.777086180054\n",
      "0.786733947357\n",
      "0.771304274792\n",
      "0.777080703164\n",
      "0.781263935816\n",
      "0.765106278742\n",
      "0.779270111664\n",
      "0.787632526516\n",
      "0.771590440159\n",
      "0.779609538738\n"
     ]
    },
    {
     "ename": "KeyboardInterrupt",
     "evalue": "",
     "output_type": "error",
     "traceback": [
      "\u001b[1;31m---------------------------------------------------------------------------\u001b[0m",
      "\u001b[1;31mKeyboardInterrupt\u001b[0m                         Traceback (most recent call last)",
      "\u001b[1;32m<ipython-input-7-7fac0fdf1ed1>\u001b[0m in \u001b[0;36m<module>\u001b[1;34m()\u001b[0m\n\u001b[0;32m     30\u001b[0m \u001b[1;33m\u001b[0m\u001b[0m\n\u001b[0;32m     31\u001b[0m                     \u001b[0mdtrain\u001b[0m \u001b[1;33m=\u001b[0m \u001b[0mxgb\u001b[0m\u001b[1;33m.\u001b[0m\u001b[0mDMatrix\u001b[0m\u001b[1;33m(\u001b[0m\u001b[0mxtrain\u001b[0m\u001b[1;33m[\u001b[0m\u001b[0mtrain\u001b[0m\u001b[1;33m,\u001b[0m\u001b[1;33m:\u001b[0m\u001b[1;33m]\u001b[0m\u001b[1;33m,\u001b[0m \u001b[0mlabel\u001b[0m\u001b[1;33m=\u001b[0m\u001b[0my\u001b[0m\u001b[1;33m[\u001b[0m\u001b[0mtrain\u001b[0m\u001b[1;33m]\u001b[0m\u001b[1;33m)\u001b[0m\u001b[1;33m\u001b[0m\u001b[0m\n\u001b[1;32m---> 32\u001b[1;33m                     \u001b[0mclf\u001b[0m \u001b[1;33m=\u001b[0m \u001b[0mxgb\u001b[0m\u001b[1;33m.\u001b[0m\u001b[0mtrain\u001b[0m\u001b[1;33m(\u001b[0m\u001b[0mparams\u001b[0m\u001b[1;33m=\u001b[0m\u001b[0mparams\u001b[0m\u001b[1;33m,\u001b[0m\u001b[0mdtrain\u001b[0m\u001b[1;33m=\u001b[0m\u001b[0mdtrain\u001b[0m\u001b[1;33m,\u001b[0m \u001b[0mnum_boost_round\u001b[0m\u001b[1;33m=\u001b[0m\u001b[0mnum_boost_vals\u001b[0m\u001b[1;33m[\u001b[0m\u001b[0mgs_num_boost\u001b[0m\u001b[1;33m]\u001b[0m\u001b[1;33m)\u001b[0m\u001b[1;33m\u001b[0m\u001b[0m\n\u001b[0m\u001b[0;32m     33\u001b[0m \u001b[1;33m\u001b[0m\u001b[0m\n\u001b[0;32m     34\u001b[0m                     \u001b[0mdfulltrain\u001b[0m \u001b[1;33m=\u001b[0m \u001b[0mxgb\u001b[0m\u001b[1;33m.\u001b[0m\u001b[0mDMatrix\u001b[0m\u001b[1;33m(\u001b[0m\u001b[0mxtrain\u001b[0m\u001b[1;33m,\u001b[0m \u001b[0mlabel\u001b[0m\u001b[1;33m=\u001b[0m\u001b[0my\u001b[0m\u001b[1;33m)\u001b[0m\u001b[1;33m\u001b[0m\u001b[0m\n",
      "\u001b[1;32mC:\\Anaconda3\\envs\\python2\\lib\\site-packages\\xgboost-0.4-py2.7.egg\\xgboost\\training.pyc\u001b[0m in \u001b[0;36mtrain\u001b[1;34m(params, dtrain, num_boost_round, evals, obj, feval, early_stopping_rounds, evals_result, verbose_eval)\u001b[0m\n\u001b[0;32m     60\u001b[0m     \u001b[1;32mif\u001b[0m \u001b[1;32mnot\u001b[0m \u001b[0mearly_stopping_rounds\u001b[0m\u001b[1;33m:\u001b[0m\u001b[1;33m\u001b[0m\u001b[0m\n\u001b[0;32m     61\u001b[0m         \u001b[1;32mfor\u001b[0m \u001b[0mi\u001b[0m \u001b[1;32min\u001b[0m \u001b[0mrange\u001b[0m\u001b[1;33m(\u001b[0m\u001b[0mnum_boost_round\u001b[0m\u001b[1;33m)\u001b[0m\u001b[1;33m:\u001b[0m\u001b[1;33m\u001b[0m\u001b[0m\n\u001b[1;32m---> 62\u001b[1;33m             \u001b[0mbst\u001b[0m\u001b[1;33m.\u001b[0m\u001b[0mupdate\u001b[0m\u001b[1;33m(\u001b[0m\u001b[0mdtrain\u001b[0m\u001b[1;33m,\u001b[0m \u001b[0mi\u001b[0m\u001b[1;33m,\u001b[0m \u001b[0mobj\u001b[0m\u001b[1;33m)\u001b[0m\u001b[1;33m\u001b[0m\u001b[0m\n\u001b[0m\u001b[0;32m     63\u001b[0m             \u001b[1;32mif\u001b[0m \u001b[0mlen\u001b[0m\u001b[1;33m(\u001b[0m\u001b[0mevals\u001b[0m\u001b[1;33m)\u001b[0m \u001b[1;33m!=\u001b[0m \u001b[1;36m0\u001b[0m\u001b[1;33m:\u001b[0m\u001b[1;33m\u001b[0m\u001b[0m\n\u001b[0;32m     64\u001b[0m                 \u001b[0mbst_eval_set\u001b[0m \u001b[1;33m=\u001b[0m \u001b[0mbst\u001b[0m\u001b[1;33m.\u001b[0m\u001b[0meval_set\u001b[0m\u001b[1;33m(\u001b[0m\u001b[0mevals\u001b[0m\u001b[1;33m,\u001b[0m \u001b[0mi\u001b[0m\u001b[1;33m,\u001b[0m \u001b[0mfeval\u001b[0m\u001b[1;33m)\u001b[0m\u001b[1;33m\u001b[0m\u001b[0m\n",
      "\u001b[1;32mC:\\Anaconda3\\envs\\python2\\lib\\site-packages\\xgboost-0.4-py2.7.egg\\xgboost\\core.pyc\u001b[0m in \u001b[0;36mupdate\u001b[1;34m(self, dtrain, iteration, fobj)\u001b[0m\n\u001b[0;32m    576\u001b[0m \u001b[1;33m\u001b[0m\u001b[0m\n\u001b[0;32m    577\u001b[0m         \u001b[1;32mif\u001b[0m \u001b[0mfobj\u001b[0m \u001b[1;32mis\u001b[0m \u001b[0mNone\u001b[0m\u001b[1;33m:\u001b[0m\u001b[1;33m\u001b[0m\u001b[0m\n\u001b[1;32m--> 578\u001b[1;33m             \u001b[0m_check_call\u001b[0m\u001b[1;33m(\u001b[0m\u001b[0m_LIB\u001b[0m\u001b[1;33m.\u001b[0m\u001b[0mXGBoosterUpdateOneIter\u001b[0m\u001b[1;33m(\u001b[0m\u001b[0mself\u001b[0m\u001b[1;33m.\u001b[0m\u001b[0mhandle\u001b[0m\u001b[1;33m,\u001b[0m \u001b[0miteration\u001b[0m\u001b[1;33m,\u001b[0m \u001b[0mdtrain\u001b[0m\u001b[1;33m.\u001b[0m\u001b[0mhandle\u001b[0m\u001b[1;33m)\u001b[0m\u001b[1;33m)\u001b[0m\u001b[1;33m\u001b[0m\u001b[0m\n\u001b[0m\u001b[0;32m    579\u001b[0m         \u001b[1;32melse\u001b[0m\u001b[1;33m:\u001b[0m\u001b[1;33m\u001b[0m\u001b[0m\n\u001b[0;32m    580\u001b[0m             \u001b[0mpred\u001b[0m \u001b[1;33m=\u001b[0m \u001b[0mself\u001b[0m\u001b[1;33m.\u001b[0m\u001b[0mpredict\u001b[0m\u001b[1;33m(\u001b[0m\u001b[0mdtrain\u001b[0m\u001b[1;33m)\u001b[0m\u001b[1;33m\u001b[0m\u001b[0m\n",
      "\u001b[1;31mKeyboardInterrupt\u001b[0m: "
     ]
    }
   ],
   "source": [
    "for gs_colsample_bytree in range(len(colsample_bytree_vals)):\n",
    "    for gs_max_depth in range(len(max_depth_vals)):\n",
    "        for gs_eta in range(len(eta_vals)):\n",
    "            for gs_num_boost in range(len(num_boost_vals)):\n",
    "\n",
    "                KFoldNumber=3\n",
    "\n",
    "                kfold = StratifiedKFold(y, KFoldNumber,shuffle=True, random_state=42)\n",
    "                ypreds_test_wl=pd.DataFrame()\n",
    "                ypreds_train_wl=pd.DataFrame()\n",
    "                ypreds_cvindex_wl=pd.DataFrame()\n",
    "                AUCValues=np.zeros(KFoldNumber)\n",
    "\n",
    "                kfoldnum=0\n",
    "\n",
    "                train_predicted=np.zeros(y.shape)\n",
    "\n",
    "                params = {'max_depth':max_depth_vals[gs_max_depth], \n",
    "                          'eta':eta_vals[gs_eta], \n",
    "                          'objective':'binary:logistic', \n",
    "                          'subsample': subsample_vals,\n",
    "                          'colsample_bytree': colsample_bytree_vals[gs_colsample_bytree],\n",
    "                          'eval_metric': 'auc',\n",
    "                          'min_child_weight': min_child_weight_vals, #3 for this computer\n",
    "                         }\n",
    "\n",
    "                for train,cv in kfold:\n",
    "                    kfoldnum=kfoldnum+1\n",
    "                    cv_index=np.zeros(y.shape)\n",
    "\n",
    "                    dtrain = xgb.DMatrix(xtrain[train,:], label=y[train])\n",
    "                    clf = xgb.train(params=params,dtrain=dtrain, num_boost_round=num_boost_vals[gs_num_boost])    \n",
    "\n",
    "                    dfulltrain = xgb.DMatrix(xtrain, label=y)\n",
    "                    preds_fulltrain = clf.predict(dfulltrain)    \n",
    "                    dfulltest = xgb.DMatrix(xtest, label=np.zeros(xtest.shape[0]))\n",
    "                    preds_fulltest = clf.predict(dfulltest)\n",
    "                    preds_cv=preds_fulltrain[cv]\n",
    "                    cv_index[cv]=1\n",
    "\n",
    "                    AUC1=metrics.roc_auc_score(y[cv], preds_cv)\n",
    "\n",
    "                    ypreds_test_wl['CV'+ str(kfoldnum)] = preds_fulltest\n",
    "                    ypreds_train_wl['CV'+ str(kfoldnum)] = preds_fulltrain\n",
    "                    ypreds_cvindex_wl['CV'+ str(kfoldnum)] = cv_index\n",
    "                    AUCValues[kfoldnum-1]=float(AUC1)\n",
    "#                 print(AUCValues)\n",
    "\n",
    "                trainPredict=(ypreds_train_wl*ypreds_cvindex_wl).sum(axis=1)\n",
    "                testPredictMean=ypreds_test_wl.mean(axis=1)\n",
    "                AUC1=metrics.roc_auc_score(y, trainPredict)\n",
    "                print(AUC1)\n",
    "                AUC_all[gs_num_boost, gs_eta, gs_max_depth, gs_colsample_bytree]=AUC1\n",
    "\n",
    "                # TestPredict=pd.DataFrame()\n",
    "                # TestPredict['ID']=TestID\n",
    "                # TestPredict['Probability']=testPredictMean\n",
    "\n",
    "\n",
    "                str1=time.strftime(\"%b%d%Y%H%M%S\", time.localtime())\n",
    "                filename='xgb_'+str1+'_AUC_0p'+ str(int(AUC1.mean()*1e6))+ '.p'\n",
    "                pickle.dump((trainPredict,testPredictMean,ypreds_train_wl,ypreds_test_wl,ypreds_cvindex_wl,AUCValues), \n",
    "                            open(\"gridsearch_final/\" + filename,'wb'), protocol =2) \n",
    "\n",
    "    print('Model prediction done!')\n",
    "    "
   ]
  }
 ],
 "metadata": {
  "kernelspec": {
   "display_name": "Python 2",
   "language": "python",
   "name": "python2"
  },
  "language_info": {
   "codemirror_mode": {
    "name": "ipython",
    "version": 2
   },
   "file_extension": ".py",
   "mimetype": "text/x-python",
   "name": "python",
   "nbconvert_exporter": "python",
   "pygments_lexer": "ipython2",
   "version": "2.7.10"
  }
 },
 "nbformat": 4,
 "nbformat_minor": 0
}
