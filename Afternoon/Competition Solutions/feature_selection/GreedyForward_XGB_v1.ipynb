{
 "cells": [
  {
   "cell_type": "code",
   "execution_count": 34,
   "metadata": {
    "collapsed": false
   },
   "outputs": [],
   "source": [
    "import pandas as pd\n",
    "import numpy as np\n",
    "from sklearn import metrics\n",
    "from sklearn.feature_selection import VarianceThreshold\n",
    "from sklearn import preprocessing\n",
    "from sklearn import cross_validation\n",
    "from sklearn import linear_model\n",
    "import warnings\n",
    "import mytimer\n",
    "import time\n",
    "from sklearn.feature_extraction import DictVectorizer\n",
    "from scipy import sparse\n",
    "import pickle\n",
    "import xgboost as xgb\n",
    "mytimer=mytimer.Timer()\n",
    "warnings.simplefilter(\"ignore\")\n",
    "warnings.filterwarnings(\"ignore\")\n",
    "from datetime import datetime\n",
    "%matplotlib inline"
   ]
  },
  {
   "cell_type": "code",
   "execution_count": 36,
   "metadata": {
    "collapsed": false
   },
   "outputs": [],
   "source": [
    "X=np.load('./mostrecentinput/nxtrain_standard_original0.npy')\n",
    "X1= np.load('./mostrecentinput/nxtrain_standard_derived0.npy')\n",
    "X2=pickle.load(open(\"./mostrecentinput/time_series_derived_train2.dat\",\"rb\"))\n",
    "X3=pickle.load(open(\"./mostrecentinput/time_series_original_train2.dat\",\"rb\"))\n",
    "X4=pickle.load(open(\"./mostrecentinput/cat_numeric_th60_train2.dat\",\"rb\"))\n",
    "X=np.hstack((X,X1,X2,X3,X4))\n",
    "\n",
    "del X1,X2,X3,X4\n",
    "y=pickle.load(open(\"./mostrecentinput/ytrain2.dat\",\"rb\"))"
   ]
  },
  {
   "cell_type": "code",
   "execution_count": 38,
   "metadata": {
    "collapsed": true
   },
   "outputs": [],
   "source": [
    "def cv_loop(X, y, model, N, SEED=40, diagnostics=False, randomsplit=False):   \n",
    "    AUC = np.zeros(N)\n",
    "    skf = cross_validation.StratifiedKFold(y, n_folds=3) \n",
    "    for train, cv in skf:\n",
    "        if randomsplit: # random split of the row index\n",
    "            train, cv = cross_validation.train_test_split(range(len(y)), test_size=1.0/float(N), random_state = i*SEED)\n",
    "        break\n",
    "    mean_auc,preds_cv = model.fit_N_Predict(X[train,:], y[train],X[cv,:],y[cv])\n",
    "    std_auc=0.01\n",
    "    return mean_auc, std_auc  "
   ]
  },
  {
   "cell_type": "code",
   "execution_count": 39,
   "metadata": {
    "collapsed": false
   },
   "outputs": [],
   "source": [
    "def feature_selection(model, params, Xtrain, ytrain, diagonistics=False, nth=5, features=set([])):\n",
    "    print (\"Performing greedy feature selection...\")\n",
    "    score_hist = []\n",
    "    good_features=features\n",
    "    SEED=40\n",
    "    count = 0\n",
    "    nfeatures = 0\n",
    "    highest_score = -9999\n",
    "    MODEL = model.set_params(random_state=SEED)\n",
    "    while len(score_hist) < 2 or count < nth: \n",
    "        scores = []\n",
    "        bestAUC=0\n",
    "        ncount=0\n",
    "        AUC_All=np.zeros(Xtrain.shape[1])\n",
    "        f_All=np.zeros(Xtrain.shape[1]).astype(int)\n",
    "        print('%s\\t ' % (datetime.now()))\n",
    "        for f in range(Xtrain.shape[1]):\n",
    "            if f not in good_features:\n",
    "                feats = list(good_features) + [f]\n",
    "                X11=Xtrain[:,feats]\n",
    "                score = cv_loop(Xtrain[:,feats], y, MODEL, N=2)\n",
    "                AUC_All[ncount]=score[0]\n",
    "                f_All[ncount]=f\n",
    "                ncount=ncount+1\n",
    "                if score[0]>bestAUC:\n",
    "                    bestAUC=score[0]\n",
    "                    print('\\t\\t\\t\\t feature #: %d\\tcurrent AUC: %f' % (f, bestAUC))\n",
    "                scores.append((score, f))\n",
    "\n",
    "        best_score = sorted(scores)[-1]\n",
    "        best_score0=best_score[0][0]\n",
    "        best_feature = sorted(scores)[-1][1]\n",
    "        \n",
    "        if best_score0>highest_score:\n",
    "            highest_score = best_score0\n",
    "            nfeatures +=1\n",
    "        else:\n",
    "            count +=1\n",
    "        print(highest_score)    \n",
    "        index=np.argsort(AUC_All)[::-1]\n",
    "        for i in range(5):\n",
    "             good_features.add(f_All[index[i]])\n",
    "            \n",
    "        score_hist.append(best_score)\n",
    "        print (\"Current features: %s\" % sorted(list(good_features)))\n",
    "        print('Feature selection: %d features selected' % len(good_features))\n",
    "        \n",
    "        dir1=\"C:\\\\Users\\\\Wei\\\\Dropbox\\\\Bio_Physics_JailBreak\\\\Kaggle\\\\pickledump\\\\\"\n",
    "        str1=time.strftime(\"%b%d%Y_%H%M%S\", time.localtime())\n",
    "        str2='_AUC_'+0p'+ str(int(highest_score*1e5))\n",
    "        fn=dir1+'XGB_'+str(len(good_features))+'Features '+str1+str2+'.p'\n",
    "        \n",
    "        with open((fn), 'wb') as f:\n",
    "            pickle.dump(good_features, f, protocol =2)  \n",
    "\n",
    "    good_features = good_features[0:nfeatures]\n",
    "    good_features = sorted(list(good_features))\n",
    "    print('Feature selection: %d features selected'%nfeatures)\n",
    "    \n",
    "    if diagonistics:\n",
    "        plt.clf()\n",
    "        plt.plot(range(len(score_hist)),score_hist,'ro--')\n",
    "        plt.xlabel('number of selected features')\n",
    "        plt.ylabel('AUC score')\n",
    "        plt.title('Feature-selection curve')\n",
    "        plt.savefig('plots/featsel_curve.png')\n",
    "        \n",
    "    return good_features"
   ]
  },
  {
   "cell_type": "code",
   "execution_count": 40,
   "metadata": {
    "collapsed": true
   },
   "outputs": [],
   "source": [
    "class XGBClassfier():\n",
    "    def __init__(self, num_boost_round=10, **params):\n",
    "        self.clf = None\n",
    "        self.params = params\n",
    "        self.niter=100\n",
    " \n",
    "    def fit_N_Predict(self, x_train,y_train,x_test,y_test):\n",
    "        niter=self.niter\n",
    "        param = {'max_depth':14, \n",
    "                 'eta':0.01, \n",
    "                 'objective':'binary:logistic', \n",
    "                 'subsample':0.6,\n",
    "                 'colsample_bytree':0.6,\n",
    "                 'eval_metric': 'auc'  }\n",
    "\n",
    "        dtrain = xgb.DMatrix(x_train, label=y_train)\n",
    "        dtest = xgb.DMatrix(x_test, label=y_test)\n",
    "        clf = xgb.train(param, dtrain, 50)\n",
    "        preds = clf.predict(dtest)\n",
    "        AUC=metrics.roc_auc_score(y_test, preds)\n",
    "        return AUC,preds\n",
    " \n",
    "    def get_params(self, deep=True):\n",
    "        return self.params\n",
    " \n",
    "    def set_params(self, **params):\n",
    "        self.params.update(params)\n",
    "        return self"
   ]
  },
  {
   "cell_type": "code",
   "execution_count": null,
   "metadata": {
    "collapsed": true
   },
   "outputs": [],
   "source": [
    "features0 = set([43, 49, 129, 130, 131, 161, 163, 170, 188, 215, 218, 246, 286, 305, 316, \n",
    "                      396, 427, 460, 485, 489, 552, 555, 558, 595, 709, 735, 748, 751, 752, 774, \n",
    "                      778, 801, 810, 832, 839, 916, 917, 918, 950, 967, 969, 982, 983, 985, 1019, \n",
    "                      1022, 1027, 1050, 1075, 1116, 1142, 1144, 1162, 1176, 1254, 1278, \n",
    "                      1299, 1306, 1356, 1365, 1372, 1395, 1398, 1402, 1436])"
   ]
  },
  {
   "cell_type": "code",
   "execution_count": null,
   "metadata": {
    "collapsed": true
   },
   "outputs": [],
   "source": [
    "clf = XGBClassfier()\n",
    "params=0\n",
    "good_features=feature_selection(clf, params,X, y, diagonistics=False, nth=20,features=features0)"
   ]
  }
 ],
 "metadata": {
  "kernelspec": {
   "display_name": "Python 3",
   "language": "python",
   "name": "python3"
  },
  "language_info": {
   "codemirror_mode": {
    "name": "ipython",
    "version": 3
   },
   "file_extension": ".py",
   "mimetype": "text/x-python",
   "name": "python",
   "nbconvert_exporter": "python",
   "pygments_lexer": "ipython3",
   "version": "3.4.3"
  }
 },
 "nbformat": 4,
 "nbformat_minor": 0
}
