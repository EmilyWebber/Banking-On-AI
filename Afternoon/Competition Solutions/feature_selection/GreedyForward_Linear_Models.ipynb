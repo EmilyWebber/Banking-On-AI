{
 "cells": [
  {
   "cell_type": "code",
   "execution_count": 8,
   "metadata": {
    "collapsed": false
   },
   "outputs": [],
   "source": [
    "import pandas as pd\n",
    "import numpy as np\n",
    "from sklearn import metrics\n",
    "from sklearn.feature_selection import VarianceThreshold\n",
    "from sklearn import preprocessing\n",
    "from sklearn import cross_validation\n",
    "from sklearn import linear_model\n",
    "import warnings\n",
    "\n",
    "import time\n",
    "from sklearn.feature_extraction import DictVectorizer\n",
    "from scipy import sparse\n",
    "import pickle\n",
    "\n",
    "warnings.simplefilter(\"ignore\")\n",
    "warnings.filterwarnings(\"ignore\")\n",
    "from datetime import datetime\n",
    "%matplotlib inline\n",
    "t = time.time()\n",
    "#elapsed = (time.time() - t)/60"
   ]
  },
  {
   "cell_type": "code",
   "execution_count": 38,
   "metadata": {
    "collapsed": false
   },
   "outputs": [],
   "source": [
    "X=np.load('./mostrecentinput/nxtrain_standard_original0.npy')\n",
    "X1= np.load('./mostrecentinput/nxtrain_standard_derived0.npy')\n",
    "X2=pd.read_pickle(\"./mostrecentinput/time_series_derived_standard_train2.dat\")\n",
    "X3=pd.read_pickle(\"./mostrecentinput/time_series_original_standard_train2.dat\")\n",
    "X=np.hstack((X,X1,X2,X3))\n",
    "del X1,X2,X3\n",
    "y=pickle.load(open(\"./mostrecentinput/ytrain2.dat\",\"rb\"))"
   ]
  },
  {
   "cell_type": "markdown",
   "metadata": {},
   "source": [
    "## Defining cross validation and feature selection functions"
   ]
  },
  {
   "cell_type": "code",
   "execution_count": 23,
   "metadata": {
    "collapsed": true
   },
   "outputs": [],
   "source": [
    "kf = cross_validation.StratifiedKFold(y, n_folds=3, shuffle=True, random_state=42)\n",
    "\n",
    "for train_ind, test_ind in kf:\n",
    "    x_train= X[train_ind,:]\n",
    "    x_test = X[test_ind,:]\n",
    "    y_train= y[train_ind]\n",
    "    y_test = y[test_ind]\n",
    "    break"
   ]
  },
  {
   "cell_type": "code",
   "execution_count": 41,
   "metadata": {
    "collapsed": true
   },
   "outputs": [],
   "source": [
    "def cv_loop(X, y, model, N, SEED=40, diagnostics=False, randomsplit=False, method=\"Logistic\"):   \n",
    "    # N random splits into train and test sets with the test of 1/N fraction\n",
    "    \n",
    "    AUC = np.zeros(N)\n",
    "    skf = cross_validation.StratifiedKFold(y, n_folds=N) # K-fold cv splitting\n",
    "    i=0\n",
    "    for train, cv in skf:\n",
    "        if randomsplit: # random split of the row index\n",
    "            train, cv = cross_validation.train_test_split(range(len(y)), test_size=1.0/float(N), random_state = i*SEED)\n",
    "        break\n",
    "    \n",
    "    if method == \"Logistic\":\n",
    "        MODEL = model.fit(X[train,:], y[train])\n",
    "        preds_cv = MODEL.predict_proba(X[cv,:])[:,1]\n",
    "        fpr, tpr, _ = metrics.roc_curve(y[cv], preds_cv)\n",
    "        roc_auc = metrics.auc(fpr, tpr)\n",
    "    elif method == \"Aggressive\" or method == \"SVM\":\n",
    "        roc_auc,preds_cv = MODEL.fit_N_Predict(X[train,:], y[train],X[cv,:],y[cv])\n",
    "\n",
    "    AUC[i] = roc_auc\n",
    "\n",
    "    # plot learning curve and roc curve for diagonistics purpose\n",
    "    if diagnostics and i == 0:  # only plot for first fold\n",
    "        print(\"plotting ROC curve\")\n",
    "        plot_roc(fpr, tpr)\n",
    "        print(\"plotting learning curve\")\n",
    "        learning_curve(model, X.ix[train,:], y[train], X.ix[cv,:], y[cv])\n",
    "    i+=1\n",
    "        \n",
    "    mean_auc = roc_auc\n",
    "    std_auc=0.1\n",
    "    #std_auc = AUC.std()\n",
    "    return mean_auc, std_auc  # Return the mean and std of the cv AUC score"
   ]
  },
  {
   "cell_type": "code",
   "execution_count": 44,
   "metadata": {
    "collapsed": false
   },
   "outputs": [],
   "source": [
    "def feature_selection(model, params, Xtrain, ytrain, diagonistics=False, \n",
    "                      nth=2,FeatsPerRun=20,good_features = set([]),ModelName=\"Logistic\"):\n",
    "    \"Greedy (forward) feature selection until the performance stops improving for 20 steps\"\n",
    "    \n",
    "    print (\"Performing greedy feature selection...\")\n",
    "    score_hist = []\n",
    "    SEED=40\n",
    "    count = 0\n",
    "    nfeatures = 0\n",
    "    highest_score = -9999\n",
    "    MODEL = model.set_params(random_state=SEED)\n",
    "\n",
    "    while len(score_hist) < 2 or count < nth: \n",
    "        scores = []\n",
    "        bestAUC=0\n",
    "        ncount=0\n",
    "        AUC_All=np.zeros(Xtrain.shape[1])\n",
    "        f_All=np.zeros(Xtrain.shape[1]).astype(int)\n",
    "        print('%s\\t ' % (datetime.now()))\n",
    "        for f in range(Xtrain.shape[1]):\n",
    "            if f not in good_features:\n",
    "                feats = list(good_features) + [f]\n",
    "                X11=Xtrain[:,feats]\n",
    "                score = cv_loop(Xtrain[:,feats], y, MODEL, N=2,model=ModelName)\n",
    "                AUC_All[ncount]=score[0]\n",
    "                f_All[ncount]=f\n",
    "                ncount=ncount+1\n",
    "                if score[0]>bestAUC:\n",
    "                    bestAUC=score[0]\n",
    "                    print('\\t\\t\\t\\t feature #: %d\\t\\tcurrent AUC: %f' % (f, bestAUC))\n",
    "                elif np.mod(f, np.round(Xtrain.shape[1]/20))==0:\n",
    "                    print('\\t\\t\\t\\t feature #: %d\\t\\t: ' % (f))\n",
    "                scores.append((score, f))\n",
    "\n",
    "        best_score = sorted(scores)[-1]\n",
    "        best_score0=best_score[0][0]\n",
    "        best_feature = sorted(scores)[-1][1]\n",
    "        \n",
    "        if best_score0>highest_score:\n",
    "            highest_score = best_score0\n",
    "            nfeatures +=1\n",
    "        else:\n",
    "            count +=1\n",
    "        print(highest_score)    \n",
    "        index=np.argsort(AUC_All)[::-1]\n",
    "        for i in range(FeatsPerRun):\n",
    "             good_features.add(f_All[index[i]])\n",
    "            \n",
    "        \n",
    "        feats=list(good_features)\n",
    "        \n",
    "        score = cv_loop(Xtrain[:,feats], y, MODEL, N=2)\n",
    "        print (score)\n",
    " \n",
    "        score_hist.append(best_score)\n",
    "        \n",
    "        print (\"Current features: %s\" % list(good_features))\n",
    "        print('Feature selection: %d features selected' % len(good_features))\n",
    "        \n",
    "        str1=time.strftime(\"%b%d%Y_%H%M%S\", time.localtime())\n",
    "        fn= 'Feats'+ str(len(good_features))+str1+'_AUC_'+'0p'+str(int(highest_score*1e5))+'.p'\n",
    "        pickle.dump(good_features, open((fn), 'wb'), protocol =2)  \n",
    "        elapsed = (time.time() - t)/60\n",
    "        print(elapsed)\n",
    "\n",
    "    good_features = good_features[0:nfeatures]\n",
    "    good_features = sorted(list(good_features))\n",
    "    print('Feature selection: %d features selected'% nfeatures)\n",
    "    \n",
    "    if diagonistics:\n",
    "        plt.clf()\n",
    "        plt.plot(range(len(score_hist)),score_hist,'ro--')\n",
    "        plt.xlabel('number of selected features')\n",
    "        plt.ylabel('AUC score')\n",
    "        plt.title('Feature-selection curve')\n",
    "        plt.savefig('plots/featsel_curve.png')\n",
    "        \n",
    "    return good_features"
   ]
  },
  {
   "cell_type": "markdown",
   "metadata": {},
   "source": [
    "## SGD - Logistic regression"
   ]
  },
  {
   "cell_type": "code",
   "execution_count": 46,
   "metadata": {
    "collapsed": false
   },
   "outputs": [],
   "source": [
    "good_features=set( [1024, 1027, 1030, 11, 534, 1049, 1050, 551, 552, \n",
    "                    43, 555, 558, 49, 1075, 64, 595, 88, 1116, 93, \n",
    "                    1123, 1126, 1142, 1144, 636, 637, 129, 130, 131,\n",
    "                    1154, 134, 647, 1162, 1164, 141, 1176, 161, 163, \n",
    "                    165, 170, 178, 693, 188, 709, 198, 723, 215, 218,\n",
    "                    735, 739, 1253, 1254, 746, 1258, 748, 751, 752, 1265,\n",
    "                    246, 1272, 1278, 769, 260, 774, 1286, 778, 781, 270, \n",
    "                    1299, 277, 1306, 286, 801, 291, 810, 1326, 305, 309, \n",
    "                    311, 1336, 316, 832, 834, 839, 1356, 1365, 341, 342, \n",
    "                    856, 1372, 860, 363, 1389, 1395, 884, 1398, 1401, 1402, \n",
    "                    901, 396, 913, 916, 917, 918, 919, 410, 1436, 415, 929, \n",
    "                    427, 950, 960, 967, 969, 460, 1489, 982, 983, 1496, 985, \n",
    "                    1498, 485, 998, 489, 1019, 1022])"
   ]
  },
  {
   "cell_type": "code",
   "execution_count": null,
   "metadata": {
    "collapsed": true
   },
   "outputs": [],
   "source": [
    "clf = linear_model.SGDClassifier(loss='log',average=True,n_iter=20)\n",
    "params=0\n",
    "good_features1=feature_selection(clf, params,X, y, diagonistics=False, nth=10,FeatsPerRun=30,\n",
    "                                 good_features=good_features,ModelName=\"Logistic\")"
   ]
  },
  {
   "cell_type": "code",
   "execution_count": null,
   "metadata": {
    "collapsed": true
   },
   "outputs": [],
   "source": [
    "# Logistic regression classifer\n",
    "print ('start Logistic regression using Scikit learn')\n",
    "\n",
    "mytimer.startTimer()\n",
    "clf = linear_model.SGDClassifier(loss='log',average=True,n_iter=100)\n",
    "clf.fit(x_train, y_train)\n",
    "preds=clf.predict_proba(x_test)[:,1]\n",
    "\n",
    "print(metrics.roc_auc_score(y_test, preds))\n",
    "print ('Logistic regression using Scikit learn completed')\n",
    "ElapsedTime,sec=mytimer.endTimer(display=True)\n",
    "AUC_Logistic=metrics.roc_auc_score(y_test, preds)\n",
    "\n",
    "str1=time.strftime(\"%b%d%Y_%H%M%S\", time.localtime())\n",
    "preds.dump('./MetaResults/Logistic_'+str1 + '_AUC_' + '0p'+ str(int(AUC_Logistic*1e5)) \n",
    "           +'Time' +str(ElapsedTime) + '_WithCleanedData.p')\n"
   ]
  },
  {
   "cell_type": "markdown",
   "metadata": {},
   "source": [
    "## Passive Agreesive Classfier "
   ]
  },
  {
   "cell_type": "code",
   "execution_count": null,
   "metadata": {
    "collapsed": true
   },
   "outputs": [],
   "source": [
    "class AggressiveClassfier():\n",
    "    def __init__(self, num_boost_round=10, **params):\n",
    "        self.clf = None\n",
    "        self.params = params\n",
    "        self.niter = 100\n",
    " \n",
    "    def fit_N_Predict(self, x_train,y_train,x_test,y_test):\n",
    "        niter = self.niter \n",
    "        preds=0\n",
    "        for i in range(niter):\n",
    "            clf1= linear_model.PassiveAggressiveClassifier(loss='squared_hinge',C=1.0)\n",
    "            clf1.fit(x_train, y_train)\n",
    "            pred0=clf1.predict(x_test)\n",
    "            preds=preds+pred0\n",
    "            #if np.mod(i,10)==0: print(i,end=' ')\n",
    "        preds=preds/float(niter)\n",
    "        AUC=metrics.roc_auc_score(y_test, preds)\n",
    "        return AUC,preds\n",
    " \n",
    "    def get_params(self, deep=True):\n",
    "        return self.params\n",
    " \n",
    "    def set_params(self, **params):\n",
    "        self.params.update(params)\n",
    "        return self"
   ]
  },
  {
   "cell_type": "code",
   "execution_count": null,
   "metadata": {
    "collapsed": true
   },
   "outputs": [],
   "source": [
    "clf = AggressiveClassfier(niter=100)\n",
    "params=0;\n",
    "good_features=feature_selection(clf, params,X, y, diagonistics=False, nth=2,ModelName=\"Aggressive\"\n",
    "                                ,good_features=good_features)\n",
    "pickle.dump(good_features, open('good_features_SDG_Aggressive.dat', 'wb') , protocol =2)\n",
    "\n",
    "# Logistic regression classifer\n",
    "print ('start Aggressive using Scikit learn')\n",
    "\n",
    "mytimer.startTimer()\n",
    "clf = linear_model.SGDClassifier(loss='log',average=True,n_iter=100)\n",
    "clf.fit(x_train, y_train)\n",
    "preds=clf.predict_proba(x_test)[:,1]\n",
    "\n",
    "print(metrics.roc_auc_score(y_test, preds))\n",
    "print ('Aggressive using Scikit learn completed')\n",
    "ElapsedTime,sec=mytimer.endTimer(display=True)\n",
    "AUC_Logistic=metrics.roc_auc_score(y_test, preds)\n",
    "\n",
    "str1=time.strftime(\"%b%d%Y_%H%M%S\", time.localtime())\n",
    "preds.dump('./MetaResults/Aggressive_'+str1 + '_AUC_' + '0p'+ str(int(AUC_Logistic*1e5)) \n",
    "           +'Time' +str(ElapsedTime) + '_WithCleanedData.p')"
   ]
  },
  {
   "cell_type": "markdown",
   "metadata": {},
   "source": [
    "## SGD SVM"
   ]
  },
  {
   "cell_type": "code",
   "execution_count": null,
   "metadata": {
    "collapsed": true
   },
   "outputs": [],
   "source": [
    "class SVMClassifier():\n",
    "    def __init__(self, num_boost_round=10, **params):\n",
    "        self.clf = None\n",
    "        self.params = params\n",
    "        self.niter=100\n",
    " \n",
    "    def fit_N_Predict(self, x_train,y_train,x_test,y_test):\n",
    "        niter=self.niter\n",
    "        preds=0\n",
    "        for i in range(niter):\n",
    "            clf1= linear_model.SGDClassifier()\n",
    "            clf1.fit(x_train, y_train)\n",
    "            pred0=clf1.predict(x_test)\n",
    "            preds=preds+pred0\n",
    "            #if np.mod(i,10)==0: print(i,end=' ')\n",
    "        preds=preds/float(niter)\n",
    "        AUC=metrics.roc_auc_score(y_test, preds)\n",
    "        return AUC,preds\n",
    " \n",
    "    def get_params(self, deep=True):\n",
    "        return self.params\n",
    " \n",
    "    def set_params(self, **params):\n",
    "        self.params.update(params)\n",
    "        return self"
   ]
  },
  {
   "cell_type": "code",
   "execution_count": null,
   "metadata": {
    "collapsed": true
   },
   "outputs": [],
   "source": [
    "clf = SVMClassifier(n_iter=100)\n",
    "params=0\n",
    "good_features=feature_selectionSVM(clf, params,X, y, diagonistics=False, nth=2,\n",
    "                                   good_features=good_features)\n",
    "\n",
    "print ('start SVM using Scikit learn')\n",
    "mytimer.startTimer()\n",
    "clf = linear_model.SGDClassifier(loss='log',average=True,n_iter=100)\n",
    "clf.fit(x_train, y_train)\n",
    "preds=clf.predict_proba(x_test)[:,1]\n",
    "\n",
    "print(metrics.roc_auc_score(y_test, preds))\n",
    "print ('SVM using Scikit learn completed')\n",
    "ElapsedTime,sec=mytimer.endTimer(display=True)\n",
    "AUC_Logistic=metrics.roc_auc_score(y_test, preds)\n",
    "\n",
    "str1=time.strftime(\"%b%d%Y_%H%M%S\", time.localtime())\n",
    "preds.dump('./MetaResults/SVM_'+str1 + '_AUC_' + '0p'+ str(int(AUC_Logistic*1e5)) \n",
    "           +'Time' +str(ElapsedTime) + '_WithCleanedData.p')\n"
   ]
  },
  {
   "cell_type": "code",
   "execution_count": null,
   "metadata": {
    "collapsed": true
   },
   "outputs": [],
   "source": []
  }
 ],
 "metadata": {
  "kernelspec": {
   "display_name": "Python 3",
   "language": "python",
   "name": "python3"
  },
  "language_info": {
   "codemirror_mode": {
    "name": "ipython",
    "version": 3
   },
   "file_extension": ".py",
   "mimetype": "text/x-python",
   "name": "python",
   "nbconvert_exporter": "python",
   "pygments_lexer": "ipython3",
   "version": "3.4.3"
  }
 },
 "nbformat": 4,
 "nbformat_minor": 0
}
