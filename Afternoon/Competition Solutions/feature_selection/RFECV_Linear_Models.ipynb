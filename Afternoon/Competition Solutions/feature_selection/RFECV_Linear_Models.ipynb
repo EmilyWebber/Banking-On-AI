{
 "cells": [
  {
   "cell_type": "code",
   "execution_count": 1,
   "metadata": {
    "collapsed": false
   },
   "outputs": [],
   "source": [
    "import pandas as pd\n",
    "import numpy as np\n",
    "from sklearn import metrics\n",
    "from sklearn.feature_selection import VarianceThreshold\n",
    "from sklearn import preprocessing\n",
    "from sklearn import cross_validation\n",
    "from sklearn import linear_model\n",
    "import warnings\n",
    "import time\n",
    "from sklearn.feature_extraction import DictVectorizer\n",
    "from scipy import sparse\n",
    "import pickle\n",
    "from datetime import datetime\n",
    "import matplotlib.pyplot as plt\n",
    "from sklearn.svm import SVC\n",
    "from sklearn.cross_validation import StratifiedKFold\n",
    "from sklearn.feature_selection import RFECV\n",
    "from sklearn.datasets import make_classification\n",
    "\n",
    "%matplotlib inline\n",
    "t = time.time()"
   ]
  },
  {
   "cell_type": "code",
   "execution_count": 2,
   "metadata": {
    "collapsed": false
   },
   "outputs": [],
   "source": [
    "X=np.load('../../../input/nxtrain_standard_original0.npy')\n",
    "X1= np.load('../../../input/nxtrain_standard_derived0.npy')\n",
    "X2=pd.read_pickle(\"../../../input/time_series_derived_standard_train2.dat\")\n",
    "X3=pd.read_pickle(\"../../../input/time_series_original_standard_train2.dat\")\n",
    "X=np.hstack((X,X1,X2,X3))\n",
    "y=pickle.load(open(\"../../../input/ytrain2.dat\",\"rb\"))"
   ]
  },
  {
   "cell_type": "markdown",
   "metadata": {},
   "source": [
    "## Feature Selection for SDG Logistic regression"
   ]
  },
  {
   "cell_type": "code",
   "execution_count": 3,
   "metadata": {
    "collapsed": false
   },
   "outputs": [
    {
     "data": {
      "image/png": "[encoded data removed]",
      "text/plain": [
       "<matplotlib.figure.Figure at 0x60c2be0>"
      ]
     },
     "metadata": {},
     "output_type": "display_data"
    }
   ],
   "source": [
    "def scorer(estimator, X_test, y_test):\n",
    "    preds_cv = estimator.predict_proba(X_test)[:,1]\n",
    "    roc_auc=metrics.roc_auc_score(y_test, preds_cv)\n",
    "    return roc_auc\n",
    "\n",
    "clf = linear_model.SGDClassifier(loss='log',average=True,n_iter=40)\n",
    "selector = RFECV(estimator=clf, step=40, cv=StratifiedKFold(y, 2),\n",
    "              scoring=scorer,verbose=0)\n",
    "selector1 = selector.fit(X, y)\n",
    "# Plotting\n",
    "plt.figure()\n",
    "plt.xlabel(\"Number of features selected\")\n",
    "plt.ylabel(\"Cross validation score (nb of correct classifications)\")\n",
    "plt.plot(range(1, len(selector1.grid_scores_) + 1), selector1.grid_scores_)\n",
    "plt.show()"
   ]
  },
  {
   "cell_type": "markdown",
   "metadata": {},
   "source": [
    "## Prediction using SDG-Logistic regression"
   ]
  },
  {
   "cell_type": "code",
   "execution_count": 12,
   "metadata": {
    "collapsed": false
   },
   "outputs": [],
   "source": [
    "Xselect=X[:,selector1.support_]\n",
    "clf = linear_model.SGDClassifier(loss='log',average=True,n_iter=500)\n",
    "skf = cross_validation.StratifiedKFold(y, n_folds=2) # K-fold cv splitting\n",
    "for train0, cv0 in skf:\n",
    "    train, cv = train0, cv0\n",
    "    break\n",
    "\n",
    "MODEL = clf.fit(Xselect[train,:], y[train])\n",
    "preds_cv = MODEL.predict_proba(Xselect[cv,:])[:,1]\n",
    "AUC1=roc_auc=metrics.roc_auc_score(y[cv], preds_cv)\n",
    "str1=time.strftime(\"%b%d%Y%H%M%S\", time.localtime())\n",
    "filename='../../../SDGLogistic_'  +  str1 + '_AUC_' + str(AUC1) + '.p'\n",
    "np.arange(X.shape[1])[selector1.support_].dump(filename)"
   ]
  },
  {
   "cell_type": "markdown",
   "metadata": {},
   "source": [
    "## Feature Selection for SDG Passive Aggressive Classfier"
   ]
  },
  {
   "cell_type": "code",
   "execution_count": null,
   "metadata": {
    "collapsed": true
   },
   "outputs": [],
   "source": [
    "clf= linear_model.PassiveAggressiveClassifier(loss='squared_hinge',C=1.0)\n",
    "selector = RFECV(estimator=clf, step=100, cv=StratifiedKFold(y, 20),\n",
    "              scoring='roc_auc',verbose=0)\n",
    "\n",
    "selector1 = selector.fit(X, y)\n",
    "Xselect=X[:,selector1.support_]\n",
    "\n",
    "clf = linear_model.PassiveAggressiveClassifier(loss='squared_hinge',C=1.0)\n",
    "skf = cross_validation.StratifiedKFold(y, n_folds=2) \n",
    "\n",
    "for train0, cv0 in skf:\n",
    "    train, cv = train0, cv0\n",
    "    break\n",
    "\n",
    "niter=100\n",
    "preds=0\n",
    "ncount=0\n",
    "for i in range(niter):\n",
    "    MODEL = clf.fit(Xselect[train,:], y[train])\n",
    "    pred0=MODEL.predict(Xselect[cv,:])\n",
    "    preds=preds+pred0\n",
    "    ncount+=1\n",
    "        \n",
    "preds=preds/float(ncount)\n",
    "AUC1=metrics.roc_auc_score(y[cv], preds)\n",
    "\n",
    "str1=time.strftime(\"%b%d%Y%H%M%S\", time.localtime())\n",
    "filename='../../../SDG_Aggressive_'  +  str1 + '_AUC_' + str(AUC1) + '.p'\n",
    "np.arange(X.shape[1])[selector1.support_].dump(filename)\n",
    "\n",
    "# Plotting\n",
    "plt.figure()\n",
    "plt.xlabel(\"Number of features selected\")\n",
    "plt.ylabel(\"Cross validation score (nb of correct classifications)\")\n",
    "plt.plot(range(1, len(selector1.grid_scores_) + 1), selector1.grid_scores_)\n",
    "plt.show()\n",
    "print(AUC1)"
   ]
  },
  {
   "cell_type": "markdown",
   "metadata": {},
   "source": [
    "## Prediction using SDG SVM"
   ]
  },
  {
   "cell_type": "code",
   "execution_count": null,
   "metadata": {
    "collapsed": true
   },
   "outputs": [],
   "source": [
    "clf = linear_model.SGDClassifier()\n",
    "selector = RFECV(estimator=clf, step=100, cv=StratifiedKFold(y, 10),\n",
    "              scoring='roc_auc',verbose=0)\n",
    "\n",
    "selector1 = selector.fit(X, y)\n",
    "\n",
    "Xselect=X[:,selector1.support_]\n",
    "\n",
    "clf = linear_model.SGDClassifier()\n",
    "skf = cross_validation.StratifiedKFold(y, n_folds=5) # K-fold cv splitting\n",
    "\n",
    "for train0, cv0 in skf:\n",
    "    train, cv = train0, cv0\n",
    "    break\n",
    "\n",
    "niter=100\n",
    "preds=0\n",
    "ncount=0\n",
    "for i in range(niter):\n",
    "    MODEL = clf.fit(Xselect[train,:], y[train])\n",
    "    pred0=MODEL.predict(Xselect[cv,:])\n",
    "    preds=preds+pred0\n",
    "    ncount+=1\n",
    "        \n",
    "preds=preds/float(ncount)\n",
    "AUC1=metrics.roc_auc_score(y[cv], preds)\n",
    "\n",
    "\n",
    "str1=time.strftime(\"%b%d%Y%H%M%S\", time.localtime())\n",
    "filename='SDGSVM_'  +  str1 + '_AUC_' + str(AUC1) + '.p'\n",
    "np.arange(X.shape[1])[selector1.support_].dump(filename)\n",
    "\n",
    "# Plotting\n",
    "plt.figure()\n",
    "plt.xlabel(\"Number of features selected\")\n",
    "plt.ylabel(\"Cross validation score (nb of correct classifications)\")\n",
    "plt.plot(range(1, len(selector1.grid_scores_) + 1), selector1.grid_scores_)\n",
    "plt.show()\n",
    "print(AUC1)\n",
    "elapsed = (time.time() - t)/60\n",
    "print(elapsed)"
   ]
  },
  {
   "cell_type": "code",
   "execution_count": null,
   "metadata": {
    "collapsed": true
   },
   "outputs": [],
   "source": []
  }
 ],
 "metadata": {
  "kernelspec": {
   "display_name": "Python 3",
   "language": "python",
   "name": "python3"
  },
  "language_info": {
   "codemirror_mode": {
    "name": "ipython",
    "version": 3
   },
   "file_extension": ".py",
   "mimetype": "text/x-python",
   "name": "python",
   "nbconvert_exporter": "python",
   "pygments_lexer": "ipython3",
   "version": "3.4.3"
  }
 },
 "nbformat": 4,
 "nbformat_minor": 0
}
