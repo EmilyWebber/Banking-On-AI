{
 "cells": [
  {
   "cell_type": "code",
   "execution_count": 2,
   "metadata": {
    "collapsed": false
   },
   "outputs": [],
   "source": [
    "import pandas as pd\n",
    "import numpy as np\n",
    "import matplotlib.pylab as plt\n",
    "from scipy import stats,sparse\n",
    "from sklearn.base import TransformerMixin\n",
    "from datetime import datetime as dt\n",
    "from math import isnan\n",
    "from numpy import ma\n",
    "import pickle as pickle\n",
    "import xgboost as xgb\n",
    "import time\n",
    "from pandas import *\n",
    "from sklearn.preprocessing import LabelEncoder\n",
    "from sklearn.ensemble import RandomForestClassifier \n",
    "\n",
    "import json\n",
    "from sklearn.metrics import roc_curve, auc\n",
    "from re import sub\n",
    "from collections import defaultdict\n",
    "import scipy as sp\n",
    "\n",
    "from sklearn.cross_validation import StratifiedKFold,cross_val_score\n",
    "from sklearn.grid_search import GridSearchCV\n",
    "from sklearn.metrics import classification_report,confusion_matrix\n",
    "from sklearn import linear_model\n",
    "from sklearn import metrics\n",
    "\n",
    "from sklearn.datasets import load_iris\n",
    "from sklearn.feature_selection import SelectKBest\n",
    "from sklearn.feature_selection import chi2\n",
    "from scipy import sparse\n",
    "from sklearn.preprocessing import OneHotEncoder,StandardScaler\n"
   ]
  },
  {
   "cell_type": "code",
   "execution_count": null,
   "metadata": {
    "collapsed": true
   },
   "outputs": [],
   "source": [
    "FeaturesSelected=np.load('./mostrecentinput/SDGLogistic_Oct172015032138_AUC_0.768923541152.p')\n",
    "X=np.load('./mostrecentinput/nxtrain_standard_original0.npy')\n",
    "X1= np.load('./mostrecentinput/nxtrain_standard_derived0.npy')\n",
    "X2=pd.read_pickle(\"./mostrecentinput/time_series_derived_standard_train2.dat\")\n",
    "X3=pd.read_pickle(\"./mostrecentinput/time_series_original_standard_train2.dat\")\n",
    "X=np.hstack((X,X1,X2,X3))\n",
    "del X1,X2,X3\n",
    "X1=X*1000\n",
    "X1=X1.astype(int)\n",
    "X1=np.delete(X1, FeaturesSelected,axis=1)\n",
    "X1.dump('NumericalVariable_ConvertedCatVariables.p')"
   ]
  },
  {
   "cell_type": "code",
   "execution_count": null,
   "metadata": {
    "collapsed": true
   },
   "outputs": [],
   "source": [
    "X_test=np.load('./mostrecentinput/nxtest_standard_original0.npy')\n",
    "X_test1= np.load('./mostrecentinput/nxtest_standard_derived0.npy')\n",
    "X_test2=pd.read_pickle(\"./mostrecentinput/time_series_derived_standard_test2.dat\")\n",
    "X_test3=pd.read_pickle(\"./mostrecentinput/time_series_original_standard_test2.dat\")\n",
    "X_test=np.hstack((X_test,X_test1,X_test2,X_test3))\n",
    "xtest0=X_test[:,FeaturesSelected]\n",
    "del X_test1,X_test2,X_test3\n",
    "X_test=X_test*1000\n",
    "X_test=X_test.astype(int)\n",
    "X_test1=np.delete(X_test, FeaturesSelected,axis=1)\n",
    "X_test1.dump('Test_NumericalVariable_ConvertedCatVariables.p')"
   ]
  },
  {
   "cell_type": "code",
   "execution_count": null,
   "metadata": {
    "collapsed": true
   },
   "outputs": [],
   "source": [
    "train=np.load('Train_NumericalVariable_ConvertedCatVariables.p')\n",
    "test=np.load('Test_NumericalVariable_ConvertedCatVariables.p')\n",
    "y=pickle.load(open(\"./mostrecentinput/ytrain2.dat\",\"rb\"))"
   ]
  },
  {
   "cell_type": "code",
   "execution_count": null,
   "metadata": {
    "collapsed": true
   },
   "outputs": [],
   "source": [
    "traintest1=np.vstack((train,test))\n",
    "traintest1=traintest1.apply(lambda x: x - x.min() if x.min() <= 0 else x)\n",
    "hot = OneHotEncoder()\n",
    "data_mt = hot.fit_transform(traintest1)\n",
    "data_mt_train=data_mt[:145231,:]\n",
    "data_mt_test=data_mt[145231:,:]\n",
    "del data_mt\n",
    "\n",
    "Kfeature=round(data_mt_train.shape[1]*0.2)\n",
    "SLTKBest=SelectKBest(chi2, k=Kfeature)\n",
    "SLTKBest.fit(data_mt_train, y)\n",
    "SparseSelect=SLTKBest.get_support()\n",
    "Xtrain_sparse40Percent_Seg1 = data_mt_train[:,SparseSelect]\n",
    "    "
   ]
  }
 ],
 "metadata": {
  "kernelspec": {
   "display_name": "Python 3",
   "language": "python",
   "name": "python3"
  },
  "language_info": {
   "codemirror_mode": {
    "name": "ipython",
    "version": 3
   },
   "file_extension": ".py",
   "mimetype": "text/x-python",
   "name": "python",
   "nbconvert_exporter": "python",
   "pygments_lexer": "ipython3",
   "version": "3.4.3"
  }
 },
 "nbformat": 4,
 "nbformat_minor": 0
}
