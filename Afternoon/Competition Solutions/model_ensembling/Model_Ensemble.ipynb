{
 "cells": [
  {
   "cell_type": "code",
   "execution_count": 10,
   "metadata": {
    "collapsed": true
   },
   "outputs": [],
   "source": [
    "import cPickle as pickle\n",
    "import itertools\n",
    "import json\n",
    "import scipy as sp\n",
    "from scipy.optimize import minimize\n",
    "import numpy as np\n",
    "import pandas as pd\n",
    "import time\n",
    "from functools import partial\n",
    "from operator import itemgetter\n",
    "\n",
    "from sklearn import metrics\n",
    "from sklearn.metrics import roc_curve, auc\n",
    "from sklearn.grid_search import GridSearchCV\n",
    "from sklearn import cross_validation, linear_model\n",
    "\n",
    "import matplotlib.pyplot as plt\n",
    "\n",
    "%matplotlib inline"
   ]
  },
  {
   "cell_type": "markdown",
   "metadata": {},
   "source": [
    "## 1. Load Prediction of test data and CV-predictoin of train data"
   ]
  },
  {
   "cell_type": "code",
   "execution_count": 11,
   "metadata": {
    "collapsed": false
   },
   "outputs": [
    {
     "name": "stdout",
     "output_type": "stream",
     "text": [
      "(145231L,)\n",
      "Model-1: The AUC score for model sgd_0p771702_wl_ is: 0.771702\n",
      "\n",
      "Model-2: The AUC score for model sgd_0p770356_wl_ is: 0.770356\n",
      "\n",
      "Model-3: The AUC score for model sgd_0p769531_wl_ is: 0.769532\n",
      "\n",
      "Model-4: The AUC score for model svm-0p752773_wl_ is: 0.752773\n",
      "\n",
      "Model-5: The AUC score for model rf-335_ is: 0.770027\n",
      "\n",
      "Model-6: The AUC score for model rf-all_ is: 0.768094\n",
      "\n",
      "Model-7: The AUC score for model xgb-665_ is: 0.772898\n",
      "\n",
      "Model-8: The AUC score for model xgb-933_ is: 0.773977\n",
      "\n",
      "Model-9: The AUC score for model xgb-all_ is: 0.760597\n",
      "\n",
      "Model-10: The AUC score for model xgb_0p770751_wl_ is: 0.770751\n",
      "\n",
      "Model-11: The AUC score for model xgb_lr_0p777824_wl_ is: 0.777824\n",
      "\n",
      "Model-12: The AUC score for model xgb_lr_0p777125_50Segments_wl_ is: 0.777126\n",
      "\n",
      "Model-13: The AUC score for model xgb_lr_0p776415_wl_ is: 0.776415\n",
      "\n",
      "Model-14: The AUC score for model xgb_0p784886_wl_ is: 0.784887\n",
      "\n",
      "Model-15: The AUC score for model xgb_0p785604_wl_ is: 0.785604\n",
      "\n",
      "Model-16: The AUC score for model xgb_0p785120_wl_ is: 0.785120\n",
      "\n",
      "Model-17: The AUC score for model xgb_0p784916_wl_ is: 0.784917\n",
      "\n",
      "Model-18: The AUC score for model xgb_0p785155_wl_ is: 0.785156\n",
      "\n",
      "Model-19: The AUC score for model xgb_0p785468_wl_ is: 0.785468\n",
      "\n",
      "Model-20: The AUC score for model xgb_0p785787_wl_ is: 0.785787\n",
      "\n",
      "Model-21: The AUC score for model xgb_0p785890_wl_ is: 0.785890\n",
      "\n",
      "Model-22: The AUC score for model xgb_0p786040_wl_ is: 0.786041\n",
      "\n",
      "Model-23: The AUC score for model xgb_0p786290_wl_ is: 0.786291\n",
      "\n",
      "Model-24: The AUC score for model xgbmeta_0p793611_wl_ is: 0.793612\n",
      "\n",
      "Model-25: The AUC score for model xgbmeta_0p793971_wl_ is: 0.793971\n",
      "\n",
      "Model-26: The AUC score for model xgb_Oct192015134751_AUC_0p787695_sl_ is: 0.787696\n",
      "\n",
      "Model-27: The AUC score for model xgb_Oct192015065533_AUC_0p787632_sl_ is: 0.787633\n",
      "\n",
      "Model-28: The AUC score for model xgb_Oct192015133017_AUC_0p787608_sl_ is: 0.787608\n",
      "\n",
      "Model-29: The AUC score for model xgb_Oct192015101525_AUC_0p787437_sl_ is: 0.787438\n",
      "\n",
      "Model-30: The AUC score for model xgb_Oct192015120324_AUC_0p787252_sl_ is: 0.787253\n",
      "\n",
      "Model-31: The AUC score for model xgb_Oct192015085532_AUC_0p787197_sl_ is: 0.787198\n",
      "\n",
      "Model-32: The AUC score for model xgb_Oct192015040605_AUC_0p786733_sl_ is: 0.786734\n",
      "\n",
      "Model-33: The AUC score for model xgb_Oct192015051026_AUC_0p786338_sl_ is: 0.786339\n",
      "\n",
      "Model-34: The AUC score for model xgb_Oct192015120134_AUC_0p785606_sl_ is: 0.785606\n",
      "\n",
      "Model-35: The AUC score for model xgb_Oct192015052747_AUC_0p781263_sl_ is: 0.781264\n",
      "\n",
      "Model-36: The AUC score for model xgb_Oct192015065922_AUC_0p780004_sl_ is: 0.780005\n",
      "\n",
      "Model-37: The AUC score for model xgb_Oct192015154017_AUC_0p787790_sl_ is: 0.787790\n",
      "\n",
      "Model-38: The AUC score for model meta_xgb_Oct192015184228_AUC_0p794324_sl_ is: 0.794325\n",
      "\n",
      "Model-39: The AUC score for model meta_xgb_Oct192015184936_AUC_0p794619_sl_ is: 0.794620\n",
      "\n",
      "Model-40: The AUC score for model meta_xgb_Oct192015185918_AUC_0p794108_sl_ is: 0.794108\n",
      "\n",
      "((145231L, 40L), (145232L, 40L))\n"
     ]
    }
   ],
   "source": [
    "path_to_results = 'C:/Users/HZ/Dropbox/Bio_Physics_JailBreak/Kaggle/Final Prediction+/'\n",
    "\n",
    "\n",
    "test_ID = pickle.load(open(path_to_results+'xtest_ID.pkl','rb'))    \n",
    "y = pickle.load(open(path_to_results+'ytrain2.dat','rb'))  # ground-truth label of training data\n",
    "print(y.shape)\n",
    "\n",
    "results=['sgd_0p771702_wl_',\n",
    "         'sgd_0p770356_wl_','sgd_0p769531_wl_',\n",
    "         'svm-0p752773_wl_',\n",
    "         \"rf-335_\",\"rf-all_\",\n",
    "         \"xgb-665_\",\"xgb-933_\",\"xgb-all_\",\"xgb_0p770751_wl_\",\n",
    "        \"xgb_lr_0p777824_wl_\",\"xgb_lr_0p777125_50Segments_wl_\",\"xgb_lr_0p776415_wl_\",\n",
    "         \"xgb_0p784886_wl_\",\"xgb_0p785604_wl_\",\"xgb_0p785120_wl_\",\"xgb_0p784916_wl_\",\n",
    "        \"xgb_0p785155_wl_\",\"xgb_0p785468_wl_\",\"xgb_0p785787_wl_\",\"xgb_0p785890_wl_\",\"xgb_0p786040_wl_\",\"xgb_0p786290_wl_\",\n",
    "        \"xgbmeta_0p793611_wl_\",\n",
    "        \"xgbmeta_0p793971_wl_\"]\n",
    "\n",
    "# addition models\n",
    "model_name1  = 'xgb_Oct192015134751_AUC_0p787695_sl_'\n",
    "model_name2  = 'xgb_Oct192015065533_AUC_0p787632_sl_'\n",
    "model_name3  = 'xgb_Oct192015133017_AUC_0p787608_sl_'\n",
    "model_name4  = 'xgb_Oct192015101525_AUC_0p787437_sl_'\n",
    "model_name5  = 'xgb_Oct192015120324_AUC_0p787252_sl_'\n",
    "model_name6  = 'xgb_Oct192015085532_AUC_0p787197_sl_'\n",
    "model_name7  = 'xgb_Oct192015040605_AUC_0p786733_sl_'\n",
    "model_name8  = 'xgb_Oct192015051026_AUC_0p786338_sl_'\n",
    "model_name9  = 'xgb_Oct192015120134_AUC_0p785606_sl_'\n",
    "model_name10 = 'xgb_Oct192015052747_AUC_0p781263_sl_'\n",
    "model_name11 = 'xgb_Oct192015065922_AUC_0p780004_sl_'\n",
    "model_name12 = 'xgb_Oct192015154017_AUC_0p787790_sl_'\n",
    "model_name13 = 'meta_xgb_Oct192015184228_AUC_0p794324_sl_'\n",
    "model_name14 = 'meta_xgb_Oct192015184936_AUC_0p794619_sl_'\n",
    "model_name15 = 'meta_xgb_Oct192015185918_AUC_0p794108_sl_'\n",
    "\n",
    "model_saifeng=[model_name1,model_name2,model_name3,model_name4,model_name5,\n",
    "               model_name6,model_name7,model_name8,model_name9,model_name10,\n",
    "               model_name11,model_name12,model_name13,model_name14,model_name15]\n",
    "results.extend(model_saifeng)\n",
    "\n",
    "nameypreds_train = 'ypredtrain.pkl'\n",
    "nameypreds_test = 'ypredtest.pkl'\n",
    "\n",
    "preds_train=[]\n",
    "preds_test =[]\n",
    "\n",
    "for i, model in enumerate(results):\n",
    "    ypred_train = list(pickle.load(open(path_to_results + model + nameypreds_train, 'rb')))\n",
    "    print('Model-%d: The AUC score for model %s is: %f\\n'%(i+1, model,metrics.roc_auc_score(y, ypred_train)))\n",
    "    preds_train.append(ypred_train)\n",
    "    preds_test.append(list(pickle.load(open(path_to_results + model + nameypreds_test, 'rb'))))\n",
    "        \n",
    "preds_train=np.array(preds_train).T\n",
    "preds_test=np.array(preds_test).T    \n",
    "print(preds_train.shape, preds_test.shape)"
   ]
  },
  {
   "cell_type": "code",
   "execution_count": 12,
   "metadata": {
    "collapsed": false
   },
   "outputs": [],
   "source": [
    "class ModelEnsembler(object):\n",
    "    \"\"\"\n",
    "    Implement stacking to combine several models.\n",
    "    1. BaggingEnsembler: take the simple average of level-0 predictions on the test set\n",
    "    2. LSEnsembler: linear regression to minimize the least square lost of a linear combination of model predictions on the train set. \n",
    "             the optimized coefficients are used to combine model predictions on the test set.             \n",
    "    \"\"\"\n",
    "    def __init__(self,generalizer=None):\n",
    "        self.coef_ = 0\n",
    "        \n",
    "    # 1. BaggingEnsembler   \n",
    "    def Bagging(self, preds_test):  # preds_test in the form of N x M, N: # of samples, M: # of level-0 model preds.\n",
    "        return np.mean(preds_test, axis=1)   # average over M model preds\n",
    "    \n",
    "    # 2. LSEnsembler\n",
    "    def fit_LS(self, X, y): # X = preds_train in the form of N x M\n",
    "        self.coef_ = sp.optimize.nnls(X, y)[0] #argmin_w||Xw-y||_2 solver for w\n",
    "        self.coef_ = np.array(map(lambda x: x/sum(self.coef_), self.coef_)) # normalized\n",
    "\n",
    "    def predict_proba(self, X):  # X = preds_test in the form of N x M \n",
    "        return sp.dot(X, self.coef_)\n",
    "    \n",
    "    def score(self, y, ypreds):  # AUC score\n",
    "        fpr, tpr, _ = roc_curve(y, ypreds)\n",
    "        return auc(fpr, tpr)"
   ]
  },
  {
   "cell_type": "code",
   "execution_count": 13,
   "metadata": {
    "collapsed": true
   },
   "outputs": [],
   "source": [
    "# generate submission files\n",
    "def save_results(test_ID, predictions, filename):\n",
    "    \"\"\"Given a vector of predictions, save results in CSV format.\"\"\"\n",
    "    with open(filename, 'w') as f:\n",
    "        f.write(\"ID,target\\n\")\n",
    "        for i in range(len(test_ID)):\n",
    "            f.write(\"%d,%f\\n\" % (test_ID[i], predictions[i]))"
   ]
  },
  {
   "cell_type": "markdown",
   "metadata": {},
   "source": [
    "## 2. Model Ensembling"
   ]
  },
  {
   "cell_type": "markdown",
   "metadata": {},
   "source": [
    "### 2.0 Greedy Bagging with replacememnt"
   ]
  },
  {
   "cell_type": "code",
   "execution_count": 14,
   "metadata": {
    "collapsed": false
   },
   "outputs": [],
   "source": [
    "def greedy_bagging(preds_train, preds_test, y, nth=20):\n",
    "    m,n = preds_train.shape\n",
    "    bag_count=np.zeros(n) # to store the count of each model\n",
    "    ytrain_accum = np.zeros(m) # to store the sum of selected ypred_train\n",
    "    \n",
    "    hist_auc=[]\n",
    "    \n",
    "    num_sel_models = 0\n",
    "    best_auc = -9999\n",
    "    \n",
    "    true_best = -9999\n",
    "    \n",
    "    yauc = np.zeros(n)\n",
    "    ytemp = np.zeros((m,n))\n",
    "    \n",
    "    while num_sel_models<nth:\n",
    "        for i in range(n):\n",
    "            ytemp[:,i] = (ytrain_accum*num_sel_models + preds_train[:,i])/float(num_sel_models+1)           \n",
    "            yauc[i] = metrics.roc_auc_score(y, ytemp[:,i])\n",
    "        \n",
    "        max_ind = np.argmax(yauc)\n",
    "        print('The best auc in round %d: %9.7f'%(num_sel_models,yauc[max_ind]))\n",
    "        \n",
    "        if yauc[max_ind]>true_best:\n",
    "            true_best=yauc[max_ind]\n",
    "            count_best=np.copy(bag_count)\n",
    "                \n",
    "        if yauc[max_ind]>best_auc*0.95:\n",
    "            best_auc = yauc[max_ind]\n",
    "            ytrain_accum = ytemp[:,max_ind]\n",
    "            num_sel_models += 1\n",
    "            bag_count[max_ind] += 1\n",
    "            \n",
    "            hist_auc.append(best_auc)\n",
    "        else:\n",
    "            break\n",
    "    \n",
    "    plt.gca()\n",
    "    plt.plot(range(len(hist_auc)), hist_auc, 'ro--')\n",
    "    plt.legend(loc='best',fontsize='medium')\n",
    "    plt.xlabel('# of models')\n",
    "    plt.ylabel('AUC score')\n",
    "    plt.ylim([min(hist_auc) - .001, max(hist_auc) + .001])\n",
    "\n",
    "    str1=time.strftime(\"%b%d%Y_%H%M%S\", time.localtime())\n",
    "    \n",
    "    plt.savefig(path_to_results+'greedy-model-ensembling_'+str1+'.png')\n",
    "    plt.show()\n",
    "    \n",
    "    return np.dot(preds_test,bag_count/float(num_sel_models)), bag_count, true_best, count_best,hist_auc"
   ]
  },
  {
   "cell_type": "code",
   "execution_count": 15,
   "metadata": {
    "collapsed": false
   },
   "outputs": [
    {
     "name": "stdout",
     "output_type": "stream",
     "text": [
      "The best auc in round 0: 0.7946198\n",
      "The best auc in round 1: 0.7956130\n",
      "The best auc in round 2: 0.7956625\n",
      "The best auc in round 3: 0.7957415\n",
      "The best auc in round 4: 0.7957617\n",
      "The best auc in round 5: 0.7957709\n",
      "The best auc in round 6: 0.7957957\n",
      "The best auc in round 7: 0.7958090\n",
      "The best auc in round 8: 0.7958135\n",
      "The best auc in round 9: 0.7958072\n",
      "The best auc in round 10: 0.7957900\n",
      "The best auc in round 11: 0.7957968\n",
      "The best auc in round 12: 0.7958109\n",
      "The best auc in round 13: 0.7958157\n",
      "The best auc in round 14: 0.7958179\n",
      "The best auc in round 15: 0.7958138\n",
      "The best auc in round 16: 0.7958104\n",
      "The best auc in round 17: 0.7958143\n",
      "The best auc in round 18: 0.7958199\n",
      "The best auc in round 19: 0.7958157\n"
     ]
    },
    {
     "data": {
      "image/png": "[encoded data removed]",
      "text/plain": [
       "<matplotlib.figure.Figure at 0x25c0ccc0>"
      ]
     },
     "metadata": {},
     "output_type": "display_data"
    }
   ],
   "source": [
    "start_time=time.clock()\n",
    "\n",
    "y_greedybag, bag_count, true_best, count_best,hist_auc = greedy_bagging(preds_train, preds_test, y, nth=20)"
   ]
  },
  {
   "cell_type": "code",
   "execution_count": 16,
   "metadata": {
    "collapsed": false
   },
   "outputs": [
    {
     "name": "stdout",
     "output_type": "stream",
     "text": [
      "Completed Model Stacking\n",
      "Total running time is 91 seconds\n",
      "\n"
     ]
    }
   ],
   "source": [
    "total_time=time.clock()-start_time\n",
    "print('Completed Model Stacking')\n",
    "print('Total running time is %d seconds\\n' %total_time)"
   ]
  },
  {
   "cell_type": "code",
   "execution_count": 17,
   "metadata": {
    "collapsed": false
   },
   "outputs": [
    {
     "name": "stdout",
     "output_type": "stream",
     "text": [
      "The best auc is 0.7958199 with greedy bagging and the model count is:\n",
      "[ 0.  0.  0.  0.  0.  0.  0.  0.  0.  0.  0.  0.  0.  0.  0.  0.  0.  0.\n",
      "  0.  0.  0.  0.  0.  2.  4.  0.  0.  0.  0.  0.  0.  0.  0.  0.  0.  0.\n",
      "  0.  2.  7.  3.]\n"
     ]
    }
   ],
   "source": [
    "print('The best auc is %9.7f with greedy bagging and the model count is:'%true_best)\n",
    "print(count_best)"
   ]
  },
  {
   "cell_type": "code",
   "execution_count": 18,
   "metadata": {
    "collapsed": false
   },
   "outputs": [
    {
     "name": "stdout",
     "output_type": "stream",
     "text": [
      "Model-1: sgd_0p771702_wl_ appears:\n",
      "       0 times in final 18 ensembles\n",
      "\n",
      "Model-2: sgd_0p770356_wl_ appears:\n",
      "       0 times in final 18 ensembles\n",
      "\n",
      "Model-3: sgd_0p769531_wl_ appears:\n",
      "       0 times in final 18 ensembles\n",
      "\n",
      "Model-4: svm-0p752773_wl_ appears:\n",
      "       0 times in final 18 ensembles\n",
      "\n",
      "Model-5: rf-335_ appears:\n",
      "       0 times in final 18 ensembles\n",
      "\n",
      "Model-6: rf-all_ appears:\n",
      "       0 times in final 18 ensembles\n",
      "\n",
      "Model-7: xgb-665_ appears:\n",
      "       0 times in final 18 ensembles\n",
      "\n",
      "Model-8: xgb-933_ appears:\n",
      "       0 times in final 18 ensembles\n",
      "\n",
      "Model-9: xgb-all_ appears:\n",
      "       0 times in final 18 ensembles\n",
      "\n",
      "Model-10: xgb_0p770751_wl_ appears:\n",
      "       0 times in final 18 ensembles\n",
      "\n",
      "Model-11: xgb_lr_0p777824_wl_ appears:\n",
      "       0 times in final 18 ensembles\n",
      "\n",
      "Model-12: xgb_lr_0p777125_50Segments_wl_ appears:\n",
      "       0 times in final 18 ensembles\n",
      "\n",
      "Model-13: xgb_lr_0p776415_wl_ appears:\n",
      "       0 times in final 18 ensembles\n",
      "\n",
      "Model-14: xgb_0p784886_wl_ appears:\n",
      "       0 times in final 18 ensembles\n",
      "\n",
      "Model-15: xgb_0p785604_wl_ appears:\n",
      "       0 times in final 18 ensembles\n",
      "\n",
      "Model-16: xgb_0p785120_wl_ appears:\n",
      "       0 times in final 18 ensembles\n",
      "\n",
      "Model-17: xgb_0p784916_wl_ appears:\n",
      "       0 times in final 18 ensembles\n",
      "\n",
      "Model-18: xgb_0p785155_wl_ appears:\n",
      "       0 times in final 18 ensembles\n",
      "\n",
      "Model-19: xgb_0p785468_wl_ appears:\n",
      "       0 times in final 18 ensembles\n",
      "\n",
      "Model-20: xgb_0p785787_wl_ appears:\n",
      "       0 times in final 18 ensembles\n",
      "\n",
      "Model-21: xgb_0p785890_wl_ appears:\n",
      "       0 times in final 18 ensembles\n",
      "\n",
      "Model-22: xgb_0p786040_wl_ appears:\n",
      "       0 times in final 18 ensembles\n",
      "\n",
      "Model-23: xgb_0p786290_wl_ appears:\n",
      "       0 times in final 18 ensembles\n",
      "\n",
      "Model-24: xgbmeta_0p793611_wl_ appears:\n",
      "       2 times in final 18 ensembles\n",
      "\n",
      "Model-25: xgbmeta_0p793971_wl_ appears:\n",
      "       4 times in final 18 ensembles\n",
      "\n",
      "Model-26: xgb_Oct192015134751_AUC_0p787695_sl_ appears:\n",
      "       0 times in final 18 ensembles\n",
      "\n",
      "Model-27: xgb_Oct192015065533_AUC_0p787632_sl_ appears:\n",
      "       0 times in final 18 ensembles\n",
      "\n",
      "Model-28: xgb_Oct192015133017_AUC_0p787608_sl_ appears:\n",
      "       0 times in final 18 ensembles\n",
      "\n",
      "Model-29: xgb_Oct192015101525_AUC_0p787437_sl_ appears:\n",
      "       0 times in final 18 ensembles\n",
      "\n",
      "Model-30: xgb_Oct192015120324_AUC_0p787252_sl_ appears:\n",
      "       0 times in final 18 ensembles\n",
      "\n",
      "Model-31: xgb_Oct192015085532_AUC_0p787197_sl_ appears:\n",
      "       0 times in final 18 ensembles\n",
      "\n",
      "Model-32: xgb_Oct192015040605_AUC_0p786733_sl_ appears:\n",
      "       0 times in final 18 ensembles\n",
      "\n",
      "Model-33: xgb_Oct192015051026_AUC_0p786338_sl_ appears:\n",
      "       0 times in final 18 ensembles\n",
      "\n",
      "Model-34: xgb_Oct192015120134_AUC_0p785606_sl_ appears:\n",
      "       0 times in final 18 ensembles\n",
      "\n",
      "Model-35: xgb_Oct192015052747_AUC_0p781263_sl_ appears:\n",
      "       0 times in final 18 ensembles\n",
      "\n",
      "Model-36: xgb_Oct192015065922_AUC_0p780004_sl_ appears:\n",
      "       0 times in final 18 ensembles\n",
      "\n",
      "Model-37: xgb_Oct192015154017_AUC_0p787790_sl_ appears:\n",
      "       0 times in final 18 ensembles\n",
      "\n",
      "Model-38: meta_xgb_Oct192015184228_AUC_0p794324_sl_ appears:\n",
      "       2 times in final 18 ensembles\n",
      "\n",
      "Model-39: meta_xgb_Oct192015184936_AUC_0p794619_sl_ appears:\n",
      "       7 times in final 18 ensembles\n",
      "\n",
      "Model-40: meta_xgb_Oct192015185918_AUC_0p794108_sl_ appears:\n",
      "       3 times in final 18 ensembles\n",
      "\n"
     ]
    }
   ],
   "source": [
    "for i, model in enumerate(results):\n",
    "    print('Model-%d: %s appears:'%(i+1, model))\n",
    "    print('       %d times in final %d ensembles\\n'%(count_best[i], count_best.sum()))"
   ]
  },
  {
   "cell_type": "code",
   "execution_count": 19,
   "metadata": {
    "collapsed": false
   },
   "outputs": [
    {
     "name": "stdout",
     "output_type": "stream",
     "text": [
      "The weight of models is:\n",
      "[ 0.          0.          0.          0.          0.          0.          0.\n",
      "  0.          0.          0.          0.          0.          0.          0.\n",
      "  0.          0.          0.          0.          0.          0.          0.\n",
      "  0.          0.          0.11111111  0.22222222  0.          0.          0.\n",
      "  0.          0.          0.          0.          0.          0.          0.\n",
      "  0.          0.          0.11111111  0.38888889  0.16666667]\n"
     ]
    }
   ],
   "source": [
    "count_best = np.array(count_best)\n",
    "coef=count_best/float(count_best.sum())\n",
    "print('The weight of models is:' )\n",
    "print(coef)\n",
    "\n",
    "yfinal = np.dot(preds_test, coef)"
   ]
  },
  {
   "cell_type": "code",
   "execution_count": 20,
   "metadata": {
    "collapsed": true
   },
   "outputs": [],
   "source": [
    "str1=time.strftime(\"%b%d%Y_%H%M%S\", time.localtime())\n",
    "outfile_greedy = path_to_results + 'ypred_modelensembling_greedy_'+str1+'.csv'\n",
    "\n",
    "save_results(test_ID, yfinal, outfile_greedy)"
   ]
  },
  {
   "cell_type": "markdown",
   "metadata": {},
   "source": [
    "### 2.1 Bagging"
   ]
  },
  {
   "cell_type": "code",
   "execution_count": 21,
   "metadata": {
    "collapsed": false
   },
   "outputs": [],
   "source": [
    "ME_BG = ModelEnsembler()\n",
    "yme_BG = ME_BG.Bagging(preds_test)"
   ]
  },
  {
   "cell_type": "markdown",
   "metadata": {},
   "source": [
    "### 2.2 Least-square"
   ]
  },
  {
   "cell_type": "code",
   "execution_count": 22,
   "metadata": {
    "collapsed": false
   },
   "outputs": [
    {
     "name": "stdout",
     "output_type": "stream",
     "text": [
      "LS AUC: 0.7957723 with weight:\n",
      "[ 0.          0.          0.00871227  0.          0.          0.02898999\n",
      "  0.          0.          0.          0.          0.          0.          0.\n",
      "  0.          0.          0.          0.          0.          0.          0.\n",
      "  0.          0.          0.          0.12279714  0.25077386  0.          0.\n",
      "  0.          0.          0.          0.          0.          0.          0.\n",
      "  0.          0.          0.          0.03925452  0.34698394  0.20248828]\n"
     ]
    }
   ],
   "source": [
    "ME_LS = ModelEnsembler()\n",
    "ME_LS.fit_LS(preds_train, y)\n",
    "yme_LS = ME_LS.predict_proba(preds_test)\n",
    "\n",
    "print('LS AUC: %9.7f with weight:'%metrics.roc_auc_score(y, ME_LS.predict_proba(preds_train)))\n",
    "print(ME_LS.coef_)"
   ]
  },
  {
   "cell_type": "markdown",
   "metadata": {},
   "source": [
    "### 2.3 Save Results for bagging and LS"
   ]
  },
  {
   "cell_type": "code",
   "execution_count": 23,
   "metadata": {
    "collapsed": true
   },
   "outputs": [],
   "source": [
    "str1=time.strftime(\"%b%d%Y_%H%M%S\", time.localtime())\n",
    "outfile_BG = path_to_results + 'ypred_modelensembling_bagging_'+str1+'.csv'\n",
    "outfile_LS = path_to_results + 'ypred_modelensembling_leastsquare_'+str1+'.csv'\n",
    "\n",
    "save_results(test_ID, yme_BG, outfile_BG)\n",
    "save_results(test_ID, yme_LS, outfile_LS)"
   ]
  }
 ],
 "metadata": {
  "kernelspec": {
   "display_name": "Python 2",
   "language": "python",
   "name": "python2"
  },
  "language_info": {
   "codemirror_mode": {
    "name": "ipython",
    "version": 2
   },
   "file_extension": ".py",
   "mimetype": "text/x-python",
   "name": "python",
   "nbconvert_exporter": "python",
   "pygments_lexer": "ipython2",
   "version": "2.7.10"
  }
 },
 "nbformat": 4,
 "nbformat_minor": 0
}
