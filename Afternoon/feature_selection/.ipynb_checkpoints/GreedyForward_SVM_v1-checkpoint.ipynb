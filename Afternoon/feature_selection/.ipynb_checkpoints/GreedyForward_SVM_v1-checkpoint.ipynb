{
 "cells": [
  {
   "cell_type": "code",
   "execution_count": 2,
   "metadata": {
    "collapsed": false
   },
   "outputs": [],
   "source": [
    "import pandas as pd\n",
    "import numpy as np\n",
    "from sklearn import metrics\n",
    "from sklearn.feature_selection import VarianceThreshold\n",
    "from sklearn import preprocessing\n",
    "from sklearn import cross_validation\n",
    "from sklearn import linear_model\n",
    "import warnings\n",
    "import mytimer\n",
    "import time\n",
    "from sklearn.feature_extraction import DictVectorizer\n",
    "from scipy import sparse\n",
    "import pickle\n",
    "mytimer=mytimer.Timer()\n",
    "warnings.simplefilter(\"ignore\")\n",
    "warnings.filterwarnings(\"ignore\")\n",
    "from datetime import datetime\n",
    "%matplotlib inline"
   ]
  },
  {
   "cell_type": "code",
   "execution_count": 16,
   "metadata": {
    "collapsed": false
   },
   "outputs": [
    {
     "name": "stdout",
     "output_type": "stream",
     "text": [
      "Once deleted, variables cannot be recovered. Proceed (y/[n])? y\n"
     ]
    }
   ],
   "source": [
    "%reset"
   ]
  },
  {
   "cell_type": "code",
   "execution_count": 2,
   "metadata": {
    "collapsed": false
   },
   "outputs": [
    {
     "data": {
      "text/plain": [
       "'C:\\\\Users\\\\liw5\\\\SprintLeaf\\\\notebook'"
      ]
     },
     "execution_count": 2,
     "metadata": {},
     "output_type": "execute_result"
    }
   ],
   "source": [
    "pwd"
   ]
  },
  {
   "cell_type": "markdown",
   "metadata": {},
   "source": [
    "## Loading and combining processed dense and sparse matrix"
   ]
  },
  {
   "cell_type": "code",
   "execution_count": 30,
   "metadata": {
    "collapsed": true
   },
   "outputs": [],
   "source": [
    "X=np.load('./mostrecentinput/nxtrain_standard_original0.npy')\n",
    "X1= np.load('./mostrecentinput/nxtrain_standard_derived0.npy')\n",
    "\n",
    "#y= pd.read_pickle('../notebook/mostrecentinput/ytrain2.p','rb')\n",
    "X2=pickle.load(\"./mostrecentinput/time_series_derived_train2.dat\",\"rb\")\n",
    "X3=pickle.load(\"./mostrecentinput/time_series_original_train2.dat\",\"rb\")\n",
    "\n",
    "y=pickle.load(open(\"./mostrecentinput/ytrain2.dat\",\"rb\"))\n",
    "\n",
    "X=np.hstack((X,X1,X2,X3))\n",
    "del X1,X2,X3"
   ]
  },
  {
   "cell_type": "code",
   "execution_count": 56,
   "metadata": {
    "collapsed": false
   },
   "outputs": [],
   "source": [
    "# separate data into train and test dataset\n",
    "kf = cross_validation.StratifiedKFold(y, n_folds=3, shuffle=True, random_state=42)\n",
    "for train_ind, test_ind in kf:\n",
    "    x_train= X[train_ind,:]\n",
    "    x_test = X[test_ind,:]\n",
    "    y_train= y[train_ind]\n",
    "    y_test = y[test_ind]\n",
    "    break"
   ]
  },
  {
   "cell_type": "code",
   "execution_count": 58,
   "metadata": {
    "collapsed": true
   },
   "outputs": [],
   "source": [
    "def cv_loop(X, y, model, N, SEED=40, diagnostics=False, randomsplit=False):   # N random splits into train and test sets with the test of 1/N fraction\n",
    "    AUC = np.zeros(N)\n",
    "    \n",
    "    skf = cross_validation.StratifiedKFold(y, n_folds=N) # K-fold cv splitting\n",
    "    i=0\n",
    "    for train, cv in skf:\n",
    "        if randomsplit: # random split of the row index\n",
    "            train, cv = cross_validation.train_test_split(range(len(y)), test_size=1.0/float(N), random_state = i*SEED)\n",
    "\n",
    "        roc_auc,preds_cv = model.fit_N_Predict(X[train,:], y[train],X[cv,:],y[cv])\n",
    "        \n",
    "      \n",
    "        \n",
    "        #fpr, tpr, _ = metrics.roc_curve(y[cv], preds_cv)\n",
    "        #roc_auc = metrics.auc(fpr, tpr)\n",
    "        \n",
    "        #print \"AUC (fold %d/%d): %f\" % (i + 1, N, roc_auc)\n",
    "        AUC[i] = roc_auc\n",
    "    \n",
    "        # plot learning curve and roc curve for diagonistics purpose\n",
    "        if diagnostics and i == 0:  # only plot for first fold\n",
    "            print(\"plotting ROC curve\")\n",
    "            plot_roc(fpr, tpr)\n",
    "            print(\"plotting learning curve\")\n",
    "            learning_curve(model, X.ix[train,:], y[train], X.ix[cv,:], y[cv])\n",
    "        i+=1\n",
    "        \n",
    "    mean_auc = AUC.mean()\n",
    "    std_auc = AUC.std()\n",
    "    return mean_auc, std_auc  # Return the mean and std of the cv AUC score"
   ]
  },
  {
   "cell_type": "code",
   "execution_count": 59,
   "metadata": {
    "collapsed": false
   },
   "outputs": [],
   "source": [
    "class SVMClassifier():\n",
    "    def __init__(self, num_boost_round=10, **params):\n",
    "        self.clf = None\n",
    "        self.params = params\n",
    "        self.niter=100\n",
    " \n",
    "    def fit_N_Predict(self, x_train,y_train,x_test,y_test):\n",
    "        niter=self.niter\n",
    "        preds=0\n",
    "        for i in range(niter):\n",
    "            clf1= linear_model.SGDClassifier()\n",
    "            clf1.fit(x_train, y_train)\n",
    "            pred0=clf1.predict(x_test)\n",
    "            preds=preds+pred0\n",
    "            #if np.mod(i,10)==0: print(i,end=' ')\n",
    "        preds=preds/float(niter)\n",
    "        AUC=metrics.roc_auc_score(y_test, preds)\n",
    "        return AUC,preds\n",
    " \n",
    "    def get_params(self, deep=True):\n",
    "        return self.params\n",
    " \n",
    "    def set_params(self, **params):\n",
    "        self.params.update(params)\n",
    "        return self\n"
   ]
  },
  {
   "cell_type": "code",
   "execution_count": 60,
   "metadata": {
    "collapsed": false
   },
   "outputs": [],
   "source": [
    "def feature_selectionSVM(model, params, Xtrain, ytrain, diagonistics=False, nth=2):\n",
    "    \"Greedy (forward) feature selection until the performance stops improving for 20 steps\"\n",
    "    \n",
    "    print (\"Performing greedy feature selection...\")\n",
    "    score_hist = []\n",
    "    good_features = set([])\n",
    "    # Greedy foward feature selection loop\n",
    "    SEED=40\n",
    "    count = 0\n",
    "    nfeatures = 0\n",
    "    highest_score = -9999\n",
    "    MODEL = model.set_params(random_state=SEED)\n",
    "    #MODEL.set_params(params)\n",
    "    \n",
    "    while len(score_hist) < 2 or count < nth: # stop until the performance does not improve within nth steps.\n",
    "        scores = []\n",
    "        bestAUC=0\n",
    "        ncount=0\n",
    "        AUC_All=np.zeros(Xtrain.shape[1])\n",
    "        f_All=np.zeros(Xtrain.shape[1]).astype(int)\n",
    "        print('%s\\t ' % (datetime.now()))\n",
    "        for f in range(Xtrain.shape[1]):\n",
    "            if f not in good_features:\n",
    "                feats = list(good_features) + [f]\n",
    "                X11=Xtrain[:,feats]\n",
    "                score = cv_loop(Xtrain[:,feats], y, MODEL, N=2)\n",
    "                AUC_All[ncount]=score[0]\n",
    "                f_All[ncount]=f\n",
    "                ncount=ncount+1\n",
    "                if score[0]>bestAUC:\n",
    "                    bestAUC=score[0]\n",
    "                    print('\\t\\t\\t\\t feature #: %d\\tcurrent AUC: %f' % (f, bestAUC))\n",
    "                scores.append((score, f))\n",
    "\n",
    "        best_score = sorted(scores)[-1]\n",
    "        best_score0=best_score[0][0]\n",
    "        best_feature = sorted(scores)[-1][1]\n",
    "        \n",
    "        if best_score0>highest_score:\n",
    "            highest_score = best_score0\n",
    "            nfeatures +=1\n",
    "        else:\n",
    "            count +=1\n",
    "        print(highest_score)    \n",
    "        index=np.argsort(AUC_All)[::-1]\n",
    "        for i in range(5):\n",
    "             good_features.add(f_All[index[i]])\n",
    "            \n",
    "        score_hist.append(best_score)\n",
    "        print (\"Current features: %s\" % sorted(list(good_features)))\n",
    "        print('Feature selection: %d features selected' % len(good_features))\n",
    "        \n",
    "        str1=time.strftime(\"%b%d%Y_%H%M%S\", time.localtime())\n",
    "        with open(('SDGSVM_' + str(len(good_features)) +'Features '+str1 + '_AUC_' + '0p'+ str(int(highest_score*1e5))  +'.p'), 'wb') as f:\n",
    "            pickle.dump(good_features, f, protocol =2)  \n",
    "\n",
    "    good_features = good_features[0:nfeatures]\n",
    "    good_features = sorted(list(good_features))\n",
    "    print('Feature selection: %d features selected'%nfeatures)\n",
    "    \n",
    "    if diagonistics:\n",
    "        plt.clf()\n",
    "        plt.plot(range(len(score_hist)),score_hist,'ro--')\n",
    "        plt.xlabel('number of selected features')\n",
    "        plt.ylabel('AUC score')\n",
    "        plt.title('Feature-selection curve')\n",
    "        plt.savefig('plots/featsel_curve.png')\n",
    "        \n",
    "    return good_features"
   ]
  },
  {
   "cell_type": "code",
   "execution_count": null,
   "metadata": {
    "collapsed": false
   },
   "outputs": [
    {
     "name": "stdout",
     "output_type": "stream",
     "text": [
      "Performing greedy feature selection...\n",
      "2015-10-13 18:13:17.039408\t \n",
      "\t\t\t\t feature #: 0\tcurrent AUC: 0.500080\n",
      "\t\t\t\t feature #: 7\tcurrent AUC: 0.500696"
     ]
    }
   ],
   "source": [
    "clf = SVMClassifier(n_iter=100)\n",
    "#clf = SVMClassifier(loss='log',average=True,n_iter=100)\n",
    "\n",
    "params=0\n",
    "good_features=feature_selectionSVM(clf, params,X, y, diagonistics=False, nth=2)\n"
   ]
  },
  {
   "cell_type": "code",
   "execution_count": null,
   "metadata": {
    "collapsed": true
   },
   "outputs": [],
   "source": [
    "# Logistic regression classifer\n",
    "print ('start Logistic regression using Scikit learn')\n",
    "\n",
    "mytimer.startTimer()\n",
    "clf = linear_model.SGDClassifier(loss='log',average=True,n_iter=100)\n",
    "clf.fit(x_train, y_train)\n",
    "preds=clf.predict_proba(x_test)[:,1]\n",
    "\n",
    "print(metrics.roc_auc_score(y_test, preds))\n",
    "print ('Logistic regression using Scikit learn completed')\n",
    "ElapsedTime,sec=mytimer.endTimer(display=True)\n",
    "AUC_Logistic=metrics.roc_auc_score(y_test, preds)\n",
    "\n",
    "str1=time.strftime(\"%b%d%Y_%H%M%S\", time.localtime())\n",
    "preds.dump('./MetaResults/Logistic_'+str1 + '_AUC_' + '0p'+ str(int(AUC_Logistic*1e5)) \n",
    "           +'Time' +str(ElapsedTime) + '_WithCleanedData.p')\n"
   ]
  }
 ],
 "metadata": {
  "kernelspec": {
   "display_name": "Python 3",
   "language": "python",
   "name": "python3"
  },
  "language_info": {
   "codemirror_mode": {
    "name": "ipython",
    "version": 3
   },
   "file_extension": ".py",
   "mimetype": "text/x-python",
   "name": "python",
   "nbconvert_exporter": "python",
   "pygments_lexer": "ipython3",
   "version": "3.4.3"
  }
 },
 "nbformat": 4,
 "nbformat_minor": 0
}
