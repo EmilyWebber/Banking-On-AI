{
 "cells": [
  {
   "cell_type": "markdown",
   "metadata": {},
   "source": [
    "##Which derived features have been selected?"
   ]
  },
  {
   "cell_type": "markdown",
   "metadata": {},
   "source": [
    "###Backward selection using XGBoost, 482 features in total"
   ]
  },
  {
   "cell_type": "code",
   "execution_count": 2,
   "metadata": {
    "collapsed": true
   },
   "outputs": [],
   "source": [
    "import pandas as pd\n",
    "import numpy as np\n",
    "import matplotlib.pylab as plt\n",
    "#import seaborn as sns\n",
    "%matplotlib inline\n",
    "import requests\n",
    "#from pattern import web\n",
    "import operator\n",
    "from sklearn.preprocessing import LabelEncoder\n",
    "from sklearn.preprocessing import OneHotEncoder,StandardScaler\n",
    "from sklearn.feature_extraction import DictVectorizer\n",
    "from sklearn.feature_selection import VarianceThreshold\n",
    "from sklearn import cross_validation\n",
    "import gc\n",
    "from sklearn import metrics\n",
    "from scipy import stats\n",
    "from sklearn.base import TransformerMixin\n",
    "from datetime import datetime as dt\n",
    "from math import isnan\n",
    "from numpy import ma\n",
    "from scipy.sparse import hstack,csr_matrix\n",
    "import pickle"
   ]
  },
  {
   "cell_type": "code",
   "execution_count": 10,
   "metadata": {
    "collapsed": true
   },
   "outputs": [],
   "source": [
    "derived_features = ['1. relative_personal_income', '2. relocation_personal_income',\n",
    "                   '3. state_average_income_c',    '4. state_average_income_f',\n",
    "                   '5. state_positive_response_c', '6. state_positive_response_f',\n",
    "                   '7. state_total_response_c',    '8. state_total_response_f',\n",
    "                   '9. relative_personal_income_binary', '10. relocation']"
   ]
  },
  {
   "cell_type": "code",
   "execution_count": 58,
   "metadata": {
    "collapsed": false
   },
   "outputs": [],
   "source": [
    "# features=np.load('./features/XGB_482Features_backward_selection_XX1X2X3X4.p')\n",
    "# features=np.load('./features/XGB_335Features Oct172015_044255_AUC_0p76115.p') no\n",
    "# features=np.load('./features/SDGLogistic_Oct172015032138_AUC_0.768923541152.p')\n",
    "# features=np.load('./features/SDGRF_Oct172015125634_AUC_0.755531555054_with_cat_variables.p')\n",
    "# features=np.load('./features/XGBoost_Oct172015212459_AUC_0.764813590574FeatNum199.p')\n",
    "# features=np.load('./features/SDGSVM_Oct172015231303_AUC_0.748204837403.p')"
   ]
  },
  {
   "cell_type": "code",
   "execution_count": 59,
   "metadata": {
    "collapsed": true
   },
   "outputs": [],
   "source": [
    "features = np.asarray(features)"
   ]
  },
  {
   "cell_type": "code",
   "execution_count": 60,
   "metadata": {
    "collapsed": false
   },
   "outputs": [],
   "source": [
    "features = features[(features>=1448)&(features<=1457)] - 1448"
   ]
  },
  {
   "cell_type": "code",
   "execution_count": 61,
   "metadata": {
    "collapsed": false
   },
   "outputs": [
    {
     "data": {
      "text/plain": [
       "['state_total_response_c']"
      ]
     },
     "execution_count": 61,
     "metadata": {},
     "output_type": "execute_result"
    }
   ],
   "source": [
    "[derived_features[i] for i in features]"
   ]
  },
  {
   "cell_type": "code",
   "execution_count": 62,
   "metadata": {
    "collapsed": false
   },
   "outputs": [
    {
     "data": {
      "text/plain": [
       "array([6])"
      ]
     },
     "execution_count": 62,
     "metadata": {},
     "output_type": "execute_result"
    }
   ],
   "source": [
    "features"
   ]
  },
  {
   "cell_type": "code",
   "execution_count": 47,
   "metadata": {
    "collapsed": true
   },
   "outputs": [],
   "source": [
    "# with open('derived_features_SDGLogistic.p', 'wb') as f1:\n",
    "#     pickle.dump(features, f1, protocol =2)\n",
    "with open('derived_features_random_forest.p', 'wb') as f1:\n",
    "    pickle.dump(features, f1, protocol =2)"
   ]
  },
  {
   "cell_type": "code",
   "execution_count": null,
   "metadata": {
    "collapsed": true
   },
   "outputs": [],
   "source": []
  }
 ],
 "metadata": {
  "kernelspec": {
   "display_name": "Python 3",
   "language": "python",
   "name": "python3"
  },
  "language_info": {
   "codemirror_mode": {
    "name": "ipython",
    "version": 3
   },
   "file_extension": ".py",
   "mimetype": "text/x-python",
   "name": "python",
   "nbconvert_exporter": "python",
   "pygments_lexer": "ipython3",
   "version": "3.4.3"
  }
 },
 "nbformat": 4,
 "nbformat_minor": 0
}
