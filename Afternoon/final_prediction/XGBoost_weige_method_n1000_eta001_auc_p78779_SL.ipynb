{
 "cells": [
  {
   "cell_type": "code",
   "execution_count": 1,
   "metadata": {
    "collapsed": false
   },
   "outputs": [],
   "source": [
    "import pandas as pd\n",
    "import numpy as np\n",
    "import matplotlib.pylab as plt\n",
    "from scipy import stats,sparse\n",
    "from sklearn.base import TransformerMixin\n",
    "from datetime import datetime as dt\n",
    "from math import isnan\n",
    "from numpy import ma\n",
    "import pickle as pickle\n",
    "import xgboost as xgb\n",
    "import time\n",
    "from pandas import *\n",
    "from sklearn.preprocessing import LabelEncoder\n",
    "from sklearn.ensemble import RandomForestClassifier \n",
    "\n",
    "import json\n",
    "from sklearn.metrics import roc_curve, auc\n",
    "from re import sub\n",
    "from collections import defaultdict\n",
    "import scipy as sp\n",
    "\n",
    "from sklearn.cross_validation import StratifiedKFold,cross_val_score\n",
    "from sklearn.grid_search import GridSearchCV\n",
    "from sklearn.metrics import classification_report,confusion_matrix\n",
    "from sklearn import linear_model\n",
    "from sklearn import metrics\n",
    "\n",
    "#from ModelClassifier import PAClassifier,SGDSVMClassifier,XGBoostClassifier"
   ]
  },
  {
   "cell_type": "code",
   "execution_count": 2,
   "metadata": {
    "collapsed": true
   },
   "outputs": [],
   "source": [
    "with open('features/XGB_335Features Oct172015_044255_AUC_0p76115.p', 'rb') as fid1:\n",
    "    xgb_goodfeat1 = pickle.load(fid1)\n",
    "with open('features/XGB_482Features_backward_selection_XX1X2X3X4.p', 'rb') as fid2:\n",
    "    xgb_goodfeat2 = pickle.load(fid2)\n",
    "with open('features/XGB_5features_backward_selection_X5.p', 'rb') as fid3:\n",
    "    xgb_goodfeat3 = pickle.load(fid3)\n",
    "with open('features/SDGRF_Oct172015125634_AUC_0.755531555054_with_cat_variables.p', 'rb') as fid4:\n",
    "    xgb_goodfeat4 = pickle.load(fid4)\n",
    "with open('features/XGBoost_Oct172015212459_AUC_0.764813590574FeatNum199.p', 'rb') as fid5:\n",
    "    xgb_goodfeat5 = pickle.load(fid5)"
   ]
  },
  {
   "cell_type": "code",
   "execution_count": null,
   "metadata": {
    "collapsed": false
   },
   "outputs": [],
   "source": []
  },
  {
   "cell_type": "code",
   "execution_count": 3,
   "metadata": {
    "collapsed": true
   },
   "outputs": [],
   "source": [
    "FeaturesSelected=list(set(list(xgb_goodfeat1) + xgb_goodfeat2 + xgb_goodfeat3 + list(xgb_goodfeat4) +list(xgb_goodfeat5)))"
   ]
  },
  {
   "cell_type": "code",
   "execution_count": 4,
   "metadata": {
    "collapsed": false
   },
   "outputs": [
    {
     "data": {
      "text/plain": [
       "950"
      ]
     },
     "execution_count": 4,
     "metadata": {},
     "output_type": "execute_result"
    }
   ],
   "source": [
    "len(FeaturesSelected)"
   ]
  },
  {
   "cell_type": "code",
   "execution_count": 5,
   "metadata": {
    "collapsed": false
   },
   "outputs": [],
   "source": [
    "X=np.load('./pickledata/nxtrain_standard_original0.npy')\n",
    "X1= np.load('./pickledata/nxtrain_standard_derived0.npy')\n",
    "X2=pd.read_pickle(\"./pickledata/time_series_derived_standard_train2.dat\")\n",
    "X3=pd.read_pickle(\"./pickledata/time_series_original_standard_train2.dat\")\n",
    "X4=pd.read_pickle(\"./pickledata/cat_numeric_th60_standard_train2.dat\")\n",
    "X5=pd.read_pickle(\"./pickledata/cat_le_train2.dat\") \n",
    "X=np.hstack((X,X1,X2,X3,X4,X5))\n",
    "\n",
    "y=pickle.load(open(\"./pickledata/ytrain2.dat\",\"rb\"))\n",
    "xtrain=X[:,FeaturesSelected]\n",
    "del X,X1,X2,X3, X4, X5\n",
    "\n",
    "X_test=np.load('./pickledata/nxtest_standard_original0.npy')\n",
    "X_test1= np.load('./pickledata/nxtest_standard_derived0.npy')\n",
    "X_test2=pd.read_pickle(\"./pickledata/time_series_derived_standard_test2.dat\")\n",
    "X_test3=pd.read_pickle(\"./pickledata/time_series_original_standard_test2.dat\")\n",
    "X_test4=pd.read_pickle(\"./pickledata/cat_numeric_th60_standard_test2.dat\")\n",
    "X_test5=pd.read_pickle(\"./pickledata/cat_le_test2.dat\") \n",
    "X_test=np.hstack((X_test,X_test1,X_test2,X_test3,X_test4,X_test5))\n",
    "\n",
    "xtest=X_test[:,FeaturesSelected]\n",
    "del X_test,X_test1,X_test2,X_test3,X_test4,X_test5"
   ]
  },
  {
   "cell_type": "code",
   "execution_count": 6,
   "metadata": {
    "collapsed": false
   },
   "outputs": [],
   "source": [
    "num_boost_vals = 1000\n",
    "eta_vals      = 0.01\n",
    "max_depth_vals = 12\n",
    "colsample_bytree_vals = 0.4\n",
    "min_child_weight_vals = 3 #[3, 9] 3 is better\n",
    "subsample_vals = 0.9\n",
    "# gamma_vals = [0, 1]\n",
    "lambda_vals = 0   # no L2\n",
    "alpha_vals = 1 #l1"
   ]
  },
  {
   "cell_type": "code",
   "execution_count": 7,
   "metadata": {
    "collapsed": false
   },
   "outputs": [
    {
     "name": "stdout",
     "output_type": "stream",
     "text": [
      "0.787790420035\n",
      "Model prediction done!\n"
     ]
    }
   ],
   "source": [
    "KFoldNumber=3\n",
    "\n",
    "kfold = StratifiedKFold(y, KFoldNumber,shuffle=True, random_state=42)\n",
    "ypreds_test_wl=pd.DataFrame()\n",
    "ypreds_train_wl=pd.DataFrame()\n",
    "ypreds_cvindex_wl=pd.DataFrame()\n",
    "AUCValues=np.zeros(KFoldNumber)\n",
    "\n",
    "kfoldnum=0\n",
    "\n",
    "train_predicted=np.zeros(y.shape)\n",
    "\n",
    "params = {'max_depth':max_depth_vals, \n",
    "          'eta':eta_vals, \n",
    "          'objective':'binary:logistic', \n",
    "          'subsample': subsample_vals,\n",
    "          'colsample_bytree': colsample_bytree_vals,\n",
    "          'eval_metric': 'auc',\n",
    "          'min_child_weight': min_child_weight_vals, #3 for this computer\n",
    "          'lambda': lambda_vals,\n",
    "          'alpha':alpha_vals\n",
    "         }\n",
    "\n",
    "for train,cv in kfold:\n",
    "    kfoldnum=kfoldnum+1\n",
    "    cv_index=np.zeros(y.shape)\n",
    "\n",
    "    dtrain = xgb.DMatrix(xtrain[train,:], label=y[train])\n",
    "    clf = xgb.train(params=params,dtrain=dtrain, num_boost_round=num_boost_vals)    \n",
    "\n",
    "    del dtrain\n",
    "\n",
    "    dfulltrain = xgb.DMatrix(xtrain, label=y)\n",
    "    preds_fulltrain = clf.predict(dfulltrain)   \n",
    "\n",
    "    del dfulltrain\n",
    "\n",
    "    dfulltest = xgb.DMatrix(xtest, label=np.zeros(xtest.shape[0]))\n",
    "    preds_fulltest = clf.predict(dfulltest)\n",
    "\n",
    "    del dfulltest\n",
    "\n",
    "    preds_cv=preds_fulltrain[cv]\n",
    "    cv_index[cv]=1\n",
    "\n",
    "    AUC1=metrics.roc_auc_score(y[cv], preds_cv)\n",
    "\n",
    "    ypreds_test_wl['CV'+ str(kfoldnum)] = preds_fulltest\n",
    "    ypreds_train_wl['CV'+ str(kfoldnum)] = preds_fulltrain\n",
    "    ypreds_cvindex_wl['CV'+ str(kfoldnum)] = cv_index\n",
    "    AUCValues[kfoldnum-1]=float(AUC1)\n",
    "#                 print(AUCValues)\n",
    "\n",
    "trainPredict=(ypreds_train_wl*ypreds_cvindex_wl).sum(axis=1)\n",
    "testPredictMean=ypreds_test_wl.mean(axis=1)\n",
    "AUC1=metrics.roc_auc_score(y, trainPredict)\n",
    "print(AUC1)\n",
    "\n",
    "# TestPredict=pd.DataFrame()\n",
    "# TestPredict['ID']=TestID\n",
    "# TestPredict['Probability']=testPredictMean\n",
    "\n",
    "\n",
    "str1=time.strftime(\"%b%d%Y%H%M%S\", time.localtime())\n",
    "filename='xgb_'+str1+'_AUC_0p'+ str(int(AUC1.mean()*1e6))+ '.p'\n",
    "pickle.dump((trainPredict,testPredictMean,ypreds_train_wl,ypreds_test_wl,ypreds_cvindex_wl,AUCValues), \n",
    "            open(\"gridsearch_final/\" + filename,'wb'), protocol =2) \n",
    "\n",
    "print('Model prediction done!')\n",
    "    "
   ]
  },
  {
   "cell_type": "code",
   "execution_count": null,
   "metadata": {
    "collapsed": true
   },
   "outputs": [],
   "source": []
  },
  {
   "cell_type": "code",
   "execution_count": null,
   "metadata": {
    "collapsed": false
   },
   "outputs": [],
   "source": []
  },
  {
   "cell_type": "code",
   "execution_count": null,
   "metadata": {
    "collapsed": true
   },
   "outputs": [],
   "source": []
  }
 ],
 "metadata": {
  "kernelspec": {
   "display_name": "Python 3",
   "language": "python",
   "name": "python3"
  },
  "language_info": {
   "codemirror_mode": {
    "name": "ipython",
    "version": 3
   },
   "file_extension": ".py",
   "mimetype": "text/x-python",
   "name": "python",
   "nbconvert_exporter": "python",
   "pygments_lexer": "ipython3",
   "version": "3.4.3"
  }
 },
 "nbformat": 4,
 "nbformat_minor": 0
}
